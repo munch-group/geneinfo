


import geneinfo as gi
#gi.email('your@email.com')





SHEET_ID='1JSjSLuto3jqdEnnG7JqzeC_1pUZw76n7XueVAYrUOpk'
SHEET_NAME='Sheet1'
url = f'https://docs.google.com/spreadsheets/d/{SHEET_ID}/gviz/tq?tqx=out:csv&sheet={SHEET_NAME}'
url = f'https://docs.google.com/spreadsheets/d/{SHEET_ID}/gviz/tq?tqx=out:csv&sheet={SHEET_NAME}'


gene_lists = gi.utils.GoogleSheet(url=None)
gene_lists





ech90_regions = gene_lists.get('ech90_regions')
ech90_regions
