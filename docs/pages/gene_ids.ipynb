{
 "cells": [
  {
   "cell_type": "raw",
   "metadata": {
    "vscode": {
     "languageId": "raw"
    }
   },
   "source": [
    "---\n",
    "title: ID conversion\n",
    "jupyter:\n",
    "  kernelspec:\n",
    "    display_name: Python 3 (ipykernel)\n",
    "    language: python\n",
    "    name: python3\n",
    "---"
   ]
  },
  {
   "cell_type": "code",
   "execution_count": 1,
   "metadata": {
    "execution": {
     "iopub.execute_input": "2025-02-09T10:27:44.732358Z",
     "iopub.status.busy": "2025-02-09T10:27:44.732103Z",
     "iopub.status.idle": "2025-02-09T10:27:44.753495Z",
     "shell.execute_reply": "2025-02-09T10:27:44.753143Z"
    }
   },
   "outputs": [],
   "source": [
    "#| echo: false\n",
    "#| output: false\n",
    "\n",
    "%load_ext autoreload\n",
    "%autoreload 2"
   ]
  },
  {
   "cell_type": "code",
   "execution_count": 2,
   "metadata": {
    "execution": {
     "iopub.execute_input": "2025-02-09T10:27:44.755881Z",
     "iopub.status.busy": "2025-02-09T10:27:44.755725Z",
     "iopub.status.idle": "2025-02-09T10:27:45.658433Z",
     "shell.execute_reply": "2025-02-09T10:27:45.658130Z"
    },
    "tags": []
   },
   "outputs": [],
   "source": [
    "import geneinfo.information as gi"
   ]
  },
  {
   "cell_type": "markdown",
   "metadata": {},
   "source": [
    "## Conversion from ENSEMBL IDs:"
   ]
  },
  {
   "cell_type": "code",
   "execution_count": 3,
   "metadata": {
    "execution": {
     "iopub.execute_input": "2025-02-09T10:27:45.660269Z",
     "iopub.status.busy": "2025-02-09T10:27:45.660125Z",
     "iopub.status.idle": "2025-02-09T10:27:46.064443Z",
     "shell.execute_reply": "2025-02-09T10:27:46.063811Z"
    }
   },
   "outputs": [
    {
     "data": {
      "text/plain": [
       "93986"
      ]
     },
     "execution_count": 3,
     "metadata": {},
     "output_type": "execute_result"
    }
   ],
   "source": [
    "gi.ensembl2ncbi('ENSG00000128573')"
   ]
  },
  {
   "cell_type": "code",
   "execution_count": 4,
   "metadata": {
    "execution": {
     "iopub.execute_input": "2025-02-09T10:27:46.101142Z",
     "iopub.status.busy": "2025-02-09T10:27:46.100968Z",
     "iopub.status.idle": "2025-02-09T10:27:46.403967Z",
     "shell.execute_reply": "2025-02-09T10:27:46.403455Z"
    }
   },
   "outputs": [
    {
     "data": {
      "text/plain": [
       "'FOXP2'"
      ]
     },
     "execution_count": 4,
     "metadata": {},
     "output_type": "execute_result"
    }
   ],
   "source": [
    "gi.ensembl2symbol('ENSG00000128573')"
   ]
  },
  {
   "cell_type": "markdown",
   "metadata": {},
   "source": [
    "## Conversion to ENSEMBL IDs:"
   ]
  },
  {
   "cell_type": "code",
   "execution_count": 5,
   "metadata": {
    "execution": {
     "iopub.execute_input": "2025-02-09T10:27:46.407000Z",
     "iopub.status.busy": "2025-02-09T10:27:46.406669Z",
     "iopub.status.idle": "2025-02-09T10:27:46.832626Z",
     "shell.execute_reply": "2025-02-09T10:27:46.831828Z"
    }
   },
   "outputs": [
    {
     "data": {
      "text/plain": [
       "'ENSG00000128573'"
      ]
     },
     "execution_count": 5,
     "metadata": {},
     "output_type": "execute_result"
    }
   ],
   "source": [
    "gi.ensembl_id('FOXP2', species='Homo sapiens')"
   ]
  },
  {
   "cell_type": "code",
   "execution_count": 6,
   "metadata": {
    "execution": {
     "iopub.execute_input": "2025-02-09T10:27:46.837199Z",
     "iopub.status.busy": "2025-02-09T10:27:46.836636Z",
     "iopub.status.idle": "2025-02-09T10:27:47.145562Z",
     "shell.execute_reply": "2025-02-09T10:27:47.145073Z"
    }
   },
   "outputs": [
    {
     "data": {
      "text/plain": [
       "['ENSG00000128573', 'ENSG00000128573']"
      ]
     },
     "execution_count": 6,
     "metadata": {},
     "output_type": "execute_result"
    }
   ],
   "source": [
    "gi.ensembl_id(['FOXP2', '93986'], species='Homo sapiens')"
   ]
  },
  {
   "cell_type": "markdown",
   "metadata": {},
   "source": [
    "## Conversion to HGCN gene symbols"
   ]
  },
  {
   "cell_type": "markdown",
   "metadata": {},
   "source": [
    "Species Human sapiens is assumed."
   ]
  },
  {
   "cell_type": "code",
   "execution_count": 7,
   "metadata": {
    "execution": {
     "iopub.execute_input": "2025-02-09T10:27:47.148556Z",
     "iopub.status.busy": "2025-02-09T10:27:47.148353Z",
     "iopub.status.idle": "2025-02-09T10:27:48.635503Z",
     "shell.execute_reply": "2025-02-09T10:27:48.634772Z"
    }
   },
   "outputs": [
    {
     "data": {
      "text/plain": [
       "['BCLAF3', 'BCLAF3', 'BCLAF3']"
      ]
     },
     "execution_count": 7,
     "metadata": {},
     "output_type": "execute_result"
    }
   ],
   "source": [
    "gi.hgcn_symbol(['CXorf23', 'BCLAF3', 'ENSG00000173681'])"
   ]
  },
  {
   "cell_type": "code",
   "execution_count": null,
   "metadata": {},
   "outputs": [],
   "source": []
  }
 ],
 "metadata": {
  "kernelspec": {
   "display_name": "Python 3 (ipykernel)",
   "language": "python",
   "name": "python3"
  },
  "language_info": {
   "codemirror_mode": {
    "name": "ipython",
    "version": 3
   },
   "file_extension": ".py",
   "mimetype": "text/x-python",
   "name": "python",
   "nbconvert_exporter": "python",
   "pygments_lexer": "ipython3",
   "version": "3.12.0"
  },
  "widgets": {
   "application/vnd.jupyter.widget-state+json": {
    "state": {},
    "version_major": 2,
    "version_minor": 0
   }
  }
 },
 "nbformat": 4,
 "nbformat_minor": 4
}
