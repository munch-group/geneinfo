{
 "cells": [
  {
   "cell_type": "markdown",
   "metadata": {},
   "source": [
    "# Gene lists"
   ]
  },
  {
   "cell_type": "code",
   "execution_count": 1,
   "metadata": {
    "tags": []
   },
   "outputs": [],
   "source": [
    "import geneinfo as gi\n",
    "gi.email('your@email.com')"
   ]
  },
  {
   "cell_type": "markdown",
   "metadata": {},
   "source": [
    "Load Google spreadsheet with gene lists"
   ]
  },
  {
   "cell_type": "code",
   "execution_count": 4,
   "metadata": {},
   "outputs": [
    {
     "data": {
      "text/markdown": [
       "| label | description |\n",
       "|:---|:---|\n",
       "| **all_npx** | all NPX genes |\n",
       "| **neuron_genome_proteome** | Neuron proteome (whole genome) |\n",
       "| **neuron_npx_proteome** | NPX neuron proteome |\n",
       "| **matos_neuron** | Matos neuron genes |\n",
       "| **matos_common** | Matos neuron genes expressed in spermatids |\n",
       "| **hpa_brain_prot** | Brain genes form Human protein atlas |\n",
       "| **meritxell_spermatid_expr** |  |\n",
       "| **intersection(nDEG, matos_neuron)** |  |\n",
       "| **union(H,matos_common)** |  |\n",
       "| **mult_copy** |  |\n",
       "| **all_post_mei_expr** | Multi copy genes |\n",
       "| **msci** | all post.mei.expr. X genes |\n",
       "| **msci_esc** | MSCI genes |\n",
       "| **my_primate_codeml** | MSCI-escaping |\n",
       "| **cDEG** | Primate codeml site model |\n",
       "| **nDEG** | cDEG |\n",
       "| **primate_ampl_multi** | nDEG |\n",
       "| **gametologs** | Ampliconic or multicopy in some primates |\n",
       "| **xi** | Gametologs in some primates |\n",
       "| **xi_escape** | Subject to somatic X inactivation (XI) |\n",
       "| **xi_uncertain** | Escaping somatic X inactivation (XI) |\n",
       "| **xi_any_evidence** | X genes uncertain XI status |\n",
       "| **expr_mod_xi_copynr_fibrobl** | Union of certain  and uncertain  XI status |\n",
       "| **expr_mod_xi_copynr_lcl** | Expression modulated by Xi copy number (Fibroblast) |\n",
       "| **reg_sa_pheno** | Expression modulated by Xi copy number (LCL) |\n",
       "| **ari_relate_EUR** | X-chromosome genes associated with regional SA phenotypes |\n",
       "| **ari_relate_ASIA** |  |\n",
       "| **ari_relate_AFR** |  |\n",
       "| **ari_nonPUR** |  |\n",
       "| **ari_relate_PUR** |  |\n",
       "| **ari_all** |  |\n",
       "| **candidates** |  |\n",
       "| **ech75_regions** | Candidate for explaining human and baboon sweeps |\n",
       "| **ech90_regions** | Overlapping  human sweeps (75% ECH regions) |\n",
       "| **accel_reg_simiiformes_br** | Overlapping human sweeps (90% ECH regions) |\n",
       "| **sfari_all_conf** | Genes with  accelerated regions Simiiformes branch |\n",
       "| **intel_seiz_lang** | X SFARI genes (including all confidence levels) |\n",
       "| **intelect_disabil** | Intellectual disability or Seizures  or Language impairment |\n",
       "| **matos_common_no_xy_gametologs** | Intelectual disbility |"
      ],
      "text/plain": [
       "<IPython.core.display.Markdown object>"
      ]
     },
     "metadata": {},
     "output_type": "display_data"
    },
    {
     "data": {
      "text/plain": []
     },
     "execution_count": 4,
     "metadata": {},
     "output_type": "execute_result"
    }
   ],
   "source": [
    "gene_lists = gi.GoogleSheet()\n",
    "gene_lists"
   ]
  },
  {
   "cell_type": "markdown",
   "metadata": {},
   "source": [
    "Individual gene lists behaves like normal lists, but when displayed they render in columns to make them easier to read:"
   ]
  },
  {
   "cell_type": "code",
   "execution_count": 7,
   "metadata": {},
   "outputs": [
    {
     "data": {
      "text/plain": [
       "ABCB7        CNKSR2       FRMD8P1      LOC101928627 MIR500A      PGAM4        TRPC5        \n",
       "ACTRT1       COX7B        FTX          LOC729609    MIR500B      PHF8         TSIX         \n",
       "AKAP4        CYBB         FUNDC2       LRCH2        MIR501       PRRG1        UPRT         \n",
       "ALG13        DCX          GAB3         MAGT1        MIR502       RAB39B       USP27X       \n",
       "ARHGAP36     DKC1         GPC3         MAP7D2       MIR660       RAP2C        USP27X-DT    \n",
       "ATP7A        DYNLT3       H2AB1        MBNL3        MIR664B      RAP2C-AS1    VBP1         \n",
       "ATRX         ENOX2        HTR2C        MIR1184-1    MPP1         RLIM         WNK3         \n",
       "BCLAF3       ENOX2-AS1    IL13RA2      MIR188       MSN          SERTM2       XIST         \n",
       "BRCC3        EZHIP        JPX          MIR23C       MTCP1        SH3KBP1      XK           \n",
       "CAPN6        F8           LANCL3       MIR362       NEXMIF       SMIM9        ZC3H12B      \n",
       "CCNB3        F8A1         LAS1L        MIR374B      NUDT10       SNORA35B                  \n",
       "CFAP47       FAM120C      LINC01201    MIR374C      NUDT11       SNORA36A                  \n",
       "CLCN5        FGF16        LINC01284    MIR421       PAGE4        SNORA56                   \n",
       "CMC4         FRMD7        LINC01496    MIR448       PAK3         STK26                     "
      ]
     },
     "execution_count": 7,
     "metadata": {},
     "output_type": "execute_result"
    }
   ],
   "source": [
    "ech90_regions = gene_lists.get('ech90_regions')\n",
    "ech90_regions"
   ]
  }
 ],
 "metadata": {
  "kernelspec": {
   "display_name": "Python 3 (ipykernel)",
   "language": "python",
   "name": "python3"
  },
  "language_info": {
   "codemirror_mode": {
    "name": "ipython",
    "version": 3
   },
   "file_extension": ".py",
   "mimetype": "text/x-python",
   "name": "python",
   "nbconvert_exporter": "python",
   "pygments_lexer": "ipython3",
   "version": "3.12.2"
  }
 },
 "nbformat": 4,
 "nbformat_minor": 4
}
