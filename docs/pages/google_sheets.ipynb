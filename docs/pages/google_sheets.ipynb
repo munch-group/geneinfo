{
 "cells": [
  {
   "cell_type": "markdown",
   "metadata": {},
   "source": [
    "# Gene lists"
   ]
  },
  {
   "cell_type": "code",
   "execution_count": 1,
   "metadata": {
    "tags": []
   },
   "outputs": [],
   "source": [
    "import geneinfo as gi"
   ]
  },
  {
   "cell_type": "markdown",
   "metadata": {},
   "source": [
    "Load Google spreadsheet with gene lists"
   ]
  },
  {
   "cell_type": "code",
   "execution_count": null,
   "metadata": {},
   "outputs": [],
   "source": [
    "gene_lists = gi.utils.GoogeSheet()"
   ]
  },
  {
   "cell_type": "markdown",
   "metadata": {},
   "source": [
    "Individual gene lists behaves like normal lists, but when displayed they render in columns to make them easier to read:"
   ]
  },
  {
   "cell_type": "code",
   "execution_count": 7,
   "metadata": {},
   "outputs": [
    {
     "data": {
      "text/plain": [
       "ABCB7        CNKSR2       FRMD8P1      LOC101928627 MIR500A      PGAM4        TRPC5        \n",
       "ACTRT1       COX7B        FTX          LOC729609    MIR500B      PHF8         TSIX         \n",
       "AKAP4        CYBB         FUNDC2       LRCH2        MIR501       PRRG1        UPRT         \n",
       "ALG13        DCX          GAB3         MAGT1        MIR502       RAB39B       USP27X       \n",
       "ARHGAP36     DKC1         GPC3         MAP7D2       MIR660       RAP2C        USP27X-DT    \n",
       "ATP7A        DYNLT3       H2AB1        MBNL3        MIR664B      RAP2C-AS1    VBP1         \n",
       "ATRX         ENOX2        HTR2C        MIR1184-1    MPP1         RLIM         WNK3         \n",
       "BCLAF3       ENOX2-AS1    IL13RA2      MIR188       MSN          SERTM2       XIST         \n",
       "BRCC3        EZHIP        JPX          MIR23C       MTCP1        SH3KBP1      XK           \n",
       "CAPN6        F8           LANCL3       MIR362       NEXMIF       SMIM9        ZC3H12B      \n",
       "CCNB3        F8A1         LAS1L        MIR374B      NUDT10       SNORA35B                  \n",
       "CFAP47       FAM120C      LINC01201    MIR374C      NUDT11       SNORA36A                  \n",
       "CLCN5        FGF16        LINC01284    MIR421       PAGE4        SNORA56                   \n",
       "CMC4         FRMD7        LINC01496    MIR448       PAK3         STK26                     "
      ]
     },
     "execution_count": 7,
     "metadata": {},
     "output_type": "execute_result"
    }
   ],
   "source": [
    "ech90_regions = gene_lists.get('ech90_regions')\n",
    "ech90_regions"
   ]
  }
 ],
 "metadata": {
  "kernelspec": {
   "display_name": "base",
   "language": "python",
   "name": "python3"
  },
  "language_info": {
   "codemirror_mode": {
    "name": "ipython",
    "version": 3
   },
   "file_extension": ".py",
   "mimetype": "text/x-python",
   "name": "python",
   "nbconvert_exporter": "python",
   "pygments_lexer": "ipython3",
   "version": "3.12.2"
  }
 },
 "nbformat": 4,
 "nbformat_minor": 4
}
