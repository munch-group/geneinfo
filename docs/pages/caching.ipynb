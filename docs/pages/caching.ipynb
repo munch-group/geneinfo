{
 "cells": [
  {
   "cell_type": "markdown",
   "id": "5732f150-a716-4893-b946-4cad38ccfa98",
   "metadata": {},
   "source": [
    "# Caching"
   ]
  },
  {
   "cell_type": "markdown",
   "id": "51ec830d-c3ce-4743-9005-d0482f9230d2",
   "metadata": {},
   "source": [
    "**geneinfo** will cash information queries to make the notebooks run rast on subsequent executions. To clear that cache use:"
   ]
  },
  {
   "cell_type": "code",
   "execution_count": 6,
   "id": "cfb801c0-85e6-4e98-bbf0-b1684ed14196",
   "metadata": {},
   "outputs": [],
   "source": [
    "from geneinfo import utils\n",
    "\n",
    "utils.clear_cache()"
   ]
  },
  {
   "cell_type": "markdown",
   "id": "457cf5d5-0c28-4e72-a499-4998df5eedc2",
   "metadata": {},
   "source": [
    "Cache gene coordinates for gene lists in spreadsheet:"
   ]
  },
  {
   "cell_type": "code",
   "execution_count": 7,
   "id": "bebd9b6e-c4ca-496c-a618-f11022443f41",
   "metadata": {},
   "outputs": [],
   "source": [
    "# for label in lists:\n",
    "#     names = lists.get(label)\n",
    "#     if not names or len(names) > 3000:\n",
    "#         names = names[:3000]\n",
    "#     gi.gene_coord(names, assembly='hg38', pos_list=True)"
   ]
  }
 ],
 "metadata": {
  "kernelspec": {
   "display_name": "Python 3 (ipykernel)",
   "language": "python",
   "name": "python3"
  },
  "language_info": {
   "codemirror_mode": {
    "name": "ipython",
    "version": 3
   },
   "file_extension": ".py",
   "mimetype": "text/x-python",
   "name": "python",
   "nbconvert_exporter": "python",
   "pygments_lexer": "ipython3",
   "version": "3.12.2"
  }
 },
 "nbformat": 4,
 "nbformat_minor": 5
}
