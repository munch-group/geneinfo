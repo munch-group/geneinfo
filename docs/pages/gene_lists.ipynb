{
 "cells": [
  {
   "cell_type": "raw",
   "metadata": {
    "vscode": {
     "languageId": "raw"
    }
   },
   "source": [
    "---\n",
    "title: Gene lists\n",
    "jupyter:\n",
    "  kernelspec:\n",
    "    display_name: Python 3 (ipykernel)\n",
    "    language: python\n",
    "    name: python3\n",
    "---"
   ]
  },
  {
   "cell_type": "code",
   "execution_count": 1,
   "metadata": {},
   "outputs": [],
   "source": [
    "#| echo: false\n",
    "#| output: false\n",
    "\n",
    "%load_ext autoreload\n",
    "%autoreload 2"
   ]
  },
  {
   "cell_type": "code",
   "execution_count": 2,
   "metadata": {},
   "outputs": [],
   "source": [
    "from geneinfo.genelist import GeneListCollection\n",
    "from geneinfo.genelist import GeneList as glist"
   ]
  },
  {
   "cell_type": "markdown",
   "metadata": {},
   "source": [
    "## GeneList"
   ]
  },
  {
   "cell_type": "markdown",
   "metadata": {},
   "source": [
    "Long lists of gene names do not work well visually:"
   ]
  },
  {
   "cell_type": "code",
   "execution_count": 3,
   "metadata": {},
   "outputs": [
    {
     "data": {
      "text/plain": [
       "['ABCB7',\n",
       " 'ACTRT1',\n",
       " 'AKAP4',\n",
       " 'ALG13',\n",
       " 'ARHGAP36',\n",
       " 'ATP7A',\n",
       " 'ATRX',\n",
       " 'BCLAF3',\n",
       " 'BRCC3',\n",
       " 'CAPN6',\n",
       " 'CCNB3',\n",
       " 'CFAP47',\n",
       " 'CLCN5',\n",
       " 'CMC4',\n",
       " 'CNKSR2',\n",
       " 'COX7B',\n",
       " 'CYBB',\n",
       " 'DCX',\n",
       " 'DKC1',\n",
       " 'DYNLT3',\n",
       " 'ENOX2',\n",
       " 'ENOX2-AS1',\n",
       " 'EZHIP',\n",
       " 'F8',\n",
       " 'F8A1',\n",
       " 'FAM120C',\n",
       " 'FGF16']"
      ]
     },
     "execution_count": 3,
     "metadata": {},
     "output_type": "execute_result"
    }
   ],
   "source": [
    "dummy_genes = ['ABCB7', 'ACTRT1', 'AKAP4', 'ALG13', 'ARHGAP36', 'ATP7A', 'ATRX', 'BCLAF3', 'BRCC3', 'CAPN6', 'CCNB3', 'CFAP47', 'CLCN5', 'CMC4', 'CNKSR2', 'COX7B', 'CYBB', 'DCX', 'DKC1', 'DYNLT3', 'ENOX2', 'ENOX2-AS1', 'EZHIP', 'F8', 'F8A1', 'FAM120C', 'FGF16']\n",
    "dummy_genes"
   ]
  },
  {
   "cell_type": "markdown",
   "metadata": {},
   "source": [
    "GeneList objects work just like normal lists but have some additional features that usefull for exploring sets of genes.\n",
    "\n",
    "When displayed they render as Markdown in columns to make them easier to read:"
   ]
  },
  {
   "cell_type": "code",
   "execution_count": 4,
   "metadata": {},
   "outputs": [
    {
     "data": {
      "text/html": [
       "<table data-quarto-disable-processing=\"true\" background: transparent!important; line-height: 10px!important;text-align: left!important;>\n",
       "<tr style=\"background: transparent!important; line-height: 10px!important;text-align: left!important;\">\n",
       "<td style=\"background: transparent!important; line-height: 10px!important;text-align: left!important;\">ABCB7</td>\n",
       "<td style=\"background: transparent!important; line-height: 10px!important;text-align: left!important;\">ALG13</td>\n",
       "<td style=\"background: transparent!important; line-height: 10px!important;text-align: left!important;\">ATRX</td>\n",
       "<td style=\"background: transparent!important; line-height: 10px!important;text-align: left!important;\">CAPN6</td>\n",
       "<td style=\"background: transparent!important; line-height: 10px!important;text-align: left!important;\">CLCN5</td>\n",
       "<td style=\"background: transparent!important; line-height: 10px!important;text-align: left!important;\">COX7B</td>\n",
       "<td style=\"background: transparent!important; line-height: 10px!important;text-align: left!important;\">DKC1</td>\n",
       "<td style=\"background: transparent!important; line-height: 10px!important;text-align: left!important;\">ENOX2-AS1</td>\n",
       "<td style=\"background: transparent!important; line-height: 10px!important;text-align: left!important;\">F8A1</td>\n",
       "</tr>\n",
       "<tr style=\"background: transparent!important; line-height: 10px!important;text-align: left!important;\">\n",
       "<td style=\"background: transparent!important; line-height: 10px!important;text-align: left!important;\">ACTRT1</td>\n",
       "<td style=\"background: transparent!important; line-height: 10px!important;text-align: left!important;\">ARHGAP36</td>\n",
       "<td style=\"background: transparent!important; line-height: 10px!important;text-align: left!important;\">BCLAF3</td>\n",
       "<td style=\"background: transparent!important; line-height: 10px!important;text-align: left!important;\">CCNB3</td>\n",
       "<td style=\"background: transparent!important; line-height: 10px!important;text-align: left!important;\">CMC4</td>\n",
       "<td style=\"background: transparent!important; line-height: 10px!important;text-align: left!important;\">CYBB</td>\n",
       "<td style=\"background: transparent!important; line-height: 10px!important;text-align: left!important;\">DYNLT3</td>\n",
       "<td style=\"background: transparent!important; line-height: 10px!important;text-align: left!important;\">EZHIP</td>\n",
       "<td style=\"background: transparent!important; line-height: 10px!important;text-align: left!important;\">FAM120C</td>\n",
       "</tr>\n",
       "<tr style=\"background: transparent!important; line-height: 10px!important;text-align: left!important;\">\n",
       "<td style=\"background: transparent!important; line-height: 10px!important;text-align: left!important;\">AKAP4</td>\n",
       "<td style=\"background: transparent!important; line-height: 10px!important;text-align: left!important;\">ATP7A</td>\n",
       "<td style=\"background: transparent!important; line-height: 10px!important;text-align: left!important;\">BRCC3</td>\n",
       "<td style=\"background: transparent!important; line-height: 10px!important;text-align: left!important;\">CFAP47</td>\n",
       "<td style=\"background: transparent!important; line-height: 10px!important;text-align: left!important;\">CNKSR2</td>\n",
       "<td style=\"background: transparent!important; line-height: 10px!important;text-align: left!important;\">DCX</td>\n",
       "<td style=\"background: transparent!important; line-height: 10px!important;text-align: left!important;\">ENOX2</td>\n",
       "<td style=\"background: transparent!important; line-height: 10px!important;text-align: left!important;\">F8</td>\n",
       "<td style=\"background: transparent!important; line-height: 10px!important;text-align: left!important;\">FGF16</td>\n",
       "</tr>\n",
       "</table>"
      ],
      "text/plain": [
       "ABCB7     ALG13     ATRX      CAPN6     CLCN5     COX7B     DKC1      ENOX2-AS1 F8A1      \n",
       "ACTRT1    ARHGAP36  BCLAF3    CCNB3     CMC4      CYBB      DYNLT3    EZHIP     FAM120C   \n",
       "AKAP4     ATP7A     BRCC3     CFAP47    CNKSR2    DCX       ENOX2     F8        FGF16     "
      ]
     },
     "execution_count": 4,
     "metadata": {},
     "output_type": "execute_result"
    }
   ],
   "source": [
    "#| classes: .gene-list\n",
    "\n",
    "list_A = glist(dummy_genes)\n",
    "list_A"
   ]
  },
  {
   "cell_type": "markdown",
   "metadata": {},
   "source": [
    "## Highlight genes"
   ]
  },
  {
   "cell_type": "markdown",
   "metadata": {},
   "source": [
    "The bitwise operator `<<` is overloaded and highlights genes also present in another gene list:"
   ]
  },
  {
   "cell_type": "code",
   "execution_count": 5,
   "metadata": {},
   "outputs": [
    {
     "data": {
      "text/html": [
       "<table data-quarto-disable-processing=\"true\" background: transparent!important; line-height: 10px!important;text-align: left!important;>\n",
       "<tr style=\"background: transparent!important; line-height: 10px!important;text-align: left!important;\">\n",
       "<td style=\"background: transparent!important; line-height: 10px!important;text-align: left!important;font-weight: bold;\">ABCB7</td>\n",
       "<td style=\"background: transparent!important; line-height: 10px!important;text-align: left!important;\">ALG13</td>\n",
       "<td style=\"background: transparent!important; line-height: 10px!important;text-align: left!important;font-weight: bold;\">ATRX</td>\n",
       "<td style=\"background: transparent!important; line-height: 10px!important;text-align: left!important;\">CAPN6</td>\n",
       "<td style=\"background: transparent!important; line-height: 10px!important;text-align: left!important;font-weight: bold;\">CLCN5</td>\n",
       "<td style=\"background: transparent!important; line-height: 10px!important;text-align: left!important;\">COX7B</td>\n",
       "<td style=\"background: transparent!important; line-height: 10px!important;text-align: left!important;font-weight: bold;\">DKC1</td>\n",
       "<td style=\"background: transparent!important; line-height: 10px!important;text-align: left!important;\">ENOX2-AS1</td>\n",
       "<td style=\"background: transparent!important; line-height: 10px!important;text-align: left!important;font-weight: bold;\">F8A1</td>\n",
       "</tr>\n",
       "<tr style=\"background: transparent!important; line-height: 10px!important;text-align: left!important;\">\n",
       "<td style=\"background: transparent!important; line-height: 10px!important;text-align: left!important;\">ACTRT1</td>\n",
       "<td style=\"background: transparent!important; line-height: 10px!important;text-align: left!important;font-weight: bold;\">ARHGAP36</td>\n",
       "<td style=\"background: transparent!important; line-height: 10px!important;text-align: left!important;\">BCLAF3</td>\n",
       "<td style=\"background: transparent!important; line-height: 10px!important;text-align: left!important;font-weight: bold;\">CCNB3</td>\n",
       "<td style=\"background: transparent!important; line-height: 10px!important;text-align: left!important;\">CMC4</td>\n",
       "<td style=\"background: transparent!important; line-height: 10px!important;text-align: left!important;font-weight: bold;\">CYBB</td>\n",
       "<td style=\"background: transparent!important; line-height: 10px!important;text-align: left!important;\">DYNLT3</td>\n",
       "<td style=\"background: transparent!important; line-height: 10px!important;text-align: left!important;font-weight: bold;\">EZHIP</td>\n",
       "<td style=\"background: transparent!important; line-height: 10px!important;text-align: left!important;\">FAM120C</td>\n",
       "</tr>\n",
       "<tr style=\"background: transparent!important; line-height: 10px!important;text-align: left!important;\">\n",
       "<td style=\"background: transparent!important; line-height: 10px!important;text-align: left!important;font-weight: bold;\">AKAP4</td>\n",
       "<td style=\"background: transparent!important; line-height: 10px!important;text-align: left!important;\">ATP7A</td>\n",
       "<td style=\"background: transparent!important; line-height: 10px!important;text-align: left!important;font-weight: bold;\">BRCC3</td>\n",
       "<td style=\"background: transparent!important; line-height: 10px!important;text-align: left!important;\">CFAP47</td>\n",
       "<td style=\"background: transparent!important; line-height: 10px!important;text-align: left!important;font-weight: bold;\">CNKSR2</td>\n",
       "<td style=\"background: transparent!important; line-height: 10px!important;text-align: left!important;\">DCX</td>\n",
       "<td style=\"background: transparent!important; line-height: 10px!important;text-align: left!important;font-weight: bold;\">ENOX2</td>\n",
       "<td style=\"background: transparent!important; line-height: 10px!important;text-align: left!important;\">F8</td>\n",
       "<td style=\"background: transparent!important; line-height: 10px!important;text-align: left!important;font-weight: bold;\">FGF16</td>\n",
       "</tr>\n",
       "</table>"
      ],
      "text/plain": [
       "ABCB7     ALG13     ATRX      CAPN6     CLCN5     COX7B     DKC1      ENOX2-AS1 F8A1      \n",
       "ACTRT1    ARHGAP36  BCLAF3    CCNB3     CMC4      CYBB      DYNLT3    EZHIP     FAM120C   \n",
       "AKAP4     ATP7A     BRCC3     CFAP47    CNKSR2    DCX       ENOX2     F8        FGF16     "
      ]
     },
     "execution_count": 5,
     "metadata": {},
     "output_type": "execute_result"
    }
   ],
   "source": [
    "#| classes: .gene-list\n",
    "\n",
    "list_B = glist(dummy_genes[::2])\n",
    "list_A << list_B"
   ]
  },
  {
   "cell_type": "code",
   "execution_count": 6,
   "metadata": {},
   "outputs": [
    {
     "data": {
      "text/html": [
       "<table data-quarto-disable-processing=\"true\" background: transparent!important; line-height: 10px!important;text-align: left!important;>\n",
       "<tr style=\"background: transparent!important; line-height: 10px!important;text-align: left!important;\">\n",
       "<td style=\"background: transparent!important; line-height: 10px!important;text-align: left!important;font-weight: bold;\">ABCB7</td>\n",
       "<td style=\"background: transparent!important; line-height: 10px!important;text-align: left!important;font-weight: bold;\">ALG13</td>\n",
       "<td style=\"background: transparent!important; line-height: 10px!important;text-align: left!important;font-weight: bold;\">ATRX</td>\n",
       "<td style=\"background: transparent!important; line-height: 10px!important;text-align: left!important;font-weight: bold;\">CAPN6</td>\n",
       "<td style=\"background: transparent!important; line-height: 10px!important;text-align: left!important;\">CLCN5</td>\n",
       "<td style=\"background: transparent!important; line-height: 10px!important;text-align: left!important;\">COX7B</td>\n",
       "<td style=\"background: transparent!important; line-height: 10px!important;text-align: left!important;\">DKC1</td>\n",
       "<td style=\"background: transparent!important; line-height: 10px!important;text-align: left!important;\">ENOX2-AS1</td>\n",
       "<td style=\"background: transparent!important; line-height: 10px!important;text-align: left!important;\">F8A1</td>\n",
       "</tr>\n",
       "<tr style=\"background: transparent!important; line-height: 10px!important;text-align: left!important;\">\n",
       "<td style=\"background: transparent!important; line-height: 10px!important;text-align: left!important;font-weight: bold;\">ACTRT1</td>\n",
       "<td style=\"background: transparent!important; line-height: 10px!important;text-align: left!important;font-weight: bold;\">ARHGAP36</td>\n",
       "<td style=\"background: transparent!important; line-height: 10px!important;text-align: left!important;font-weight: bold;\">BCLAF3</td>\n",
       "<td style=\"background: transparent!important; line-height: 10px!important;text-align: left!important;font-weight: bold;\">CCNB3</td>\n",
       "<td style=\"background: transparent!important; line-height: 10px!important;text-align: left!important;\">CMC4</td>\n",
       "<td style=\"background: transparent!important; line-height: 10px!important;text-align: left!important;\">CYBB</td>\n",
       "<td style=\"background: transparent!important; line-height: 10px!important;text-align: left!important;\">DYNLT3</td>\n",
       "<td style=\"background: transparent!important; line-height: 10px!important;text-align: left!important;\">EZHIP</td>\n",
       "<td style=\"background: transparent!important; line-height: 10px!important;text-align: left!important;\">FAM120C</td>\n",
       "</tr>\n",
       "<tr style=\"background: transparent!important; line-height: 10px!important;text-align: left!important;\">\n",
       "<td style=\"background: transparent!important; line-height: 10px!important;text-align: left!important;font-weight: bold;\">AKAP4</td>\n",
       "<td style=\"background: transparent!important; line-height: 10px!important;text-align: left!important;font-weight: bold;\">ATP7A</td>\n",
       "<td style=\"background: transparent!important; line-height: 10px!important;text-align: left!important;font-weight: bold;\">BRCC3</td>\n",
       "<td style=\"background: transparent!important; line-height: 10px!important;text-align: left!important;font-weight: bold;\">CFAP47</td>\n",
       "<td style=\"background: transparent!important; line-height: 10px!important;text-align: left!important;\">CNKSR2</td>\n",
       "<td style=\"background: transparent!important; line-height: 10px!important;text-align: left!important;\">DCX</td>\n",
       "<td style=\"background: transparent!important; line-height: 10px!important;text-align: left!important;\">ENOX2</td>\n",
       "<td style=\"background: transparent!important; line-height: 10px!important;text-align: left!important;\">F8</td>\n",
       "<td style=\"background: transparent!important; line-height: 10px!important;text-align: left!important;\">FGF16</td>\n",
       "</tr>\n",
       "</table>"
      ],
      "text/plain": [
       "ABCB7     ALG13     ATRX      CAPN6     CLCN5     COX7B     DKC1      ENOX2-AS1 F8A1      \n",
       "ACTRT1    ARHGAP36  BCLAF3    CCNB3     CMC4      CYBB      DYNLT3    EZHIP     FAM120C   \n",
       "AKAP4     ATP7A     BRCC3     CFAP47    CNKSR2    DCX       ENOX2     F8        FGF16     "
      ]
     },
     "execution_count": 6,
     "metadata": {},
     "output_type": "execute_result"
    }
   ],
   "source": [
    "#| classes: .gene-list\n",
    "\n",
    "list_C = glist(dummy_genes[:12])\n",
    "list_A << list_C"
   ]
  },
  {
   "cell_type": "markdown",
   "metadata": {},
   "source": [
    "You apply the `<<` operator repeatedly to highlight genes from up to four other gene lists. Each time adding a new style of highlighting is applied in the following sequence:\n",
    "\n",
    "1. <span style=\"font-weight: bold;\">Bold</span>\n",
    "2. <span style=\"color:#1876D2;\">Color</span>\n",
    "3. <span style=\"text-decoration: underline;\">Underline</span>\n",
    "4. <span style=\"font-style: italic;\">Italic</span>\n",
    "\n",
    "Genes with all styles applied looks like <span style=\"font-weight: bold; color:#1876D2; text-decoration: underline; font-style: italic;\">this</span>. "
   ]
  },
  {
   "cell_type": "code",
   "execution_count": 7,
   "metadata": {},
   "outputs": [
    {
     "data": {
      "text/html": [
       "<table data-quarto-disable-processing=\"true\" background: transparent!important; line-height: 10px!important;text-align: left!important;>\n",
       "<tr style=\"background: transparent!important; line-height: 10px!important;text-align: left!important;\">\n",
       "<td style=\"background: transparent!important; line-height: 10px!important;text-align: left!important;font-weight: bold; color:#1876D2; text-decoration: underline;\">ABCB7</td>\n",
       "<td style=\"background: transparent!important; line-height: 10px!important;text-align: left!important;color:#1876D2;\">ALG13</td>\n",
       "<td style=\"background: transparent!important; line-height: 10px!important;text-align: left!important;font-weight: bold; color:#1876D2;\">ATRX</td>\n",
       "<td style=\"background: transparent!important; line-height: 10px!important;text-align: left!important;color:#1876D2;\">CAPN6</td>\n",
       "<td style=\"background: transparent!important; line-height: 10px!important;text-align: left!important;font-weight: bold; text-decoration: underline; font-style: italic;\">CLCN5</td>\n",
       "<td style=\"background: transparent!important; line-height: 10px!important;text-align: left!important;\">COX7B</td>\n",
       "<td style=\"background: transparent!important; line-height: 10px!important;text-align: left!important;font-weight: bold;\">DKC1</td>\n",
       "<td style=\"background: transparent!important; line-height: 10px!important;text-align: left!important;\">ENOX2-AS1</td>\n",
       "<td style=\"background: transparent!important; line-height: 10px!important;text-align: left!important;font-weight: bold; text-decoration: underline;\">F8A1</td>\n",
       "</tr>\n",
       "<tr style=\"background: transparent!important; line-height: 10px!important;text-align: left!important;\">\n",
       "<td style=\"background: transparent!important; line-height: 10px!important;text-align: left!important;color:#1876D2;\">ACTRT1</td>\n",
       "<td style=\"background: transparent!important; line-height: 10px!important;text-align: left!important;font-weight: bold; color:#1876D2; text-decoration: underline;\">ARHGAP36</td>\n",
       "<td style=\"background: transparent!important; line-height: 10px!important;text-align: left!important;color:#1876D2;\">BCLAF3</td>\n",
       "<td style=\"background: transparent!important; line-height: 10px!important;text-align: left!important;font-weight: bold; color:#1876D2;\">CCNB3</td>\n",
       "<td style=\"background: transparent!important; line-height: 10px!important;text-align: left!important;\">CMC4</td>\n",
       "<td style=\"background: transparent!important; line-height: 10px!important;text-align: left!important;font-weight: bold; text-decoration: underline;\">CYBB</td>\n",
       "<td style=\"background: transparent!important; line-height: 10px!important;text-align: left!important;\">DYNLT3</td>\n",
       "<td style=\"background: transparent!important; line-height: 10px!important;text-align: left!important;font-weight: bold; font-style: italic;\">EZHIP</td>\n",
       "<td style=\"background: transparent!important; line-height: 10px!important;text-align: left!important;\">FAM120C</td>\n",
       "</tr>\n",
       "<tr style=\"background: transparent!important; line-height: 10px!important;text-align: left!important;\">\n",
       "<td style=\"background: transparent!important; line-height: 10px!important;text-align: left!important;font-weight: bold; color:#1876D2; font-style: italic;\">AKAP4</td>\n",
       "<td style=\"background: transparent!important; line-height: 10px!important;text-align: left!important;color:#1876D2;\">ATP7A</td>\n",
       "<td style=\"background: transparent!important; line-height: 10px!important;text-align: left!important;font-weight: bold; color:#1876D2; text-decoration: underline;\">BRCC3</td>\n",
       "<td style=\"background: transparent!important; line-height: 10px!important;text-align: left!important;color:#1876D2;\">CFAP47</td>\n",
       "<td style=\"background: transparent!important; line-height: 10px!important;text-align: left!important;font-weight: bold;\">CNKSR2</td>\n",
       "<td style=\"background: transparent!important; line-height: 10px!important;text-align: left!important;\">DCX</td>\n",
       "<td style=\"background: transparent!important; line-height: 10px!important;text-align: left!important;font-weight: bold; text-decoration: underline;\">ENOX2</td>\n",
       "<td style=\"background: transparent!important; line-height: 10px!important;text-align: left!important;\">F8</td>\n",
       "<td style=\"background: transparent!important; line-height: 10px!important;text-align: left!important;font-weight: bold;\">FGF16</td>\n",
       "</tr>\n",
       "</table>"
      ],
      "text/plain": [
       "ABCB7     ALG13     ATRX      CAPN6     CLCN5     COX7B     DKC1      ENOX2-AS1 F8A1      \n",
       "ACTRT1    ARHGAP36  BCLAF3    CCNB3     CMC4      CYBB      DYNLT3    EZHIP     FAM120C   \n",
       "AKAP4     ATP7A     BRCC3     CFAP47    CNKSR2    DCX       ENOX2     F8        FGF16     "
      ]
     },
     "execution_count": 7,
     "metadata": {},
     "output_type": "execute_result"
    }
   ],
   "source": [
    "#| classes: .gene-list\n",
    "\n",
    "list_D = glist(dummy_genes[::4])\n",
    "list_E = glist(dummy_genes[2::10])\n",
    "\n",
    "list_A << list_B << list_C <<  list_D << list_E"
   ]
  },
  {
   "cell_type": "markdown",
   "metadata": {},
   "source": [
    "The highlight color can be changed by passing a HEX color to `set_highlight_color`:"
   ]
  },
  {
   "cell_type": "code",
   "execution_count": 8,
   "metadata": {},
   "outputs": [
    {
     "data": {
      "text/html": [
       "<table data-quarto-disable-processing=\"true\" background: transparent!important; line-height: 10px!important;text-align: left!important;>\n",
       "<tr style=\"background: transparent!important; line-height: 10px!important;text-align: left!important;\">\n",
       "<td style=\"background: transparent!important; line-height: 10px!important;text-align: left!important;color:#009D2B; text-decoration: underline; font-style: italic;\">ABCB7</td>\n",
       "<td style=\"background: transparent!important; line-height: 10px!important;text-align: left!important;text-decoration: underline;\">ALG13</td>\n",
       "<td style=\"background: transparent!important; line-height: 10px!important;text-align: left!important;text-decoration: underline; font-style: italic;\">ATRX</td>\n",
       "<td style=\"background: transparent!important; line-height: 10px!important;text-align: left!important;text-decoration: underline;\">CAPN6</td>\n",
       "<td style=\"background: transparent!important; line-height: 10px!important;text-align: left!important;font-weight: bold; color:#009D2B; font-style: italic;\">CLCN5</td>\n",
       "<td style=\"background: transparent!important; line-height: 10px!important;text-align: left!important;\">COX7B</td>\n",
       "<td style=\"background: transparent!important; line-height: 10px!important;text-align: left!important;font-style: italic;\">DKC1</td>\n",
       "<td style=\"background: transparent!important; line-height: 10px!important;text-align: left!important;\">ENOX2-AS1</td>\n",
       "<td style=\"background: transparent!important; line-height: 10px!important;text-align: left!important;color:#009D2B; font-style: italic;\">F8A1</td>\n",
       "</tr>\n",
       "<tr style=\"background: transparent!important; line-height: 10px!important;text-align: left!important;\">\n",
       "<td style=\"background: transparent!important; line-height: 10px!important;text-align: left!important;text-decoration: underline;\">ACTRT1</td>\n",
       "<td style=\"background: transparent!important; line-height: 10px!important;text-align: left!important;color:#009D2B; text-decoration: underline; font-style: italic;\">ARHGAP36</td>\n",
       "<td style=\"background: transparent!important; line-height: 10px!important;text-align: left!important;text-decoration: underline;\">BCLAF3</td>\n",
       "<td style=\"background: transparent!important; line-height: 10px!important;text-align: left!important;text-decoration: underline; font-style: italic;\">CCNB3</td>\n",
       "<td style=\"background: transparent!important; line-height: 10px!important;text-align: left!important;\">CMC4</td>\n",
       "<td style=\"background: transparent!important; line-height: 10px!important;text-align: left!important;color:#009D2B; font-style: italic;\">CYBB</td>\n",
       "<td style=\"background: transparent!important; line-height: 10px!important;text-align: left!important;\">DYNLT3</td>\n",
       "<td style=\"background: transparent!important; line-height: 10px!important;text-align: left!important;font-weight: bold; font-style: italic;\">EZHIP</td>\n",
       "<td style=\"background: transparent!important; line-height: 10px!important;text-align: left!important;\">FAM120C</td>\n",
       "</tr>\n",
       "<tr style=\"background: transparent!important; line-height: 10px!important;text-align: left!important;\">\n",
       "<td style=\"background: transparent!important; line-height: 10px!important;text-align: left!important;font-weight: bold; text-decoration: underline; font-style: italic;\">AKAP4</td>\n",
       "<td style=\"background: transparent!important; line-height: 10px!important;text-align: left!important;text-decoration: underline;\">ATP7A</td>\n",
       "<td style=\"background: transparent!important; line-height: 10px!important;text-align: left!important;color:#009D2B; text-decoration: underline; font-style: italic;\">BRCC3</td>\n",
       "<td style=\"background: transparent!important; line-height: 10px!important;text-align: left!important;text-decoration: underline;\">CFAP47</td>\n",
       "<td style=\"background: transparent!important; line-height: 10px!important;text-align: left!important;font-style: italic;\">CNKSR2</td>\n",
       "<td style=\"background: transparent!important; line-height: 10px!important;text-align: left!important;\">DCX</td>\n",
       "<td style=\"background: transparent!important; line-height: 10px!important;text-align: left!important;color:#009D2B; font-style: italic;\">ENOX2</td>\n",
       "<td style=\"background: transparent!important; line-height: 10px!important;text-align: left!important;\">F8</td>\n",
       "<td style=\"background: transparent!important; line-height: 10px!important;text-align: left!important;font-style: italic;\">FGF16</td>\n",
       "</tr>\n",
       "</table>"
      ],
      "text/plain": [
       "ABCB7     ALG13     ATRX      CAPN6     CLCN5     COX7B     DKC1      ENOX2-AS1 F8A1      \n",
       "ACTRT1    ARHGAP36  BCLAF3    CCNB3     CMC4      CYBB      DYNLT3    EZHIP     FAM120C   \n",
       "AKAP4     ATP7A     BRCC3     CFAP47    CNKSR2    DCX       ENOX2     F8        FGF16     "
      ]
     },
     "execution_count": 8,
     "metadata": {},
     "output_type": "execute_result"
    }
   ],
   "source": [
    "#| classes: .gene-list\n",
    "\n",
    "glist.set_highlight_color('#009D2B')\n",
    "list_A << list_E << list_D <<  list_C << list_B"
   ]
  },
  {
   "cell_type": "markdown",
   "metadata": {},
   "source": [
    "Reset highlght color:"
   ]
  },
  {
   "cell_type": "code",
   "execution_count": 9,
   "metadata": {},
   "outputs": [
    {
     "data": {
      "text/html": [
       "<table data-quarto-disable-processing=\"true\" background: transparent!important; line-height: 10px!important;text-align: left!important;>\n",
       "<tr style=\"background: transparent!important; line-height: 10px!important;text-align: left!important;\">\n",
       "<td style=\"background: transparent!important; line-height: 10px!important;text-align: left!important;color:#1876D2; text-decoration: underline; font-style: italic;\">ABCB7</td>\n",
       "<td style=\"background: transparent!important; line-height: 10px!important;text-align: left!important;text-decoration: underline;\">ALG13</td>\n",
       "<td style=\"background: transparent!important; line-height: 10px!important;text-align: left!important;text-decoration: underline; font-style: italic;\">ATRX</td>\n",
       "<td style=\"background: transparent!important; line-height: 10px!important;text-align: left!important;text-decoration: underline;\">CAPN6</td>\n",
       "<td style=\"background: transparent!important; line-height: 10px!important;text-align: left!important;font-weight: bold; color:#1876D2; font-style: italic;\">CLCN5</td>\n",
       "<td style=\"background: transparent!important; line-height: 10px!important;text-align: left!important;\">COX7B</td>\n",
       "<td style=\"background: transparent!important; line-height: 10px!important;text-align: left!important;font-style: italic;\">DKC1</td>\n",
       "<td style=\"background: transparent!important; line-height: 10px!important;text-align: left!important;\">ENOX2-AS1</td>\n",
       "<td style=\"background: transparent!important; line-height: 10px!important;text-align: left!important;color:#1876D2; font-style: italic;\">F8A1</td>\n",
       "</tr>\n",
       "<tr style=\"background: transparent!important; line-height: 10px!important;text-align: left!important;\">\n",
       "<td style=\"background: transparent!important; line-height: 10px!important;text-align: left!important;text-decoration: underline;\">ACTRT1</td>\n",
       "<td style=\"background: transparent!important; line-height: 10px!important;text-align: left!important;color:#1876D2; text-decoration: underline; font-style: italic;\">ARHGAP36</td>\n",
       "<td style=\"background: transparent!important; line-height: 10px!important;text-align: left!important;text-decoration: underline;\">BCLAF3</td>\n",
       "<td style=\"background: transparent!important; line-height: 10px!important;text-align: left!important;text-decoration: underline; font-style: italic;\">CCNB3</td>\n",
       "<td style=\"background: transparent!important; line-height: 10px!important;text-align: left!important;\">CMC4</td>\n",
       "<td style=\"background: transparent!important; line-height: 10px!important;text-align: left!important;color:#1876D2; font-style: italic;\">CYBB</td>\n",
       "<td style=\"background: transparent!important; line-height: 10px!important;text-align: left!important;\">DYNLT3</td>\n",
       "<td style=\"background: transparent!important; line-height: 10px!important;text-align: left!important;font-weight: bold; font-style: italic;\">EZHIP</td>\n",
       "<td style=\"background: transparent!important; line-height: 10px!important;text-align: left!important;\">FAM120C</td>\n",
       "</tr>\n",
       "<tr style=\"background: transparent!important; line-height: 10px!important;text-align: left!important;\">\n",
       "<td style=\"background: transparent!important; line-height: 10px!important;text-align: left!important;font-weight: bold; text-decoration: underline; font-style: italic;\">AKAP4</td>\n",
       "<td style=\"background: transparent!important; line-height: 10px!important;text-align: left!important;text-decoration: underline;\">ATP7A</td>\n",
       "<td style=\"background: transparent!important; line-height: 10px!important;text-align: left!important;color:#1876D2; text-decoration: underline; font-style: italic;\">BRCC3</td>\n",
       "<td style=\"background: transparent!important; line-height: 10px!important;text-align: left!important;text-decoration: underline;\">CFAP47</td>\n",
       "<td style=\"background: transparent!important; line-height: 10px!important;text-align: left!important;font-style: italic;\">CNKSR2</td>\n",
       "<td style=\"background: transparent!important; line-height: 10px!important;text-align: left!important;\">DCX</td>\n",
       "<td style=\"background: transparent!important; line-height: 10px!important;text-align: left!important;color:#1876D2; font-style: italic;\">ENOX2</td>\n",
       "<td style=\"background: transparent!important; line-height: 10px!important;text-align: left!important;\">F8</td>\n",
       "<td style=\"background: transparent!important; line-height: 10px!important;text-align: left!important;font-style: italic;\">FGF16</td>\n",
       "</tr>\n",
       "</table>"
      ],
      "text/plain": [
       "ABCB7     ALG13     ATRX      CAPN6     CLCN5     COX7B     DKC1      ENOX2-AS1 F8A1      \n",
       "ACTRT1    ARHGAP36  BCLAF3    CCNB3     CMC4      CYBB      DYNLT3    EZHIP     FAM120C   \n",
       "AKAP4     ATP7A     BRCC3     CFAP47    CNKSR2    DCX       ENOX2     F8        FGF16     "
      ]
     },
     "execution_count": 9,
     "metadata": {},
     "output_type": "execute_result"
    }
   ],
   "source": [
    "#| classes: .gene-list\n",
    "\n",
    "glist.reset_highlight_color()\n",
    "list_A << list_E << list_D <<  list_C << list_B"
   ]
  },
  {
   "cell_type": "markdown",
   "metadata": {},
   "source": [
    "## Set operations"
   ]
  },
  {
   "cell_type": "markdown",
   "metadata": {},
   "source": [
    "The bitwise operators, `&`, `|`, and `^`, to allow set operations on gene lists."
   ]
  },
  {
   "cell_type": "markdown",
   "metadata": {},
   "source": [
    "Highlight in A the intersection between B and C:"
   ]
  },
  {
   "cell_type": "code",
   "execution_count": 10,
   "metadata": {},
   "outputs": [
    {
     "data": {
      "text/html": [
       "<table data-quarto-disable-processing=\"true\" background: transparent!important; line-height: 10px!important;text-align: left!important;>\n",
       "<tr style=\"background: transparent!important; line-height: 10px!important;text-align: left!important;\">\n",
       "<td style=\"background: transparent!important; line-height: 10px!important;text-align: left!important;font-weight: bold;\">ABCB7</td>\n",
       "<td style=\"background: transparent!important; line-height: 10px!important;text-align: left!important;\">ALG13</td>\n",
       "<td style=\"background: transparent!important; line-height: 10px!important;text-align: left!important;font-weight: bold;\">ATRX</td>\n",
       "<td style=\"background: transparent!important; line-height: 10px!important;text-align: left!important;\">CAPN6</td>\n",
       "<td style=\"background: transparent!important; line-height: 10px!important;text-align: left!important;\">CLCN5</td>\n",
       "<td style=\"background: transparent!important; line-height: 10px!important;text-align: left!important;\">COX7B</td>\n",
       "<td style=\"background: transparent!important; line-height: 10px!important;text-align: left!important;\">DKC1</td>\n",
       "<td style=\"background: transparent!important; line-height: 10px!important;text-align: left!important;\">ENOX2-AS1</td>\n",
       "<td style=\"background: transparent!important; line-height: 10px!important;text-align: left!important;\">F8A1</td>\n",
       "</tr>\n",
       "<tr style=\"background: transparent!important; line-height: 10px!important;text-align: left!important;\">\n",
       "<td style=\"background: transparent!important; line-height: 10px!important;text-align: left!important;\">ACTRT1</td>\n",
       "<td style=\"background: transparent!important; line-height: 10px!important;text-align: left!important;font-weight: bold;\">ARHGAP36</td>\n",
       "<td style=\"background: transparent!important; line-height: 10px!important;text-align: left!important;\">BCLAF3</td>\n",
       "<td style=\"background: transparent!important; line-height: 10px!important;text-align: left!important;font-weight: bold;\">CCNB3</td>\n",
       "<td style=\"background: transparent!important; line-height: 10px!important;text-align: left!important;\">CMC4</td>\n",
       "<td style=\"background: transparent!important; line-height: 10px!important;text-align: left!important;\">CYBB</td>\n",
       "<td style=\"background: transparent!important; line-height: 10px!important;text-align: left!important;\">DYNLT3</td>\n",
       "<td style=\"background: transparent!important; line-height: 10px!important;text-align: left!important;\">EZHIP</td>\n",
       "<td style=\"background: transparent!important; line-height: 10px!important;text-align: left!important;\">FAM120C</td>\n",
       "</tr>\n",
       "<tr style=\"background: transparent!important; line-height: 10px!important;text-align: left!important;\">\n",
       "<td style=\"background: transparent!important; line-height: 10px!important;text-align: left!important;font-weight: bold;\">AKAP4</td>\n",
       "<td style=\"background: transparent!important; line-height: 10px!important;text-align: left!important;\">ATP7A</td>\n",
       "<td style=\"background: transparent!important; line-height: 10px!important;text-align: left!important;font-weight: bold;\">BRCC3</td>\n",
       "<td style=\"background: transparent!important; line-height: 10px!important;text-align: left!important;\">CFAP47</td>\n",
       "<td style=\"background: transparent!important; line-height: 10px!important;text-align: left!important;\">CNKSR2</td>\n",
       "<td style=\"background: transparent!important; line-height: 10px!important;text-align: left!important;\">DCX</td>\n",
       "<td style=\"background: transparent!important; line-height: 10px!important;text-align: left!important;\">ENOX2</td>\n",
       "<td style=\"background: transparent!important; line-height: 10px!important;text-align: left!important;\">F8</td>\n",
       "<td style=\"background: transparent!important; line-height: 10px!important;text-align: left!important;\">FGF16</td>\n",
       "</tr>\n",
       "</table>"
      ],
      "text/plain": [
       "ABCB7     ALG13     ATRX      CAPN6     CLCN5     COX7B     DKC1      ENOX2-AS1 F8A1      \n",
       "ACTRT1    ARHGAP36  BCLAF3    CCNB3     CMC4      CYBB      DYNLT3    EZHIP     FAM120C   \n",
       "AKAP4     ATP7A     BRCC3     CFAP47    CNKSR2    DCX       ENOX2     F8        FGF16     "
      ]
     },
     "execution_count": 10,
     "metadata": {},
     "output_type": "execute_result"
    }
   ],
   "source": [
    "#| classes: .gene-list\n",
    "\n",
    "list_A << (list_B & list_C)"
   ]
  },
  {
   "cell_type": "markdown",
   "metadata": {},
   "source": [
    "Highlight in A the union between B and C:"
   ]
  },
  {
   "cell_type": "code",
   "execution_count": 11,
   "metadata": {},
   "outputs": [
    {
     "data": {
      "text/html": [
       "<table data-quarto-disable-processing=\"true\" background: transparent!important; line-height: 10px!important;text-align: left!important;>\n",
       "<tr style=\"background: transparent!important; line-height: 10px!important;text-align: left!important;\">\n",
       "<td style=\"background: transparent!important; line-height: 10px!important;text-align: left!important;font-weight: bold;\">ABCB7</td>\n",
       "<td style=\"background: transparent!important; line-height: 10px!important;text-align: left!important;font-weight: bold;\">ALG13</td>\n",
       "<td style=\"background: transparent!important; line-height: 10px!important;text-align: left!important;font-weight: bold;\">ATRX</td>\n",
       "<td style=\"background: transparent!important; line-height: 10px!important;text-align: left!important;font-weight: bold;\">CAPN6</td>\n",
       "<td style=\"background: transparent!important; line-height: 10px!important;text-align: left!important;font-weight: bold;\">CLCN5</td>\n",
       "<td style=\"background: transparent!important; line-height: 10px!important;text-align: left!important;\">COX7B</td>\n",
       "<td style=\"background: transparent!important; line-height: 10px!important;text-align: left!important;font-weight: bold;\">DKC1</td>\n",
       "<td style=\"background: transparent!important; line-height: 10px!important;text-align: left!important;\">ENOX2-AS1</td>\n",
       "<td style=\"background: transparent!important; line-height: 10px!important;text-align: left!important;font-weight: bold;\">F8A1</td>\n",
       "</tr>\n",
       "<tr style=\"background: transparent!important; line-height: 10px!important;text-align: left!important;\">\n",
       "<td style=\"background: transparent!important; line-height: 10px!important;text-align: left!important;font-weight: bold;\">ACTRT1</td>\n",
       "<td style=\"background: transparent!important; line-height: 10px!important;text-align: left!important;font-weight: bold;\">ARHGAP36</td>\n",
       "<td style=\"background: transparent!important; line-height: 10px!important;text-align: left!important;font-weight: bold;\">BCLAF3</td>\n",
       "<td style=\"background: transparent!important; line-height: 10px!important;text-align: left!important;font-weight: bold;\">CCNB3</td>\n",
       "<td style=\"background: transparent!important; line-height: 10px!important;text-align: left!important;\">CMC4</td>\n",
       "<td style=\"background: transparent!important; line-height: 10px!important;text-align: left!important;font-weight: bold;\">CYBB</td>\n",
       "<td style=\"background: transparent!important; line-height: 10px!important;text-align: left!important;\">DYNLT3</td>\n",
       "<td style=\"background: transparent!important; line-height: 10px!important;text-align: left!important;font-weight: bold;\">EZHIP</td>\n",
       "<td style=\"background: transparent!important; line-height: 10px!important;text-align: left!important;\">FAM120C</td>\n",
       "</tr>\n",
       "<tr style=\"background: transparent!important; line-height: 10px!important;text-align: left!important;\">\n",
       "<td style=\"background: transparent!important; line-height: 10px!important;text-align: left!important;font-weight: bold;\">AKAP4</td>\n",
       "<td style=\"background: transparent!important; line-height: 10px!important;text-align: left!important;font-weight: bold;\">ATP7A</td>\n",
       "<td style=\"background: transparent!important; line-height: 10px!important;text-align: left!important;font-weight: bold;\">BRCC3</td>\n",
       "<td style=\"background: transparent!important; line-height: 10px!important;text-align: left!important;font-weight: bold;\">CFAP47</td>\n",
       "<td style=\"background: transparent!important; line-height: 10px!important;text-align: left!important;font-weight: bold;\">CNKSR2</td>\n",
       "<td style=\"background: transparent!important; line-height: 10px!important;text-align: left!important;\">DCX</td>\n",
       "<td style=\"background: transparent!important; line-height: 10px!important;text-align: left!important;font-weight: bold;\">ENOX2</td>\n",
       "<td style=\"background: transparent!important; line-height: 10px!important;text-align: left!important;\">F8</td>\n",
       "<td style=\"background: transparent!important; line-height: 10px!important;text-align: left!important;font-weight: bold;\">FGF16</td>\n",
       "</tr>\n",
       "</table>"
      ],
      "text/plain": [
       "ABCB7     ALG13     ATRX      CAPN6     CLCN5     COX7B     DKC1      ENOX2-AS1 F8A1      \n",
       "ACTRT1    ARHGAP36  BCLAF3    CCNB3     CMC4      CYBB      DYNLT3    EZHIP     FAM120C   \n",
       "AKAP4     ATP7A     BRCC3     CFAP47    CNKSR2    DCX       ENOX2     F8        FGF16     "
      ]
     },
     "execution_count": 11,
     "metadata": {},
     "output_type": "execute_result"
    }
   ],
   "source": [
    "#| classes: .gene-list\n",
    "\n",
    "list_A << (list_B | list_C)"
   ]
  },
  {
   "cell_type": "markdown",
   "metadata": {},
   "source": [
    "Highlight in A the genes not shared by B and C:"
   ]
  },
  {
   "cell_type": "code",
   "execution_count": 12,
   "metadata": {},
   "outputs": [
    {
     "data": {
      "text/html": [
       "<table data-quarto-disable-processing=\"true\" background: transparent!important; line-height: 10px!important;text-align: left!important;>\n",
       "<tr style=\"background: transparent!important; line-height: 10px!important;text-align: left!important;\">\n",
       "<td style=\"background: transparent!important; line-height: 10px!important;text-align: left!important;\">ABCB7</td>\n",
       "<td style=\"background: transparent!important; line-height: 10px!important;text-align: left!important;font-weight: bold;\">ALG13</td>\n",
       "<td style=\"background: transparent!important; line-height: 10px!important;text-align: left!important;\">ATRX</td>\n",
       "<td style=\"background: transparent!important; line-height: 10px!important;text-align: left!important;font-weight: bold;\">CAPN6</td>\n",
       "<td style=\"background: transparent!important; line-height: 10px!important;text-align: left!important;font-weight: bold;\">CLCN5</td>\n",
       "<td style=\"background: transparent!important; line-height: 10px!important;text-align: left!important;\">COX7B</td>\n",
       "<td style=\"background: transparent!important; line-height: 10px!important;text-align: left!important;font-weight: bold;\">DKC1</td>\n",
       "<td style=\"background: transparent!important; line-height: 10px!important;text-align: left!important;\">ENOX2-AS1</td>\n",
       "<td style=\"background: transparent!important; line-height: 10px!important;text-align: left!important;font-weight: bold;\">F8A1</td>\n",
       "</tr>\n",
       "<tr style=\"background: transparent!important; line-height: 10px!important;text-align: left!important;\">\n",
       "<td style=\"background: transparent!important; line-height: 10px!important;text-align: left!important;font-weight: bold;\">ACTRT1</td>\n",
       "<td style=\"background: transparent!important; line-height: 10px!important;text-align: left!important;\">ARHGAP36</td>\n",
       "<td style=\"background: transparent!important; line-height: 10px!important;text-align: left!important;font-weight: bold;\">BCLAF3</td>\n",
       "<td style=\"background: transparent!important; line-height: 10px!important;text-align: left!important;\">CCNB3</td>\n",
       "<td style=\"background: transparent!important; line-height: 10px!important;text-align: left!important;\">CMC4</td>\n",
       "<td style=\"background: transparent!important; line-height: 10px!important;text-align: left!important;font-weight: bold;\">CYBB</td>\n",
       "<td style=\"background: transparent!important; line-height: 10px!important;text-align: left!important;\">DYNLT3</td>\n",
       "<td style=\"background: transparent!important; line-height: 10px!important;text-align: left!important;font-weight: bold;\">EZHIP</td>\n",
       "<td style=\"background: transparent!important; line-height: 10px!important;text-align: left!important;\">FAM120C</td>\n",
       "</tr>\n",
       "<tr style=\"background: transparent!important; line-height: 10px!important;text-align: left!important;\">\n",
       "<td style=\"background: transparent!important; line-height: 10px!important;text-align: left!important;\">AKAP4</td>\n",
       "<td style=\"background: transparent!important; line-height: 10px!important;text-align: left!important;font-weight: bold;\">ATP7A</td>\n",
       "<td style=\"background: transparent!important; line-height: 10px!important;text-align: left!important;\">BRCC3</td>\n",
       "<td style=\"background: transparent!important; line-height: 10px!important;text-align: left!important;font-weight: bold;\">CFAP47</td>\n",
       "<td style=\"background: transparent!important; line-height: 10px!important;text-align: left!important;font-weight: bold;\">CNKSR2</td>\n",
       "<td style=\"background: transparent!important; line-height: 10px!important;text-align: left!important;\">DCX</td>\n",
       "<td style=\"background: transparent!important; line-height: 10px!important;text-align: left!important;font-weight: bold;\">ENOX2</td>\n",
       "<td style=\"background: transparent!important; line-height: 10px!important;text-align: left!important;\">F8</td>\n",
       "<td style=\"background: transparent!important; line-height: 10px!important;text-align: left!important;font-weight: bold;\">FGF16</td>\n",
       "</tr>\n",
       "</table>"
      ],
      "text/plain": [
       "ABCB7     ALG13     ATRX      CAPN6     CLCN5     COX7B     DKC1      ENOX2-AS1 F8A1      \n",
       "ACTRT1    ARHGAP36  BCLAF3    CCNB3     CMC4      CYBB      DYNLT3    EZHIP     FAM120C   \n",
       "AKAP4     ATP7A     BRCC3     CFAP47    CNKSR2    DCX       ENOX2     F8        FGF16     "
      ]
     },
     "execution_count": 12,
     "metadata": {},
     "output_type": "execute_result"
    }
   ],
   "source": [
    "#| classes: .gene-list\n",
    "\n",
    "list_A << (list_B ^ list_C)"
   ]
  },
  {
   "cell_type": "markdown",
   "metadata": {},
   "source": [
    "Highlight in A the genes in B but not in C (set difference):"
   ]
  },
  {
   "cell_type": "code",
   "execution_count": 13,
   "metadata": {},
   "outputs": [
    {
     "data": {
      "text/html": [
       "<table data-quarto-disable-processing=\"true\" background: transparent!important; line-height: 10px!important;text-align: left!important;>\n",
       "<tr style=\"background: transparent!important; line-height: 10px!important;text-align: left!important;\">\n",
       "<td style=\"background: transparent!important; line-height: 10px!important;text-align: left!important;\">ABCB7</td>\n",
       "<td style=\"background: transparent!important; line-height: 10px!important;text-align: left!important;\">ALG13</td>\n",
       "<td style=\"background: transparent!important; line-height: 10px!important;text-align: left!important;\">ATRX</td>\n",
       "<td style=\"background: transparent!important; line-height: 10px!important;text-align: left!important;\">CAPN6</td>\n",
       "<td style=\"background: transparent!important; line-height: 10px!important;text-align: left!important;font-weight: bold;\">CLCN5</td>\n",
       "<td style=\"background: transparent!important; line-height: 10px!important;text-align: left!important;\">COX7B</td>\n",
       "<td style=\"background: transparent!important; line-height: 10px!important;text-align: left!important;font-weight: bold;\">DKC1</td>\n",
       "<td style=\"background: transparent!important; line-height: 10px!important;text-align: left!important;\">ENOX2-AS1</td>\n",
       "<td style=\"background: transparent!important; line-height: 10px!important;text-align: left!important;font-weight: bold;\">F8A1</td>\n",
       "</tr>\n",
       "<tr style=\"background: transparent!important; line-height: 10px!important;text-align: left!important;\">\n",
       "<td style=\"background: transparent!important; line-height: 10px!important;text-align: left!important;\">ACTRT1</td>\n",
       "<td style=\"background: transparent!important; line-height: 10px!important;text-align: left!important;\">ARHGAP36</td>\n",
       "<td style=\"background: transparent!important; line-height: 10px!important;text-align: left!important;\">BCLAF3</td>\n",
       "<td style=\"background: transparent!important; line-height: 10px!important;text-align: left!important;\">CCNB3</td>\n",
       "<td style=\"background: transparent!important; line-height: 10px!important;text-align: left!important;\">CMC4</td>\n",
       "<td style=\"background: transparent!important; line-height: 10px!important;text-align: left!important;font-weight: bold;\">CYBB</td>\n",
       "<td style=\"background: transparent!important; line-height: 10px!important;text-align: left!important;\">DYNLT3</td>\n",
       "<td style=\"background: transparent!important; line-height: 10px!important;text-align: left!important;font-weight: bold;\">EZHIP</td>\n",
       "<td style=\"background: transparent!important; line-height: 10px!important;text-align: left!important;\">FAM120C</td>\n",
       "</tr>\n",
       "<tr style=\"background: transparent!important; line-height: 10px!important;text-align: left!important;\">\n",
       "<td style=\"background: transparent!important; line-height: 10px!important;text-align: left!important;\">AKAP4</td>\n",
       "<td style=\"background: transparent!important; line-height: 10px!important;text-align: left!important;\">ATP7A</td>\n",
       "<td style=\"background: transparent!important; line-height: 10px!important;text-align: left!important;\">BRCC3</td>\n",
       "<td style=\"background: transparent!important; line-height: 10px!important;text-align: left!important;\">CFAP47</td>\n",
       "<td style=\"background: transparent!important; line-height: 10px!important;text-align: left!important;font-weight: bold;\">CNKSR2</td>\n",
       "<td style=\"background: transparent!important; line-height: 10px!important;text-align: left!important;\">DCX</td>\n",
       "<td style=\"background: transparent!important; line-height: 10px!important;text-align: left!important;font-weight: bold;\">ENOX2</td>\n",
       "<td style=\"background: transparent!important; line-height: 10px!important;text-align: left!important;\">F8</td>\n",
       "<td style=\"background: transparent!important; line-height: 10px!important;text-align: left!important;font-weight: bold;\">FGF16</td>\n",
       "</tr>\n",
       "</table>"
      ],
      "text/plain": [
       "ABCB7     ALG13     ATRX      CAPN6     CLCN5     COX7B     DKC1      ENOX2-AS1 F8A1      \n",
       "ACTRT1    ARHGAP36  BCLAF3    CCNB3     CMC4      CYBB      DYNLT3    EZHIP     FAM120C   \n",
       "AKAP4     ATP7A     BRCC3     CFAP47    CNKSR2    DCX       ENOX2     F8        FGF16     "
      ]
     },
     "execution_count": 13,
     "metadata": {},
     "output_type": "execute_result"
    }
   ],
   "source": [
    "#| classes: .gene-list\n",
    "\n",
    "list_A << (list_B ^ (list_B & list_C))"
   ]
  },
  {
   "cell_type": "markdown",
   "metadata": {},
   "source": [
    "Highlight in A the genes in C but not in B (set difference):"
   ]
  },
  {
   "cell_type": "code",
   "execution_count": 14,
   "metadata": {},
   "outputs": [
    {
     "data": {
      "text/html": [
       "<table data-quarto-disable-processing=\"true\" background: transparent!important; line-height: 10px!important;text-align: left!important;>\n",
       "<tr style=\"background: transparent!important; line-height: 10px!important;text-align: left!important;\">\n",
       "<td style=\"background: transparent!important; line-height: 10px!important;text-align: left!important;\">ABCB7</td>\n",
       "<td style=\"background: transparent!important; line-height: 10px!important;text-align: left!important;font-weight: bold;\">ALG13</td>\n",
       "<td style=\"background: transparent!important; line-height: 10px!important;text-align: left!important;\">ATRX</td>\n",
       "<td style=\"background: transparent!important; line-height: 10px!important;text-align: left!important;font-weight: bold;\">CAPN6</td>\n",
       "<td style=\"background: transparent!important; line-height: 10px!important;text-align: left!important;\">CLCN5</td>\n",
       "<td style=\"background: transparent!important; line-height: 10px!important;text-align: left!important;\">COX7B</td>\n",
       "<td style=\"background: transparent!important; line-height: 10px!important;text-align: left!important;\">DKC1</td>\n",
       "<td style=\"background: transparent!important; line-height: 10px!important;text-align: left!important;\">ENOX2-AS1</td>\n",
       "<td style=\"background: transparent!important; line-height: 10px!important;text-align: left!important;\">F8A1</td>\n",
       "</tr>\n",
       "<tr style=\"background: transparent!important; line-height: 10px!important;text-align: left!important;\">\n",
       "<td style=\"background: transparent!important; line-height: 10px!important;text-align: left!important;font-weight: bold;\">ACTRT1</td>\n",
       "<td style=\"background: transparent!important; line-height: 10px!important;text-align: left!important;\">ARHGAP36</td>\n",
       "<td style=\"background: transparent!important; line-height: 10px!important;text-align: left!important;font-weight: bold;\">BCLAF3</td>\n",
       "<td style=\"background: transparent!important; line-height: 10px!important;text-align: left!important;\">CCNB3</td>\n",
       "<td style=\"background: transparent!important; line-height: 10px!important;text-align: left!important;\">CMC4</td>\n",
       "<td style=\"background: transparent!important; line-height: 10px!important;text-align: left!important;\">CYBB</td>\n",
       "<td style=\"background: transparent!important; line-height: 10px!important;text-align: left!important;\">DYNLT3</td>\n",
       "<td style=\"background: transparent!important; line-height: 10px!important;text-align: left!important;\">EZHIP</td>\n",
       "<td style=\"background: transparent!important; line-height: 10px!important;text-align: left!important;\">FAM120C</td>\n",
       "</tr>\n",
       "<tr style=\"background: transparent!important; line-height: 10px!important;text-align: left!important;\">\n",
       "<td style=\"background: transparent!important; line-height: 10px!important;text-align: left!important;\">AKAP4</td>\n",
       "<td style=\"background: transparent!important; line-height: 10px!important;text-align: left!important;font-weight: bold;\">ATP7A</td>\n",
       "<td style=\"background: transparent!important; line-height: 10px!important;text-align: left!important;\">BRCC3</td>\n",
       "<td style=\"background: transparent!important; line-height: 10px!important;text-align: left!important;font-weight: bold;\">CFAP47</td>\n",
       "<td style=\"background: transparent!important; line-height: 10px!important;text-align: left!important;\">CNKSR2</td>\n",
       "<td style=\"background: transparent!important; line-height: 10px!important;text-align: left!important;\">DCX</td>\n",
       "<td style=\"background: transparent!important; line-height: 10px!important;text-align: left!important;\">ENOX2</td>\n",
       "<td style=\"background: transparent!important; line-height: 10px!important;text-align: left!important;\">F8</td>\n",
       "<td style=\"background: transparent!important; line-height: 10px!important;text-align: left!important;\">FGF16</td>\n",
       "</tr>\n",
       "</table>"
      ],
      "text/plain": [
       "ABCB7     ALG13     ATRX      CAPN6     CLCN5     COX7B     DKC1      ENOX2-AS1 F8A1      \n",
       "ACTRT1    ARHGAP36  BCLAF3    CCNB3     CMC4      CYBB      DYNLT3    EZHIP     FAM120C   \n",
       "AKAP4     ATP7A     BRCC3     CFAP47    CNKSR2    DCX       ENOX2     F8        FGF16     "
      ]
     },
     "execution_count": 14,
     "metadata": {},
     "output_type": "execute_result"
    }
   ],
   "source": [
    "#| classes: .gene-list\n",
    "\n",
    "list_A << (list_C ^ (list_C & list_B))"
   ]
  },
  {
   "cell_type": "markdown",
   "metadata": {},
   "source": [
    "## GeneListCollection"
   ]
  },
  {
   "cell_type": "markdown",
   "metadata": {},
   "source": [
    "Load table of gene lists from a yaml file with the format below. Each gene list must have a unique list_label. The `genes` field is mandatory, the `description` field is not. Additional fields are ignored.\n",
    "\n",
    "```yaml\n",
    "<list_label>:\n",
    "  description: |\n",
    "    <free text description of the gene list>\n",
    "    <free text description of the gene list>\n",
    "  genes: <gene_name>, <gene_name>, ...\n",
    "<list_label>:\n",
    "  description: |\n",
    "    <free text description of the gene list>\n",
    "    <free text description of the gene list>\n",
    "  genes: <gene_name>, <gene_name>, ...\n",
    "```"
   ]
  },
  {
   "cell_type": "code",
   "execution_count": 34,
   "metadata": {},
   "outputs": [],
   "source": [
    "yaml = \"\"\"\n",
    "cool_genes:\n",
    "    description: \"A list of cool genes\"\n",
    "    genes: ['TP53', 'BRCA1', 'EGFR', 'VEGFA', 'MYC']\n",
    "target_genes:\n",
    "    description: \"A list of other genes\"\n",
    "    genes: ['AKT1', 'PIK3CA', 'PTEN', 'TP53', 'BRCA1']\n",
    "\"\"\"\n",
    "with open('gene_lists.yaml', 'w') as f:\n",
    "    f.write(yaml)"
   ]
  },
  {
   "cell_type": "code",
   "execution_count": 41,
   "metadata": {},
   "outputs": [
    {
     "data": {
      "text/html": [
       "<div>\n",
       "<style scoped>\n",
       "    .dataframe tbody tr th:only-of-type {\n",
       "        vertical-align: middle;\n",
       "    }\n",
       "\n",
       "    .dataframe tbody tr th {\n",
       "        vertical-align: top;\n",
       "    }\n",
       "\n",
       "    .dataframe thead th {\n",
       "        text-align: right;\n",
       "    }\n",
       "</style>\n",
       "<table border=\"1\" class=\"dataframe\">\n",
       "  <thead>\n",
       "    <tr style=\"text-align: right;\">\n",
       "      <th></th>\n",
       "      <th>Label</th>\n",
       "      <th>Description</th>\n",
       "    </tr>\n",
       "  </thead>\n",
       "  <tbody>\n",
       "    <tr>\n",
       "      <th>0</th>\n",
       "      <td>cool_genes</td>\n",
       "      <td>A list of cool genes</td>\n",
       "    </tr>\n",
       "    <tr>\n",
       "      <th>1</th>\n",
       "      <td>target_genes</td>\n",
       "      <td>A list of other genes</td>\n",
       "    </tr>\n",
       "  </tbody>\n",
       "</table>\n",
       "</div>"
      ],
      "text/plain": []
     },
     "execution_count": 41,
     "metadata": {},
     "output_type": "execute_result"
    }
   ],
   "source": [
    "gene_lists = GeneListCollection('gene_lists.yaml')\n",
    "gene_lists"
   ]
  },
  {
   "cell_type": "code",
   "execution_count": 38,
   "metadata": {},
   "outputs": [
    {
     "data": {
      "text/html": [
       "<table data-quarto-disable-processing=\"true\" background: transparent!important; line-height: 10px!important;text-align: left!important;>\n",
       "<tr style=\"background: transparent!important; line-height: 10px!important;text-align: left!important;\">\n",
       "<td style=\"background: transparent!important; line-height: 10px!important;text-align: left!important;\">TP53</td>\n",
       "<td style=\"background: transparent!important; line-height: 10px!important;text-align: left!important;\">BRCA1</td>\n",
       "<td style=\"background: transparent!important; line-height: 10px!important;text-align: left!important;\">EGFR</td>\n",
       "<td style=\"background: transparent!important; line-height: 10px!important;text-align: left!important;\">VEGFA</td>\n",
       "<td style=\"background: transparent!important; line-height: 10px!important;text-align: left!important;\">MYC</td>\n",
       "</tr>\n",
       "</table>"
      ],
      "text/plain": [
       "TP53  BRCA1 EGFR  VEGFA MYC   "
      ]
     },
     "execution_count": 38,
     "metadata": {},
     "output_type": "execute_result"
    }
   ],
   "source": [
    "gene_lists.get('cool_genes')"
   ]
  },
  {
   "cell_type": "code",
   "execution_count": 39,
   "metadata": {},
   "outputs": [
    {
     "data": {
      "text/html": [
       "<table data-quarto-disable-processing=\"true\" background: transparent!important; line-height: 10px!important;text-align: left!important;>\n",
       "<tr style=\"background: transparent!important; line-height: 10px!important;text-align: left!important;\">\n",
       "<td style=\"background: transparent!important; line-height: 10px!important;text-align: left!important;\">AKT1</td>\n",
       "<td style=\"background: transparent!important; line-height: 10px!important;text-align: left!important;\">BRCA1</td>\n",
       "<td style=\"background: transparent!important; line-height: 10px!important;text-align: left!important;\">EGFR</td>\n",
       "<td style=\"background: transparent!important; line-height: 10px!important;text-align: left!important;\">MYC</td>\n",
       "<td style=\"background: transparent!important; line-height: 10px!important;text-align: left!important;\">PIK3CA</td>\n",
       "<td style=\"background: transparent!important; line-height: 10px!important;text-align: left!important;\">PTEN</td>\n",
       "<td style=\"background: transparent!important; line-height: 10px!important;text-align: left!important;\">TP53</td>\n",
       "<td style=\"background: transparent!important; line-height: 10px!important;text-align: left!important;\">VEGFA</td>\n",
       "</tr>\n",
       "</table>"
      ],
      "text/plain": [
       "AKT1   BRCA1  EGFR   MYC    PIK3CA PTEN   TP53   VEGFA  "
      ]
     },
     "execution_count": 39,
     "metadata": {},
     "output_type": "execute_result"
    }
   ],
   "source": [
    "gene_lists.all_genes()"
   ]
  },
  {
   "cell_type": "markdown",
   "metadata": {},
   "source": [
    "Or from a Google Sheet using its ID and the sheet name:"
   ]
  },
  {
   "cell_type": "code",
   "execution_count": 25,
   "metadata": {},
   "outputs": [],
   "source": [
    "# gene_lists = GeneListCollection(google_sheet='2JSjSLuto3jqdEnnG7JqzeC_1pUZw76n7XueVAYrUOpk')"
   ]
  },
  {
   "cell_type": "markdown",
   "metadata": {},
   "source": [
    "See which neuron genes are also SFARI genes:"
   ]
  },
  {
   "cell_type": "code",
   "execution_count": null,
   "metadata": {},
   "outputs": [],
   "source": [
    "# gene_lists = GeneListCollection(google_sheet='2JSjSLuto3jqdEnnG7JqzeC_1pUZw76n7XueVAYrUOpk')"
   ]
  },
  {
   "cell_type": "code",
   "execution_count": 20,
   "metadata": {},
   "outputs": [],
   "source": [
    "#| echo: false\n",
    "#| output: false\n",
    "#| classes: .gene-list\n",
    "\n",
    "gene_lists = GeneListCollection(google_sheet='1JSjSLuto3jqdEnnG7JqzeC_1pUZw76n7XueVAYrUOpk')"
   ]
  },
  {
   "cell_type": "code",
   "execution_count": 21,
   "metadata": {},
   "outputs": [
    {
     "ename": "AttributeError",
     "evalue": "'GeneListCollection' object has no attribute 'names'",
     "output_type": "error",
     "traceback": [
      "\u001b[31m---------------------------------------------------------------------------\u001b[39m",
      "\u001b[31mAttributeError\u001b[39m                            Traceback (most recent call last)",
      "\u001b[36mFile \u001b[39m\u001b[32m~/geneinfo/.pixi/envs/default/lib/python3.14/site-packages/IPython/core/formatters.py:406\u001b[39m, in \u001b[36mBaseFormatter.__call__\u001b[39m\u001b[34m(self, obj)\u001b[39m\n\u001b[32m    404\u001b[39m     method = get_real_method(obj, \u001b[38;5;28mself\u001b[39m.print_method)\n\u001b[32m    405\u001b[39m     \u001b[38;5;28;01mif\u001b[39;00m method \u001b[38;5;129;01mis\u001b[39;00m \u001b[38;5;129;01mnot\u001b[39;00m \u001b[38;5;28;01mNone\u001b[39;00m:\n\u001b[32m--> \u001b[39m\u001b[32m406\u001b[39m         \u001b[38;5;28;01mreturn\u001b[39;00m \u001b[43mmethod\u001b[49m\u001b[43m(\u001b[49m\u001b[43m)\u001b[49m\n\u001b[32m    407\u001b[39m     \u001b[38;5;28;01mreturn\u001b[39;00m \u001b[38;5;28;01mNone\u001b[39;00m\n\u001b[32m    408\u001b[39m \u001b[38;5;28;01melse\u001b[39;00m:\n",
      "\u001b[36mFile \u001b[39m\u001b[32m~/geneinfo/src/geneinfo/genelist/__init__.py:354\u001b[39m, in \u001b[36mGeneListCollection._repr_html_\u001b[39m\u001b[34m(self)\u001b[39m\n\u001b[32m    352\u001b[39m \u001b[38;5;28;01mdef\u001b[39;00m\u001b[38;5;250m \u001b[39m\u001b[34m_repr_html_\u001b[39m(\u001b[38;5;28mself\u001b[39m):\n\u001b[32m    353\u001b[39m     out = [\u001b[33m'\u001b[39m\u001b[33m| label | description |\u001b[39m\u001b[33m'\u001b[39m, \u001b[33m'\u001b[39m\u001b[33m|:---|:---|\u001b[39m\u001b[33m'\u001b[39m]\n\u001b[32m--> \u001b[39m\u001b[32m354\u001b[39m     \u001b[38;5;28;01mfor\u001b[39;00m name, desc \u001b[38;5;129;01min\u001b[39;00m \u001b[38;5;28mzip\u001b[39m(\u001b[38;5;28;43mself\u001b[39;49m\u001b[43m.\u001b[49m\u001b[43mnames\u001b[49m, \u001b[38;5;28mself\u001b[39m.desc):\n\u001b[32m    355\u001b[39m         \u001b[38;5;28;01mif\u001b[39;00m pd.isnull(desc):\n\u001b[32m    356\u001b[39m             desc = \u001b[33m'\u001b[39m\u001b[33m'\u001b[39m\n",
      "\u001b[31mAttributeError\u001b[39m: 'GeneListCollection' object has no attribute 'names'"
     ]
    },
    {
     "data": {
      "text/plain": []
     },
     "execution_count": 21,
     "metadata": {},
     "output_type": "execute_result"
    }
   ],
   "source": [
    "gene_lists"
   ]
  },
  {
   "cell_type": "code",
   "execution_count": 16,
   "metadata": {},
   "outputs": [
    {
     "ename": "AttributeError",
     "evalue": "'GeneListCollection' object has no attribute 'data'",
     "output_type": "error",
     "traceback": [
      "\u001b[31m---------------------------------------------------------------------------\u001b[39m",
      "\u001b[31mAttributeError\u001b[39m                            Traceback (most recent call last)",
      "\u001b[36mCell\u001b[39m\u001b[36m \u001b[39m\u001b[32mIn[16]\u001b[39m\u001b[32m, line 5\u001b[39m\n\u001b[32m      1\u001b[39m \u001b[38;5;66;03m#| echo: false\u001b[39;00m\n\u001b[32m      2\u001b[39m \u001b[38;5;66;03m#| output: false\u001b[39;00m\n\u001b[32m      3\u001b[39m \u001b[38;5;66;03m#| classes: .gene-list\u001b[39;00m\n\u001b[32m----> \u001b[39m\u001b[32m5\u001b[39m neuron_genes = glist(\u001b[43mgene_lists\u001b[49m\u001b[43m.\u001b[49m\u001b[43mget\u001b[49m\u001b[43m(\u001b[49m\u001b[33;43m'\u001b[39;49m\u001b[33;43mneuron_npx_proteome\u001b[39;49m\u001b[33;43m'\u001b[39;49m\u001b[43m)\u001b[49m)\n\u001b[32m      6\u001b[39m sfari = glist(gene_lists.get(\u001b[33m'\u001b[39m\u001b[33msfari_all_conf\u001b[39m\u001b[33m'\u001b[39m))\n\u001b[32m      7\u001b[39m neuron_genes << sfari\n",
      "\u001b[36mFile \u001b[39m\u001b[32m~/geneinfo/src/geneinfo/genelist/__init__.py:349\u001b[39m, in \u001b[36mGeneListCollection.get\u001b[39m\u001b[34m(self, name)\u001b[39m\n\u001b[32m    344\u001b[39m \u001b[38;5;28;01mdef\u001b[39;00m\u001b[38;5;250m \u001b[39m\u001b[34mget\u001b[39m(\u001b[38;5;28mself\u001b[39m, name):\n\u001b[32m    345\u001b[39m     \u001b[38;5;66;03m# sr = self.df[name]\u001b[39;00m\n\u001b[32m    346\u001b[39m     \u001b[38;5;66;03m# sr = self.df.loc[~sr.isnull(), name]\u001b[39;00m\n\u001b[32m    347\u001b[39m     \u001b[38;5;66;03m# # lst = sorted(self.expand_amplicon_abbrev(sr.tolist()))\u001b[39;00m\n\u001b[32m    348\u001b[39m     \u001b[38;5;66;03m# lst = sr.tolist()\u001b[39;00m\n\u001b[32m--> \u001b[39m\u001b[32m349\u001b[39m     \u001b[38;5;28;01mreturn\u001b[39;00m GeneList(\u001b[38;5;28;43mself\u001b[39;49m\u001b[43m.\u001b[49m\u001b[43mdata\u001b[49m[name][\u001b[33m'\u001b[39m\u001b[33mgenes\u001b[39m\u001b[33m'\u001b[39m]).name(name)\n",
      "\u001b[31mAttributeError\u001b[39m: 'GeneListCollection' object has no attribute 'data'"
     ]
    }
   ],
   "source": [
    "#| echo: false\n",
    "#| output: false\n",
    "#| classes: .gene-list\n",
    "\n",
    "neuron_genes = glist(gene_lists.get('neuron_npx_proteome'))\n",
    "sfari = glist(gene_lists.get('sfari_all_conf'))\n",
    "neuron_genes << sfari"
   ]
  },
  {
   "cell_type": "code",
   "execution_count": 37,
   "metadata": {},
   "outputs": [
    {
     "data": {
      "text/html": [
       "<table data-quarto-disable-processing=\"true\" background: transparent!important; line-height: 10px!important;text-align: left!important;>\n",
       "<tr style=\"background: transparent!important; line-height: 10px!important;text-align: left!important;\">\n",
       "<td style=\"background: transparent!important; line-height: 10px!important;text-align: left!important;color:#1876D2; text-decoration: underline;\">CFAP47</td>\n",
       "<td style=\"background: transparent!important; line-height: 10px!important;text-align: left!important;\">EDA</td>\n",
       "<td style=\"background: transparent!important; line-height: 10px!important;text-align: left!important;font-weight: bold; font-style: italic;\">HUWE1</td>\n",
       "<td style=\"background: transparent!important; line-height: 10px!important;text-align: left!important;color:#1876D2;\">PHF8</td>\n",
       "<td style=\"background: transparent!important; line-height: 10px!important;text-align: left!important;\">SCML1</td>\n",
       "<td style=\"background: transparent!important; line-height: 10px!important;text-align: left!important;text-decoration: underline;\">UPF3B</td>\n",
       "</tr>\n",
       "<tr style=\"background: transparent!important; line-height: 10px!important;text-align: left!important;\">\n",
       "<td style=\"background: transparent!important; line-height: 10px!important;text-align: left!important;text-decoration: underline;\">DDX3X</td>\n",
       "<td style=\"background: transparent!important; line-height: 10px!important;text-align: left!important;text-decoration: underline;\">EIF1AX</td>\n",
       "<td style=\"background: transparent!important; line-height: 10px!important;text-align: left!important;font-weight: bold;\">IQSEC2</td>\n",
       "<td style=\"background: transparent!important; line-height: 10px!important;text-align: left!important;font-weight: bold; text-decoration: underline;\">PRICKLE3</td>\n",
       "<td style=\"background: transparent!important; line-height: 10px!important;text-align: left!important;font-weight: bold;\">SRPX2</td>\n",
       "<td style=\"background: transparent!important; line-height: 10px!important;text-align: left!important;\">VSIG1</td>\n",
       "</tr>\n",
       "<tr style=\"background: transparent!important; line-height: 10px!important;text-align: left!important;\">\n",
       "<td style=\"background: transparent!important; line-height: 10px!important;text-align: left!important;font-weight: bold; text-decoration: underline;\">DIAPH2</td>\n",
       "<td style=\"background: transparent!important; line-height: 10px!important;text-align: left!important;\">EMD</td>\n",
       "<td style=\"background: transparent!important; line-height: 10px!important;text-align: left!important;\">mc_ampl_SPANXN5</td>\n",
       "<td style=\"background: transparent!important; line-height: 10px!important;text-align: left!important;\">RBM41</td>\n",
       "<td style=\"background: transparent!important; line-height: 10px!important;text-align: left!important;font-weight: bold; text-decoration: underline;\">SYP</td>\n",
       "<td style=\"background: transparent!important; line-height: 10px!important;text-align: left!important;\"></td>\n",
       "</tr>\n",
       "<tr style=\"background: transparent!important; line-height: 10px!important;text-align: left!important;\">\n",
       "<td style=\"background: transparent!important; line-height: 10px!important;text-align: left!important;color:#1876D2; text-decoration: underline;\">DYNLT3</td>\n",
       "<td style=\"background: transparent!important; line-height: 10px!important;text-align: left!important;color:#1876D2;\">HTR2C</td>\n",
       "<td style=\"background: transparent!important; line-height: 10px!important;text-align: left!important;text-decoration: underline;\">OCRL</td>\n",
       "<td style=\"background: transparent!important; line-height: 10px!important;text-align: left!important;font-style: italic;\">RTL4</td>\n",
       "<td style=\"background: transparent!important; line-height: 10px!important;text-align: left!important;\">SYTL5</td>\n",
       "<td style=\"background: transparent!important; line-height: 10px!important;text-align: left!important;\"></td>\n",
       "</tr>\n",
       "</table>"
      ],
      "text/plain": [
       "CFAP47          EDA             HUWE1           PHF8            SCML1           UPF3B           \n",
       "DDX3X           EIF1AX          IQSEC2          PRICKLE3        SRPX2           VSIG1           \n",
       "DIAPH2          EMD             mc_ampl_SPANXN5 RBM41           SYP                             \n",
       "DYNLT3          HTR2C           OCRL            RTL4            SYTL5                           "
      ]
     },
     "execution_count": 37,
     "metadata": {},
     "output_type": "execute_result"
    }
   ],
   "source": [
    "(glist(gene_lists.get('cDEG')) \n",
    " << glist(gene_lists.get('Hama'))\n",
    " << glist(gene_lists.get('ech90_regions'))\n",
    " << glist(gene_lists.get('hum_nean_admix'))\n",
    " << glist(gene_lists.get('ari_nonPUR'))\n",
    ")"
   ]
  },
  {
   "cell_type": "code",
   "execution_count": null,
   "metadata": {},
   "outputs": [],
   "source": []
  }
 ],
 "metadata": {
  "kernelspec": {
   "display_name": "default",
   "language": "python",
   "name": "python3"
  },
  "language_info": {
   "codemirror_mode": {
    "name": "ipython",
    "version": 3
   },
   "file_extension": ".py",
   "mimetype": "text/x-python",
   "name": "python",
   "nbconvert_exporter": "python",
   "pygments_lexer": "ipython3",
   "version": "3.14.0"
  },
  "widgets": {
   "application/vnd.jupyter.widget-state+json": {
    "state": {},
    "version_major": 2,
    "version_minor": 0
   }
  }
 },
 "nbformat": 4,
 "nbformat_minor": 4
}
