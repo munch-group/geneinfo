{
 "cells": [
  {
   "cell_type": "raw",
   "metadata": {
    "vscode": {
     "languageId": "raw"
    }
   },
   "source": [
    "---\n",
    "title: Gene lists\n",
    "jupyter:\n",
    "  kernelspec:\n",
    "    display_name: Python 3 (ipykernel)\n",
    "    language: python\n",
    "    name: python3\n",
    "---"
   ]
  },
  {
   "cell_type": "code",
   "execution_count": 1,
   "metadata": {},
   "outputs": [],
   "source": [
    "#| echo: false\n",
    "#| output: false\n",
    "\n",
    "%load_ext autoreload\n",
    "%autoreload 2"
   ]
  },
  {
   "cell_type": "code",
   "execution_count": 7,
   "metadata": {
    "tags": []
   },
   "outputs": [],
   "source": [
    "import geneinfo.utils as utils"
   ]
  },
  {
   "cell_type": "markdown",
   "metadata": {},
   "source": [
    "Load Google spreadsheet with gene lists"
   ]
  },
  {
   "cell_type": "code",
   "execution_count": 9,
   "metadata": {},
   "outputs": [],
   "source": [
    "gene_lists = utils.GeneListCollection('google_sheet.csv')"
   ]
  },
  {
   "cell_type": "markdown",
   "metadata": {},
   "source": [
    "Individual gene lists behaves like normal lists, but when displayed they render in columns to make them easier to read:"
   ]
  },
  {
   "cell_type": "code",
   "execution_count": 10,
   "metadata": {},
   "outputs": [
    {
     "data": {
      "text/plain": [
       "ABCB7        CNKSR2       FRMD8P1      LOC101928627 MIR500A      PGAM4        TRPC5        \n",
       "ACTRT1       COX7B        FTX          LOC729609    MIR500B      PHF8         TSIX         \n",
       "AKAP4        CYBB         FUNDC2       LRCH2        MIR501       PRRG1        UPRT         \n",
       "ALG13        DCX          GAB3         MAGT1        MIR502       RAB39B       USP27X       \n",
       "ARHGAP36     DKC1         GPC3         MAP7D2       MIR660       RAP2C        USP27X-DT    \n",
       "ATP7A        DYNLT3       H2AB1        MBNL3        MIR664B      RAP2C-AS1    VBP1         \n",
       "ATRX         ENOX2        HTR2C        MIR1184-1    MPP1         RLIM         WNK3         \n",
       "BCLAF3       ENOX2-AS1    IL13RA2      MIR188       MSN          SERTM2       XIST         \n",
       "BRCC3        EZHIP        JPX          MIR23C       MTCP1        SH3KBP1      XK           \n",
       "CAPN6        F8           LANCL3       MIR362       NEXMIF       SMIM9        ZC3H12B      \n",
       "CCNB3        F8A1         LAS1L        MIR374B      NUDT10       SNORA35B                  \n",
       "CFAP47       FAM120C      LINC01201    MIR374C      NUDT11       SNORA36A                  \n",
       "CLCN5        FGF16        LINC01284    MIR421       PAGE4        SNORA56                   \n",
       "CMC4         FRMD7        LINC01496    MIR448       PAK3         STK26                     "
      ]
     },
     "execution_count": 10,
     "metadata": {},
     "output_type": "execute_result"
    }
   ],
   "source": [
    "ech90_regions = gene_lists.get('ech90_regions')\n",
    "ech90_regions"
   ]
  },
  {
   "cell_type": "code",
   "execution_count": 44,
   "metadata": {},
   "outputs": [
    {
     "data": {
      "text/plain": [
       "True"
      ]
     },
     "execution_count": 44,
     "metadata": {},
     "output_type": "execute_result"
    }
   ],
   "source": [
    "import os, glob\n",
    "import pandas as pd\n",
    "from pandas.api.types import is_object_dtype\n",
    "import numpy as np\n",
    "from math import isclose, floor, log10\n",
    "import matplotlib.pyplot as plt\n",
    "from IPython.display import Markdown, display\n",
    "from pandas.api.types import is_object_dtype\n",
    "from math import sqrt\n",
    "from collections.abc import Callable\n",
    "from typing import Any, TypeVar, List, Tuple, Dict, Union\n",
    "from itertools import zip_longest\n",
    "from matplotlib.patches import Rectangle\n",
    "import seaborn as sns\n",
    "import requests\n",
    "from collections.abc import Callable\n",
    "from typing import Any, TypeVar, List, Tuple, Dict, Union\n",
    "import warnings\n",
    "from itertools import chain\n",
    "import shelve\n",
    "from pathlib import Path\n",
    "\n",
    "AMPL_ABBREV_MAP = {    \n",
    " 'amplicon_chrX_CPXCR1': ['CPXCR1'],\n",
    " 'amplicon_chrX_CSAG1/2/3': ['CSAG1', 'CSAG2', 'CSAG3'],\n",
    " 'amplicon_chrX_CT45A1/2/3//6/7/8/9/10': ['CT45A1', 'CT45A2', 'CT45A3', 'CT45A6', 'CT45A7', 'CT45A8', 'CT45A9', 'CT45A10'],\n",
    " 'amplicon_chrX_CT47A1/2/3/4/5/6/7/8/9/10/11/12/B1': ['CT47A1', 'CT47A2', 'CT47A3', 'CT47A4', 'CT47A5', 'CT47A6', 'CT47A7', 'CT47A8', 'CT47A9', 'CT47A10', 'CT47A11', 'CT47A12', 'CT47B1'],\n",
    " 'amplicon_chrX_CT55': ['CT55'],\n",
    " 'amplicon_chrX_CT83': ['CT83'],\n",
    " 'amplicon_chrX_CTAG1A/1B/2': ['CTAG1A', 'CTAG1B', 'CTAG2'],\n",
    " 'amplicon_chrX_CXorf49/B': ['CXorf49', 'CXorf49B'],\n",
    " 'amplicon_chrX_CXorf51A/B': ['CXorf51A', 'CXorf51B'],\n",
    " 'amplicon_chrX_DDX53': ['DDX53'],\n",
    " 'amplicon_chrX_DMRTC1/B/FAM236A/B/C/D': ['DMRTC1', 'DMRTC1B', 'FAM236A', 'FAM236B', 'FAM236C', 'FAM236D'],\n",
    " 'amplicon_chrX_EOLA1/2/HSFX3/4': ['EOLA1', 'EOLA2', 'HSFX3', 'HSFX4'],\n",
    " 'amplicon_chrX_ETD1/B/ZNF75D': ['ETD1', 'ETD1B', 'ZNF75D'],\n",
    " 'amplicon_chrX_F8/F8A1/2/3/H2AB1/2/3': ['F8', 'F8A1', 'F8A2', 'F8A3', 'H2AB1', 'H2AB2', 'H2AB3'],\n",
    " 'amplicon_chrX_FAM156A/B': ['FAM156A', 'FAM156B'],\n",
    " 'amplicon_chrX_FAM47A/B/C': ['FAM47A', 'FAM47B', 'FAM47C'],\n",
    " 'amplicon_chrX_G6PD/IKBKG': ['G6PD', 'IKBKG'],\n",
    " 'amplicon_chrX_GAGE10/1/2A/13/12B/12C/12D/12E/12F/12G/12H/12J': ['GAGE10', 'GAGE1', 'GAGE2A', 'GAGE13', 'GAGE12B', 'GAGE12C', 'GAGE12D', 'GAGE12E', 'GAGE12F', 'GAGE12G', 'GAGE12H', 'GAGE12J'],\n",
    " 'amplicon_chrX_HSFX1/2': ['HSFX1', 'HSFX2'],\n",
    " 'amplicon_chrX_IL3RA/P2RY8/SLC25A6': ['IL3RA', 'P2RY8', 'SLC25A6'],\n",
    " 'amplicon_chrX_MAGEA4': ['MAGEA4'],\n",
    " 'amplicon_chrX_MAGEA12/A2/A2B/A3/A6': ['MAGEA12', 'MAGEA2', 'MAGEA2B', 'MAGEA3', 'MAGEA6'],\n",
    " 'amplicon_chrX_MAGEA9/9B': ['MAGEA9', 'MAGEA9B'],\n",
    " 'amplicon_chrX_MAGEB6': ['MAGEB6'],\n",
    " 'amplicon_chrX_MAGEC1': ['MAGEC1'],\n",
    " 'amplicon_chrX_MBTPS2/YY2': ['MBTPS2', 'YY2'],\n",
    " 'amplicon_chrX_NSDHL': ['NSDHL'],\n",
    " 'amplicon_chrX_NUDT10/11': ['NUDT10', 'NUDT11'],\n",
    " 'amplicon_chrX_NXF2/2B/5': ['NXF2', 'NXF2B', 'NXF5'],\n",
    " 'amplicon_chrX_PABPC1L2A/B': ['PABPC1L2A', 'PABPC1L2B'],\n",
    " 'amplicon_chrX_PAGE2/2B/5': ['PAGE2', 'PAGE2B', 'PAGE5'],\n",
    " 'amplicon_chrX_RHOXF2/B': ['RHOXF2', 'RHOXF2B'],\n",
    " 'amplicon_chrX_SPACA5/B': ['SPACA5', 'SPACA5B'],\n",
    " 'amplicon_chrX_SPANXA1/A2/N1/N2/N3/N4/N5/B1/C/D': ['SPANXA1', 'SPANXA2', 'SPANXN1', 'SPANXN2', 'SPANXN3', 'SPANXN4', 'SPANXN5', 'SPANXB1', 'SPANXC', 'SPANXD'],\n",
    " 'amplicon_chrX_SSX1/2/2B/344B/5/7': ['SSX1', 'SSX2', 'SSX2B', 'SS344B', 'SSX5', 'SSX7'],\n",
    " 'amplicon_chrX_SUPT20HL1/2': ['SUPT20HL1', 'SUPT20HL2'],\n",
    " 'amplicon_chrX_TCEAL2/3/4/5/6': ['TCEAL2', 'TCEAL3', 'TCEAL4', 'TCEAL5', 'TCEAL6'],\n",
    " 'amplicon_chrX_TCP11X1/2': ['TCP11X1', 'TCP11X2'],\n",
    " 'amplicon_chrX_TEX28': ['TEX28'],\n",
    " 'amplicon_chrX_TMEM185A': ['TMEM185A'],\n",
    " 'amplicon_chrX_VCX/2/3A/3B': ['VCX', 'VCX2', 'VCX3A', 'VCX3B'],\n",
    " 'amplicon_chrX_XAGE1A/B': ['XAGE1A', 'XAGE1B'],\n",
    " 'amplicon_chrX_XAGE3': ['XAGE3'],\n",
    " 'amplicon_chrX_XAGE5': ['XAGE5'],\n",
    "}\n",
    "\n",
    "class GeneListCollection(object):\n",
    "\n",
    "    def __init__(self, url:str=None, google_sheet:str=None, tab='Sheet1'):\n",
    "\n",
    "        assert url or google_sheet, 'Either file/url or google_sheet id must be provided.'\n",
    "\n",
    "        if url is None:\n",
    "            url = f'https://docs.google.com/spreadsheets/d/{google_sheet}/gviz/tq?tqx=out:csv&sheet={tab}'\n",
    "\n",
    "        self.desc = []\n",
    "        for desc in pd.read_csv(url, header=None, low_memory=False).iloc[0]:\n",
    "            if str(desc) == 'nan':\n",
    "                self.desc.append('')\n",
    "            else:\n",
    "                self.desc.append(desc.replace('\\n', ' '))\n",
    "        self.df = pd.read_csv(url, header=1, low_memory=False)\n",
    "        self.df = self.df.loc[:, [not x.startswith('Unnamed') for x in self.df.columns]]\n",
    "        self.names = self.df.columns.tolist()\n",
    "\n",
    "    def all_genes(self):\n",
    "        names = []\n",
    "        for label in lists:\n",
    "            names.extend(lists.get(label))\n",
    "        return sorted(set(names))\n",
    "    \n",
    "    def cache_coord(self):\n",
    "        for label in lists:\n",
    "            names = lists.get(label)\n",
    "            if not names or len(names) > 3000:\n",
    "                names = names[:3000]\n",
    "            gi.gene_coord(names, assembly='hg38', pos_list=True)\n",
    "    \n",
    "    def expand_amplicon_abbrev(self, old_list):\n",
    "\n",
    "        new_list = []\n",
    "        for gene_name in old_list:\n",
    "            abbrev = gene_name.rsplit('_', 1)[0]\n",
    "            if abbrev in AMPL_ABBREV_MAP:\n",
    "                new_list.extend(AMPL_ABBREV_MAP[abbrev])\n",
    "            else:\n",
    "                new_list.append(gene_name)\n",
    "\n",
    "        # new_list = []\n",
    "        # for gene_name in old_list:\n",
    "        #     if gene_name.startswith('amplicon') and '/' in gene_name:\n",
    "        #         prefix, *variants = gene_name.split('/')\n",
    "        #         first_amplicon = re.split(r'[_-]+', prefix, 2)[-1]\n",
    "        #         new_list.append(first_amplicon)\n",
    "        #         for var in variants:\n",
    "        #             ampl_name = first_amplicon[:-1] + var\n",
    "        #             new_list.append(ampl_name)\n",
    "        #     else:\n",
    "        #         new_list.append(gene_name)\n",
    "\n",
    "        new_list = sorted(set(new_list))\n",
    "        return new_list\n",
    "    \n",
    "    def get(self, name):\n",
    "        sr = self.df[name]\n",
    "        sr = self.df.loc[~sr.isnull(), name]\n",
    "        ampl_expanded = sorted(self.expand_amplicon_abbrev(sr.tolist()))\n",
    "        return GeneList(ampl_expanded)\n",
    "\n",
    "    def _repr_html_(self):\n",
    "        out = ['| label | description |', '|:---|:---|']\n",
    "        for name, desc in zip(self.names, self.desc):\n",
    "            if pd.isnull(desc):\n",
    "                desc = ''\n",
    "            # out.append(f\"- **{(name+':**').ljust(130)} {desc}\")\n",
    "            out.append(f\"| **{name}** | {desc} |\")\n",
    "            \n",
    "        display(Markdown('\\n'.join(out)))\n",
    "\n",
    "    def __repr__(self):\n",
    "        return \"\"\n",
    "  \n",
    "    def __iter__(self):\n",
    "         yield from self.names\n",
    "\n",
    "\n",
    "from collections import UserList, UserString\n",
    "\n",
    "class Gene(str):\n",
    "\n",
    "    def __init__(self, name):\n",
    "        self.name = name\n",
    "        self.aliases = [x.strip() for x in name.split('/')]\n",
    "\n",
    "    def add_aliases(self):\n",
    "        ...\n",
    "    \n",
    "    def __eq__(self, other):\n",
    "        return bool(set(self.aliases).intersection(set(other.aliases)))\n",
    "\n",
    "\n",
    "class GeneList(UserList):\n",
    "\n",
    "    def __getitem__(self, i):\n",
    "        return Gene(self.data[i])\n",
    "    \n",
    "    def __repr__(self):\n",
    "        n = len(self)\n",
    "        col_width = max(map(len, self)) + 1\n",
    "        ncols = min(max(100//col_width, 1+sqrt(n/col_width)), 150//col_width)\n",
    "        nrows = int(n/ncols) + 1\n",
    "        rows = []\n",
    "        for r in range(0, n, nrows):\n",
    "            rows.append(self[r:r+nrows])\n",
    "        repr = []\n",
    "        for row in list(zip_longest(*rows, fillvalue='')):\n",
    "            line = []\n",
    "            for gene in row:\n",
    "                line.append(gene.ljust(col_width))\n",
    "            repr.append(''.join(line))\n",
    "        return('\\n'.join(repr))\n",
    "\n",
    "    def __str__(self):\n",
    "        return repr(self)\n",
    "\n",
    "gl = GeneList(['AFF2 / FOO', 'DYNLT3 / FOO'])\n",
    "gl[0] == gl[1]"
   ]
  },
  {
   "cell_type": "code",
   "execution_count": 24,
   "metadata": {
    "scrolled": true
   },
   "outputs": [
    {
     "ename": "AttributeError",
     "evalue": "'str' object has no attribute 'aliases'",
     "output_type": "error",
     "traceback": [
      "\u001b[0;31m---------------------------------------------------------------------------\u001b[0m",
      "\u001b[0;31mAttributeError\u001b[0m                            Traceback (most recent call last)",
      "Cell \u001b[0;32mIn[24], line 1\u001b[0m\n\u001b[0;32m----> 1\u001b[0m gl[\u001b[38;5;241m1\u001b[39m]\u001b[38;5;241m.\u001b[39maliases\n",
      "\u001b[0;31mAttributeError\u001b[0m: 'str' object has no attribute 'aliases'"
     ]
    }
   ],
   "source": [
    "gl[1].aliases"
   ]
  }
 ],
 "metadata": {
  "kernelspec": {
   "display_name": "Python 3 (ipykernel)",
   "language": "python",
   "name": "python3"
  },
  "language_info": {
   "codemirror_mode": {
    "name": "ipython",
    "version": 3
   },
   "file_extension": ".py",
   "mimetype": "text/x-python",
   "name": "python",
   "nbconvert_exporter": "python",
   "pygments_lexer": "ipython3",
   "version": "3.12.2"
  }
 },
 "nbformat": 4,
 "nbformat_minor": 4
}
