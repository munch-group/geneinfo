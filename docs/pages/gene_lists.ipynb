{
 "cells": [
  {
   "cell_type": "raw",
   "metadata": {
    "vscode": {
     "languageId": "raw"
    }
   },
   "source": [
    "---\n",
    "title: Gene lists\n",
    "jupyter:\n",
    "  kernelspec:\n",
    "    display_name: Python 3 (ipykernel)\n",
    "    language: python\n",
    "    name: python3\n",
    "---"
   ]
  },
  {
   "cell_type": "code",
   "execution_count": 1,
   "metadata": {},
   "outputs": [],
   "source": [
    "#| echo: false\n",
    "#| output: false\n",
    "\n",
    "%load_ext autoreload\n",
    "%autoreload 2"
   ]
  },
  {
   "cell_type": "code",
   "execution_count": 2,
   "metadata": {},
   "outputs": [],
   "source": [
    "from geneinfo.genelist import GeneListCollection\n",
    "from geneinfo.genelist import GeneList as glist"
   ]
  },
  {
   "cell_type": "markdown",
   "metadata": {},
   "source": [
    "## GeneList"
   ]
  },
  {
   "cell_type": "markdown",
   "metadata": {},
   "source": [
    "Long lists of gene names do not work well visually:"
   ]
  },
  {
   "cell_type": "code",
   "execution_count": 3,
   "metadata": {},
   "outputs": [
    {
     "data": {
      "text/plain": [
       "['ABCB7',\n",
       " 'ACTRT1',\n",
       " 'AKAP4',\n",
       " 'ALG13',\n",
       " 'ARHGAP36',\n",
       " 'ATP7A',\n",
       " 'ATRX',\n",
       " 'BCLAF3',\n",
       " 'BRCC3',\n",
       " 'CAPN6',\n",
       " 'CCNB3',\n",
       " 'CFAP47',\n",
       " 'CLCN5',\n",
       " 'CMC4',\n",
       " 'CNKSR2',\n",
       " 'COX7B',\n",
       " 'CYBB',\n",
       " 'DCX',\n",
       " 'DKC1',\n",
       " 'DYNLT3',\n",
       " 'ENOX2',\n",
       " 'ENOX2-AS1',\n",
       " 'EZHIP',\n",
       " 'F8',\n",
       " 'F8A1',\n",
       " 'FAM120C',\n",
       " 'FGF16']"
      ]
     },
     "execution_count": 3,
     "metadata": {},
     "output_type": "execute_result"
    }
   ],
   "source": [
    "dummy_genes = ['ABCB7', 'ACTRT1', 'AKAP4', 'ALG13', 'ARHGAP36', 'ATP7A', 'ATRX', 'BCLAF3', 'BRCC3', 'CAPN6', 'CCNB3', 'CFAP47', 'CLCN5', 'CMC4', 'CNKSR2', 'COX7B', 'CYBB', 'DCX', 'DKC1', 'DYNLT3', 'ENOX2', 'ENOX2-AS1', 'EZHIP', 'F8', 'F8A1', 'FAM120C', 'FGF16']\n",
    "dummy_genes"
   ]
  },
  {
   "cell_type": "markdown",
   "metadata": {},
   "source": [
    "GeneList objects work just like normal lists but have some additional features that usefull for exploring sets of genes.\n",
    "\n",
    "When displayed they render as Markdown in columns to make them easier to read:"
   ]
  },
  {
   "cell_type": "code",
   "execution_count": 4,
   "metadata": {},
   "outputs": [
    {
     "data": {
      "text/html": [
       "<table data-quarto-disable-processing=\"true\" background: transparent!important; line-height: 10px!important;text-align: left!important;>\n",
       "<tr style=\"background: transparent!important; line-height: 10px!important;text-align: left!important;\">\n",
       "<td style=\"background: transparent!important; line-height: 10px!important;text-align: left!important;\">ABCB7</td>\n",
       "<td style=\"background: transparent!important; line-height: 10px!important;text-align: left!important;\">ALG13</td>\n",
       "<td style=\"background: transparent!important; line-height: 10px!important;text-align: left!important;\">ATRX</td>\n",
       "<td style=\"background: transparent!important; line-height: 10px!important;text-align: left!important;\">CAPN6</td>\n",
       "<td style=\"background: transparent!important; line-height: 10px!important;text-align: left!important;\">CLCN5</td>\n",
       "<td style=\"background: transparent!important; line-height: 10px!important;text-align: left!important;\">COX7B</td>\n",
       "<td style=\"background: transparent!important; line-height: 10px!important;text-align: left!important;\">DKC1</td>\n",
       "<td style=\"background: transparent!important; line-height: 10px!important;text-align: left!important;\">ENOX2-AS1</td>\n",
       "<td style=\"background: transparent!important; line-height: 10px!important;text-align: left!important;\">F8A1</td>\n",
       "</tr>\n",
       "<tr style=\"background: transparent!important; line-height: 10px!important;text-align: left!important;\">\n",
       "<td style=\"background: transparent!important; line-height: 10px!important;text-align: left!important;\">ACTRT1</td>\n",
       "<td style=\"background: transparent!important; line-height: 10px!important;text-align: left!important;\">ARHGAP36</td>\n",
       "<td style=\"background: transparent!important; line-height: 10px!important;text-align: left!important;\">BCLAF3</td>\n",
       "<td style=\"background: transparent!important; line-height: 10px!important;text-align: left!important;\">CCNB3</td>\n",
       "<td style=\"background: transparent!important; line-height: 10px!important;text-align: left!important;\">CMC4</td>\n",
       "<td style=\"background: transparent!important; line-height: 10px!important;text-align: left!important;\">CYBB</td>\n",
       "<td style=\"background: transparent!important; line-height: 10px!important;text-align: left!important;\">DYNLT3</td>\n",
       "<td style=\"background: transparent!important; line-height: 10px!important;text-align: left!important;\">EZHIP</td>\n",
       "<td style=\"background: transparent!important; line-height: 10px!important;text-align: left!important;\">FAM120C</td>\n",
       "</tr>\n",
       "<tr style=\"background: transparent!important; line-height: 10px!important;text-align: left!important;\">\n",
       "<td style=\"background: transparent!important; line-height: 10px!important;text-align: left!important;\">AKAP4</td>\n",
       "<td style=\"background: transparent!important; line-height: 10px!important;text-align: left!important;\">ATP7A</td>\n",
       "<td style=\"background: transparent!important; line-height: 10px!important;text-align: left!important;\">BRCC3</td>\n",
       "<td style=\"background: transparent!important; line-height: 10px!important;text-align: left!important;\">CFAP47</td>\n",
       "<td style=\"background: transparent!important; line-height: 10px!important;text-align: left!important;\">CNKSR2</td>\n",
       "<td style=\"background: transparent!important; line-height: 10px!important;text-align: left!important;\">DCX</td>\n",
       "<td style=\"background: transparent!important; line-height: 10px!important;text-align: left!important;\">ENOX2</td>\n",
       "<td style=\"background: transparent!important; line-height: 10px!important;text-align: left!important;\">F8</td>\n",
       "<td style=\"background: transparent!important; line-height: 10px!important;text-align: left!important;\">FGF16</td>\n",
       "</tr>\n",
       "</table>"
      ],
      "text/plain": [
       "ABCB7     ALG13     ATRX      CAPN6     CLCN5     COX7B     DKC1      ENOX2-AS1 F8A1      \n",
       "ACTRT1    ARHGAP36  BCLAF3    CCNB3     CMC4      CYBB      DYNLT3    EZHIP     FAM120C   \n",
       "AKAP4     ATP7A     BRCC3     CFAP47    CNKSR2    DCX       ENOX2     F8        FGF16     "
      ]
     },
     "execution_count": 4,
     "metadata": {},
     "output_type": "execute_result"
    }
   ],
   "source": [
    "#| classes: .gene-list\n",
    "\n",
    "list_A = glist(dummy_genes)\n",
    "list_A"
   ]
  },
  {
   "cell_type": "markdown",
   "metadata": {},
   "source": [
    "## Highlight genes"
   ]
  },
  {
   "cell_type": "markdown",
   "metadata": {},
   "source": [
    "The bitwise operator `<<` is overloaded and highlights genes also present in another gene list:"
   ]
  },
  {
   "cell_type": "code",
   "execution_count": 5,
   "metadata": {},
   "outputs": [
    {
     "data": {
      "text/html": [
       "<table data-quarto-disable-processing=\"true\" background: transparent!important; line-height: 10px!important;text-align: left!important;>\n",
       "<tr style=\"background: transparent!important; line-height: 10px!important;text-align: left!important;\">\n",
       "<td style=\"background: transparent!important; line-height: 10px!important;text-align: left!important;font-weight: bold;\">ABCB7</td>\n",
       "<td style=\"background: transparent!important; line-height: 10px!important;text-align: left!important;\">ALG13</td>\n",
       "<td style=\"background: transparent!important; line-height: 10px!important;text-align: left!important;font-weight: bold;\">ATRX</td>\n",
       "<td style=\"background: transparent!important; line-height: 10px!important;text-align: left!important;\">CAPN6</td>\n",
       "<td style=\"background: transparent!important; line-height: 10px!important;text-align: left!important;font-weight: bold;\">CLCN5</td>\n",
       "<td style=\"background: transparent!important; line-height: 10px!important;text-align: left!important;\">COX7B</td>\n",
       "<td style=\"background: transparent!important; line-height: 10px!important;text-align: left!important;font-weight: bold;\">DKC1</td>\n",
       "<td style=\"background: transparent!important; line-height: 10px!important;text-align: left!important;\">ENOX2-AS1</td>\n",
       "<td style=\"background: transparent!important; line-height: 10px!important;text-align: left!important;font-weight: bold;\">F8A1</td>\n",
       "</tr>\n",
       "<tr style=\"background: transparent!important; line-height: 10px!important;text-align: left!important;\">\n",
       "<td style=\"background: transparent!important; line-height: 10px!important;text-align: left!important;\">ACTRT1</td>\n",
       "<td style=\"background: transparent!important; line-height: 10px!important;text-align: left!important;font-weight: bold;\">ARHGAP36</td>\n",
       "<td style=\"background: transparent!important; line-height: 10px!important;text-align: left!important;\">BCLAF3</td>\n",
       "<td style=\"background: transparent!important; line-height: 10px!important;text-align: left!important;font-weight: bold;\">CCNB3</td>\n",
       "<td style=\"background: transparent!important; line-height: 10px!important;text-align: left!important;\">CMC4</td>\n",
       "<td style=\"background: transparent!important; line-height: 10px!important;text-align: left!important;font-weight: bold;\">CYBB</td>\n",
       "<td style=\"background: transparent!important; line-height: 10px!important;text-align: left!important;\">DYNLT3</td>\n",
       "<td style=\"background: transparent!important; line-height: 10px!important;text-align: left!important;font-weight: bold;\">EZHIP</td>\n",
       "<td style=\"background: transparent!important; line-height: 10px!important;text-align: left!important;\">FAM120C</td>\n",
       "</tr>\n",
       "<tr style=\"background: transparent!important; line-height: 10px!important;text-align: left!important;\">\n",
       "<td style=\"background: transparent!important; line-height: 10px!important;text-align: left!important;font-weight: bold;\">AKAP4</td>\n",
       "<td style=\"background: transparent!important; line-height: 10px!important;text-align: left!important;\">ATP7A</td>\n",
       "<td style=\"background: transparent!important; line-height: 10px!important;text-align: left!important;font-weight: bold;\">BRCC3</td>\n",
       "<td style=\"background: transparent!important; line-height: 10px!important;text-align: left!important;\">CFAP47</td>\n",
       "<td style=\"background: transparent!important; line-height: 10px!important;text-align: left!important;font-weight: bold;\">CNKSR2</td>\n",
       "<td style=\"background: transparent!important; line-height: 10px!important;text-align: left!important;\">DCX</td>\n",
       "<td style=\"background: transparent!important; line-height: 10px!important;text-align: left!important;font-weight: bold;\">ENOX2</td>\n",
       "<td style=\"background: transparent!important; line-height: 10px!important;text-align: left!important;\">F8</td>\n",
       "<td style=\"background: transparent!important; line-height: 10px!important;text-align: left!important;font-weight: bold;\">FGF16</td>\n",
       "</tr>\n",
       "</table>"
      ],
      "text/plain": [
       "ABCB7     ALG13     ATRX      CAPN6     CLCN5     COX7B     DKC1      ENOX2-AS1 F8A1      \n",
       "ACTRT1    ARHGAP36  BCLAF3    CCNB3     CMC4      CYBB      DYNLT3    EZHIP     FAM120C   \n",
       "AKAP4     ATP7A     BRCC3     CFAP47    CNKSR2    DCX       ENOX2     F8        FGF16     "
      ]
     },
     "execution_count": 5,
     "metadata": {},
     "output_type": "execute_result"
    }
   ],
   "source": [
    "#| classes: .gene-list\n",
    "\n",
    "list_B = glist(dummy_genes[::2])\n",
    "list_A << list_B"
   ]
  },
  {
   "cell_type": "code",
   "execution_count": 6,
   "metadata": {},
   "outputs": [
    {
     "data": {
      "text/html": [
       "<table data-quarto-disable-processing=\"true\" background: transparent!important; line-height: 10px!important;text-align: left!important;>\n",
       "<tr style=\"background: transparent!important; line-height: 10px!important;text-align: left!important;\">\n",
       "<td style=\"background: transparent!important; line-height: 10px!important;text-align: left!important;font-weight: bold;\">ABCB7</td>\n",
       "<td style=\"background: transparent!important; line-height: 10px!important;text-align: left!important;font-weight: bold;\">ALG13</td>\n",
       "<td style=\"background: transparent!important; line-height: 10px!important;text-align: left!important;font-weight: bold;\">ATRX</td>\n",
       "<td style=\"background: transparent!important; line-height: 10px!important;text-align: left!important;font-weight: bold;\">CAPN6</td>\n",
       "<td style=\"background: transparent!important; line-height: 10px!important;text-align: left!important;\">CLCN5</td>\n",
       "<td style=\"background: transparent!important; line-height: 10px!important;text-align: left!important;\">COX7B</td>\n",
       "<td style=\"background: transparent!important; line-height: 10px!important;text-align: left!important;\">DKC1</td>\n",
       "<td style=\"background: transparent!important; line-height: 10px!important;text-align: left!important;\">ENOX2-AS1</td>\n",
       "<td style=\"background: transparent!important; line-height: 10px!important;text-align: left!important;\">F8A1</td>\n",
       "</tr>\n",
       "<tr style=\"background: transparent!important; line-height: 10px!important;text-align: left!important;\">\n",
       "<td style=\"background: transparent!important; line-height: 10px!important;text-align: left!important;font-weight: bold;\">ACTRT1</td>\n",
       "<td style=\"background: transparent!important; line-height: 10px!important;text-align: left!important;font-weight: bold;\">ARHGAP36</td>\n",
       "<td style=\"background: transparent!important; line-height: 10px!important;text-align: left!important;font-weight: bold;\">BCLAF3</td>\n",
       "<td style=\"background: transparent!important; line-height: 10px!important;text-align: left!important;font-weight: bold;\">CCNB3</td>\n",
       "<td style=\"background: transparent!important; line-height: 10px!important;text-align: left!important;\">CMC4</td>\n",
       "<td style=\"background: transparent!important; line-height: 10px!important;text-align: left!important;\">CYBB</td>\n",
       "<td style=\"background: transparent!important; line-height: 10px!important;text-align: left!important;\">DYNLT3</td>\n",
       "<td style=\"background: transparent!important; line-height: 10px!important;text-align: left!important;\">EZHIP</td>\n",
       "<td style=\"background: transparent!important; line-height: 10px!important;text-align: left!important;\">FAM120C</td>\n",
       "</tr>\n",
       "<tr style=\"background: transparent!important; line-height: 10px!important;text-align: left!important;\">\n",
       "<td style=\"background: transparent!important; line-height: 10px!important;text-align: left!important;font-weight: bold;\">AKAP4</td>\n",
       "<td style=\"background: transparent!important; line-height: 10px!important;text-align: left!important;font-weight: bold;\">ATP7A</td>\n",
       "<td style=\"background: transparent!important; line-height: 10px!important;text-align: left!important;font-weight: bold;\">BRCC3</td>\n",
       "<td style=\"background: transparent!important; line-height: 10px!important;text-align: left!important;font-weight: bold;\">CFAP47</td>\n",
       "<td style=\"background: transparent!important; line-height: 10px!important;text-align: left!important;\">CNKSR2</td>\n",
       "<td style=\"background: transparent!important; line-height: 10px!important;text-align: left!important;\">DCX</td>\n",
       "<td style=\"background: transparent!important; line-height: 10px!important;text-align: left!important;\">ENOX2</td>\n",
       "<td style=\"background: transparent!important; line-height: 10px!important;text-align: left!important;\">F8</td>\n",
       "<td style=\"background: transparent!important; line-height: 10px!important;text-align: left!important;\">FGF16</td>\n",
       "</tr>\n",
       "</table>"
      ],
      "text/plain": [
       "ABCB7     ALG13     ATRX      CAPN6     CLCN5     COX7B     DKC1      ENOX2-AS1 F8A1      \n",
       "ACTRT1    ARHGAP36  BCLAF3    CCNB3     CMC4      CYBB      DYNLT3    EZHIP     FAM120C   \n",
       "AKAP4     ATP7A     BRCC3     CFAP47    CNKSR2    DCX       ENOX2     F8        FGF16     "
      ]
     },
     "execution_count": 6,
     "metadata": {},
     "output_type": "execute_result"
    }
   ],
   "source": [
    "#| classes: .gene-list\n",
    "\n",
    "list_C = glist(dummy_genes[:12])\n",
    "list_A << list_C"
   ]
  },
  {
   "cell_type": "markdown",
   "metadata": {},
   "source": [
    "You apply the `<<` operator repeatedly to highlight genes from up to four other gene lists. Each time adding a new style of highlighting is applied in the following sequence:\n",
    "\n",
    "1. <span style=\"font-weight: bold;\">Bold</span>\n",
    "2. <span style=\"color:#1876D2;\">Color</span>\n",
    "3. <span style=\"text-decoration: underline;\">Underline</span>\n",
    "4. <span style=\"font-style: italic;\">Italic</span>\n",
    "\n",
    "Genes with all styles applied looks like <span style=\"font-weight: bold; color:#1876D2; text-decoration: underline; font-style: italic;\">this</span>. "
   ]
  },
  {
   "cell_type": "code",
   "execution_count": 7,
   "metadata": {},
   "outputs": [
    {
     "data": {
      "text/html": [
       "<table data-quarto-disable-processing=\"true\" background: transparent!important; line-height: 10px!important;text-align: left!important;>\n",
       "<tr style=\"background: transparent!important; line-height: 10px!important;text-align: left!important;\">\n",
       "<td style=\"background: transparent!important; line-height: 10px!important;text-align: left!important;font-weight: bold; color:#1876D2; text-decoration: underline;\">ABCB7</td>\n",
       "<td style=\"background: transparent!important; line-height: 10px!important;text-align: left!important;color:#1876D2;\">ALG13</td>\n",
       "<td style=\"background: transparent!important; line-height: 10px!important;text-align: left!important;font-weight: bold; color:#1876D2;\">ATRX</td>\n",
       "<td style=\"background: transparent!important; line-height: 10px!important;text-align: left!important;color:#1876D2;\">CAPN6</td>\n",
       "<td style=\"background: transparent!important; line-height: 10px!important;text-align: left!important;font-weight: bold; text-decoration: underline; font-style: italic;\">CLCN5</td>\n",
       "<td style=\"background: transparent!important; line-height: 10px!important;text-align: left!important;\">COX7B</td>\n",
       "<td style=\"background: transparent!important; line-height: 10px!important;text-align: left!important;font-weight: bold;\">DKC1</td>\n",
       "<td style=\"background: transparent!important; line-height: 10px!important;text-align: left!important;\">ENOX2-AS1</td>\n",
       "<td style=\"background: transparent!important; line-height: 10px!important;text-align: left!important;font-weight: bold; text-decoration: underline;\">F8A1</td>\n",
       "</tr>\n",
       "<tr style=\"background: transparent!important; line-height: 10px!important;text-align: left!important;\">\n",
       "<td style=\"background: transparent!important; line-height: 10px!important;text-align: left!important;color:#1876D2;\">ACTRT1</td>\n",
       "<td style=\"background: transparent!important; line-height: 10px!important;text-align: left!important;font-weight: bold; color:#1876D2; text-decoration: underline;\">ARHGAP36</td>\n",
       "<td style=\"background: transparent!important; line-height: 10px!important;text-align: left!important;color:#1876D2;\">BCLAF3</td>\n",
       "<td style=\"background: transparent!important; line-height: 10px!important;text-align: left!important;font-weight: bold; color:#1876D2;\">CCNB3</td>\n",
       "<td style=\"background: transparent!important; line-height: 10px!important;text-align: left!important;\">CMC4</td>\n",
       "<td style=\"background: transparent!important; line-height: 10px!important;text-align: left!important;font-weight: bold; text-decoration: underline;\">CYBB</td>\n",
       "<td style=\"background: transparent!important; line-height: 10px!important;text-align: left!important;\">DYNLT3</td>\n",
       "<td style=\"background: transparent!important; line-height: 10px!important;text-align: left!important;font-weight: bold; font-style: italic;\">EZHIP</td>\n",
       "<td style=\"background: transparent!important; line-height: 10px!important;text-align: left!important;\">FAM120C</td>\n",
       "</tr>\n",
       "<tr style=\"background: transparent!important; line-height: 10px!important;text-align: left!important;\">\n",
       "<td style=\"background: transparent!important; line-height: 10px!important;text-align: left!important;font-weight: bold; color:#1876D2; font-style: italic;\">AKAP4</td>\n",
       "<td style=\"background: transparent!important; line-height: 10px!important;text-align: left!important;color:#1876D2;\">ATP7A</td>\n",
       "<td style=\"background: transparent!important; line-height: 10px!important;text-align: left!important;font-weight: bold; color:#1876D2; text-decoration: underline;\">BRCC3</td>\n",
       "<td style=\"background: transparent!important; line-height: 10px!important;text-align: left!important;color:#1876D2;\">CFAP47</td>\n",
       "<td style=\"background: transparent!important; line-height: 10px!important;text-align: left!important;font-weight: bold;\">CNKSR2</td>\n",
       "<td style=\"background: transparent!important; line-height: 10px!important;text-align: left!important;\">DCX</td>\n",
       "<td style=\"background: transparent!important; line-height: 10px!important;text-align: left!important;font-weight: bold; text-decoration: underline;\">ENOX2</td>\n",
       "<td style=\"background: transparent!important; line-height: 10px!important;text-align: left!important;\">F8</td>\n",
       "<td style=\"background: transparent!important; line-height: 10px!important;text-align: left!important;font-weight: bold;\">FGF16</td>\n",
       "</tr>\n",
       "</table>"
      ],
      "text/plain": [
       "ABCB7     ALG13     ATRX      CAPN6     CLCN5     COX7B     DKC1      ENOX2-AS1 F8A1      \n",
       "ACTRT1    ARHGAP36  BCLAF3    CCNB3     CMC4      CYBB      DYNLT3    EZHIP     FAM120C   \n",
       "AKAP4     ATP7A     BRCC3     CFAP47    CNKSR2    DCX       ENOX2     F8        FGF16     "
      ]
     },
     "execution_count": 7,
     "metadata": {},
     "output_type": "execute_result"
    }
   ],
   "source": [
    "#| classes: .gene-list\n",
    "\n",
    "list_D = glist(dummy_genes[::4])\n",
    "list_E = glist(dummy_genes[2::10])\n",
    "\n",
    "list_A << list_B << list_C <<  list_D << list_E"
   ]
  },
  {
   "cell_type": "markdown",
   "metadata": {},
   "source": [
    "The highlight color can be changed by passing a HEX color to `set_highlight_color`:"
   ]
  },
  {
   "cell_type": "code",
   "execution_count": 8,
   "metadata": {},
   "outputs": [
    {
     "data": {
      "text/html": [
       "<table data-quarto-disable-processing=\"true\" background: transparent!important; line-height: 10px!important;text-align: left!important;>\n",
       "<tr style=\"background: transparent!important; line-height: 10px!important;text-align: left!important;\">\n",
       "<td style=\"background: transparent!important; line-height: 10px!important;text-align: left!important;color:#009D2B; text-decoration: underline; font-style: italic;\">ABCB7</td>\n",
       "<td style=\"background: transparent!important; line-height: 10px!important;text-align: left!important;text-decoration: underline;\">ALG13</td>\n",
       "<td style=\"background: transparent!important; line-height: 10px!important;text-align: left!important;text-decoration: underline; font-style: italic;\">ATRX</td>\n",
       "<td style=\"background: transparent!important; line-height: 10px!important;text-align: left!important;text-decoration: underline;\">CAPN6</td>\n",
       "<td style=\"background: transparent!important; line-height: 10px!important;text-align: left!important;font-weight: bold; color:#009D2B; font-style: italic;\">CLCN5</td>\n",
       "<td style=\"background: transparent!important; line-height: 10px!important;text-align: left!important;\">COX7B</td>\n",
       "<td style=\"background: transparent!important; line-height: 10px!important;text-align: left!important;font-style: italic;\">DKC1</td>\n",
       "<td style=\"background: transparent!important; line-height: 10px!important;text-align: left!important;\">ENOX2-AS1</td>\n",
       "<td style=\"background: transparent!important; line-height: 10px!important;text-align: left!important;color:#009D2B; font-style: italic;\">F8A1</td>\n",
       "</tr>\n",
       "<tr style=\"background: transparent!important; line-height: 10px!important;text-align: left!important;\">\n",
       "<td style=\"background: transparent!important; line-height: 10px!important;text-align: left!important;text-decoration: underline;\">ACTRT1</td>\n",
       "<td style=\"background: transparent!important; line-height: 10px!important;text-align: left!important;color:#009D2B; text-decoration: underline; font-style: italic;\">ARHGAP36</td>\n",
       "<td style=\"background: transparent!important; line-height: 10px!important;text-align: left!important;text-decoration: underline;\">BCLAF3</td>\n",
       "<td style=\"background: transparent!important; line-height: 10px!important;text-align: left!important;text-decoration: underline; font-style: italic;\">CCNB3</td>\n",
       "<td style=\"background: transparent!important; line-height: 10px!important;text-align: left!important;\">CMC4</td>\n",
       "<td style=\"background: transparent!important; line-height: 10px!important;text-align: left!important;color:#009D2B; font-style: italic;\">CYBB</td>\n",
       "<td style=\"background: transparent!important; line-height: 10px!important;text-align: left!important;\">DYNLT3</td>\n",
       "<td style=\"background: transparent!important; line-height: 10px!important;text-align: left!important;font-weight: bold; font-style: italic;\">EZHIP</td>\n",
       "<td style=\"background: transparent!important; line-height: 10px!important;text-align: left!important;\">FAM120C</td>\n",
       "</tr>\n",
       "<tr style=\"background: transparent!important; line-height: 10px!important;text-align: left!important;\">\n",
       "<td style=\"background: transparent!important; line-height: 10px!important;text-align: left!important;font-weight: bold; text-decoration: underline; font-style: italic;\">AKAP4</td>\n",
       "<td style=\"background: transparent!important; line-height: 10px!important;text-align: left!important;text-decoration: underline;\">ATP7A</td>\n",
       "<td style=\"background: transparent!important; line-height: 10px!important;text-align: left!important;color:#009D2B; text-decoration: underline; font-style: italic;\">BRCC3</td>\n",
       "<td style=\"background: transparent!important; line-height: 10px!important;text-align: left!important;text-decoration: underline;\">CFAP47</td>\n",
       "<td style=\"background: transparent!important; line-height: 10px!important;text-align: left!important;font-style: italic;\">CNKSR2</td>\n",
       "<td style=\"background: transparent!important; line-height: 10px!important;text-align: left!important;\">DCX</td>\n",
       "<td style=\"background: transparent!important; line-height: 10px!important;text-align: left!important;color:#009D2B; font-style: italic;\">ENOX2</td>\n",
       "<td style=\"background: transparent!important; line-height: 10px!important;text-align: left!important;\">F8</td>\n",
       "<td style=\"background: transparent!important; line-height: 10px!important;text-align: left!important;font-style: italic;\">FGF16</td>\n",
       "</tr>\n",
       "</table>"
      ],
      "text/plain": [
       "ABCB7     ALG13     ATRX      CAPN6     CLCN5     COX7B     DKC1      ENOX2-AS1 F8A1      \n",
       "ACTRT1    ARHGAP36  BCLAF3    CCNB3     CMC4      CYBB      DYNLT3    EZHIP     FAM120C   \n",
       "AKAP4     ATP7A     BRCC3     CFAP47    CNKSR2    DCX       ENOX2     F8        FGF16     "
      ]
     },
     "execution_count": 8,
     "metadata": {},
     "output_type": "execute_result"
    }
   ],
   "source": [
    "#| classes: .gene-list\n",
    "\n",
    "glist.set_highlight_color('#009D2B')\n",
    "list_A << list_E << list_D <<  list_C << list_B"
   ]
  },
  {
   "cell_type": "markdown",
   "metadata": {},
   "source": [
    "Reset highlght color:"
   ]
  },
  {
   "cell_type": "code",
   "execution_count": 9,
   "metadata": {},
   "outputs": [
    {
     "data": {
      "text/html": [
       "<table data-quarto-disable-processing=\"true\" background: transparent!important; line-height: 10px!important;text-align: left!important;>\n",
       "<tr style=\"background: transparent!important; line-height: 10px!important;text-align: left!important;\">\n",
       "<td style=\"background: transparent!important; line-height: 10px!important;text-align: left!important;color:#1876D2; text-decoration: underline; font-style: italic;\">ABCB7</td>\n",
       "<td style=\"background: transparent!important; line-height: 10px!important;text-align: left!important;text-decoration: underline;\">ALG13</td>\n",
       "<td style=\"background: transparent!important; line-height: 10px!important;text-align: left!important;text-decoration: underline; font-style: italic;\">ATRX</td>\n",
       "<td style=\"background: transparent!important; line-height: 10px!important;text-align: left!important;text-decoration: underline;\">CAPN6</td>\n",
       "<td style=\"background: transparent!important; line-height: 10px!important;text-align: left!important;font-weight: bold; color:#1876D2; font-style: italic;\">CLCN5</td>\n",
       "<td style=\"background: transparent!important; line-height: 10px!important;text-align: left!important;\">COX7B</td>\n",
       "<td style=\"background: transparent!important; line-height: 10px!important;text-align: left!important;font-style: italic;\">DKC1</td>\n",
       "<td style=\"background: transparent!important; line-height: 10px!important;text-align: left!important;\">ENOX2-AS1</td>\n",
       "<td style=\"background: transparent!important; line-height: 10px!important;text-align: left!important;color:#1876D2; font-style: italic;\">F8A1</td>\n",
       "</tr>\n",
       "<tr style=\"background: transparent!important; line-height: 10px!important;text-align: left!important;\">\n",
       "<td style=\"background: transparent!important; line-height: 10px!important;text-align: left!important;text-decoration: underline;\">ACTRT1</td>\n",
       "<td style=\"background: transparent!important; line-height: 10px!important;text-align: left!important;color:#1876D2; text-decoration: underline; font-style: italic;\">ARHGAP36</td>\n",
       "<td style=\"background: transparent!important; line-height: 10px!important;text-align: left!important;text-decoration: underline;\">BCLAF3</td>\n",
       "<td style=\"background: transparent!important; line-height: 10px!important;text-align: left!important;text-decoration: underline; font-style: italic;\">CCNB3</td>\n",
       "<td style=\"background: transparent!important; line-height: 10px!important;text-align: left!important;\">CMC4</td>\n",
       "<td style=\"background: transparent!important; line-height: 10px!important;text-align: left!important;color:#1876D2; font-style: italic;\">CYBB</td>\n",
       "<td style=\"background: transparent!important; line-height: 10px!important;text-align: left!important;\">DYNLT3</td>\n",
       "<td style=\"background: transparent!important; line-height: 10px!important;text-align: left!important;font-weight: bold; font-style: italic;\">EZHIP</td>\n",
       "<td style=\"background: transparent!important; line-height: 10px!important;text-align: left!important;\">FAM120C</td>\n",
       "</tr>\n",
       "<tr style=\"background: transparent!important; line-height: 10px!important;text-align: left!important;\">\n",
       "<td style=\"background: transparent!important; line-height: 10px!important;text-align: left!important;font-weight: bold; text-decoration: underline; font-style: italic;\">AKAP4</td>\n",
       "<td style=\"background: transparent!important; line-height: 10px!important;text-align: left!important;text-decoration: underline;\">ATP7A</td>\n",
       "<td style=\"background: transparent!important; line-height: 10px!important;text-align: left!important;color:#1876D2; text-decoration: underline; font-style: italic;\">BRCC3</td>\n",
       "<td style=\"background: transparent!important; line-height: 10px!important;text-align: left!important;text-decoration: underline;\">CFAP47</td>\n",
       "<td style=\"background: transparent!important; line-height: 10px!important;text-align: left!important;font-style: italic;\">CNKSR2</td>\n",
       "<td style=\"background: transparent!important; line-height: 10px!important;text-align: left!important;\">DCX</td>\n",
       "<td style=\"background: transparent!important; line-height: 10px!important;text-align: left!important;color:#1876D2; font-style: italic;\">ENOX2</td>\n",
       "<td style=\"background: transparent!important; line-height: 10px!important;text-align: left!important;\">F8</td>\n",
       "<td style=\"background: transparent!important; line-height: 10px!important;text-align: left!important;font-style: italic;\">FGF16</td>\n",
       "</tr>\n",
       "</table>"
      ],
      "text/plain": [
       "ABCB7     ALG13     ATRX      CAPN6     CLCN5     COX7B     DKC1      ENOX2-AS1 F8A1      \n",
       "ACTRT1    ARHGAP36  BCLAF3    CCNB3     CMC4      CYBB      DYNLT3    EZHIP     FAM120C   \n",
       "AKAP4     ATP7A     BRCC3     CFAP47    CNKSR2    DCX       ENOX2     F8        FGF16     "
      ]
     },
     "execution_count": 9,
     "metadata": {},
     "output_type": "execute_result"
    }
   ],
   "source": [
    "#| classes: .gene-list\n",
    "\n",
    "glist.reset_highlight_color()\n",
    "list_A << list_E << list_D <<  list_C << list_B"
   ]
  },
  {
   "cell_type": "markdown",
   "metadata": {},
   "source": [
    "## Set operations"
   ]
  },
  {
   "cell_type": "markdown",
   "metadata": {},
   "source": [
    "The bitwise operators, `&`, `|`, and `^`, to allow set operations on gene lists."
   ]
  },
  {
   "cell_type": "markdown",
   "metadata": {},
   "source": [
    "Highlight in A the intersection between B and C:"
   ]
  },
  {
   "cell_type": "code",
   "execution_count": 10,
   "metadata": {},
   "outputs": [
    {
     "data": {
      "text/html": [
       "<table data-quarto-disable-processing=\"true\" background: transparent!important; line-height: 10px!important;text-align: left!important;>\n",
       "<tr style=\"background: transparent!important; line-height: 10px!important;text-align: left!important;\">\n",
       "<td style=\"background: transparent!important; line-height: 10px!important;text-align: left!important;font-weight: bold;\">ABCB7</td>\n",
       "<td style=\"background: transparent!important; line-height: 10px!important;text-align: left!important;\">ALG13</td>\n",
       "<td style=\"background: transparent!important; line-height: 10px!important;text-align: left!important;font-weight: bold;\">ATRX</td>\n",
       "<td style=\"background: transparent!important; line-height: 10px!important;text-align: left!important;\">CAPN6</td>\n",
       "<td style=\"background: transparent!important; line-height: 10px!important;text-align: left!important;\">CLCN5</td>\n",
       "<td style=\"background: transparent!important; line-height: 10px!important;text-align: left!important;\">COX7B</td>\n",
       "<td style=\"background: transparent!important; line-height: 10px!important;text-align: left!important;\">DKC1</td>\n",
       "<td style=\"background: transparent!important; line-height: 10px!important;text-align: left!important;\">ENOX2-AS1</td>\n",
       "<td style=\"background: transparent!important; line-height: 10px!important;text-align: left!important;\">F8A1</td>\n",
       "</tr>\n",
       "<tr style=\"background: transparent!important; line-height: 10px!important;text-align: left!important;\">\n",
       "<td style=\"background: transparent!important; line-height: 10px!important;text-align: left!important;\">ACTRT1</td>\n",
       "<td style=\"background: transparent!important; line-height: 10px!important;text-align: left!important;font-weight: bold;\">ARHGAP36</td>\n",
       "<td style=\"background: transparent!important; line-height: 10px!important;text-align: left!important;\">BCLAF3</td>\n",
       "<td style=\"background: transparent!important; line-height: 10px!important;text-align: left!important;font-weight: bold;\">CCNB3</td>\n",
       "<td style=\"background: transparent!important; line-height: 10px!important;text-align: left!important;\">CMC4</td>\n",
       "<td style=\"background: transparent!important; line-height: 10px!important;text-align: left!important;\">CYBB</td>\n",
       "<td style=\"background: transparent!important; line-height: 10px!important;text-align: left!important;\">DYNLT3</td>\n",
       "<td style=\"background: transparent!important; line-height: 10px!important;text-align: left!important;\">EZHIP</td>\n",
       "<td style=\"background: transparent!important; line-height: 10px!important;text-align: left!important;\">FAM120C</td>\n",
       "</tr>\n",
       "<tr style=\"background: transparent!important; line-height: 10px!important;text-align: left!important;\">\n",
       "<td style=\"background: transparent!important; line-height: 10px!important;text-align: left!important;font-weight: bold;\">AKAP4</td>\n",
       "<td style=\"background: transparent!important; line-height: 10px!important;text-align: left!important;\">ATP7A</td>\n",
       "<td style=\"background: transparent!important; line-height: 10px!important;text-align: left!important;font-weight: bold;\">BRCC3</td>\n",
       "<td style=\"background: transparent!important; line-height: 10px!important;text-align: left!important;\">CFAP47</td>\n",
       "<td style=\"background: transparent!important; line-height: 10px!important;text-align: left!important;\">CNKSR2</td>\n",
       "<td style=\"background: transparent!important; line-height: 10px!important;text-align: left!important;\">DCX</td>\n",
       "<td style=\"background: transparent!important; line-height: 10px!important;text-align: left!important;\">ENOX2</td>\n",
       "<td style=\"background: transparent!important; line-height: 10px!important;text-align: left!important;\">F8</td>\n",
       "<td style=\"background: transparent!important; line-height: 10px!important;text-align: left!important;\">FGF16</td>\n",
       "</tr>\n",
       "</table>"
      ],
      "text/plain": [
       "ABCB7     ALG13     ATRX      CAPN6     CLCN5     COX7B     DKC1      ENOX2-AS1 F8A1      \n",
       "ACTRT1    ARHGAP36  BCLAF3    CCNB3     CMC4      CYBB      DYNLT3    EZHIP     FAM120C   \n",
       "AKAP4     ATP7A     BRCC3     CFAP47    CNKSR2    DCX       ENOX2     F8        FGF16     "
      ]
     },
     "execution_count": 10,
     "metadata": {},
     "output_type": "execute_result"
    }
   ],
   "source": [
    "#| classes: .gene-list\n",
    "\n",
    "list_A << (list_B & list_C)"
   ]
  },
  {
   "cell_type": "markdown",
   "metadata": {},
   "source": [
    "Highlight in A the union between B and C:"
   ]
  },
  {
   "cell_type": "code",
   "execution_count": 11,
   "metadata": {},
   "outputs": [
    {
     "data": {
      "text/html": [
       "<table data-quarto-disable-processing=\"true\" background: transparent!important; line-height: 10px!important;text-align: left!important;>\n",
       "<tr style=\"background: transparent!important; line-height: 10px!important;text-align: left!important;\">\n",
       "<td style=\"background: transparent!important; line-height: 10px!important;text-align: left!important;font-weight: bold;\">ABCB7</td>\n",
       "<td style=\"background: transparent!important; line-height: 10px!important;text-align: left!important;font-weight: bold;\">ALG13</td>\n",
       "<td style=\"background: transparent!important; line-height: 10px!important;text-align: left!important;font-weight: bold;\">ATRX</td>\n",
       "<td style=\"background: transparent!important; line-height: 10px!important;text-align: left!important;font-weight: bold;\">CAPN6</td>\n",
       "<td style=\"background: transparent!important; line-height: 10px!important;text-align: left!important;font-weight: bold;\">CLCN5</td>\n",
       "<td style=\"background: transparent!important; line-height: 10px!important;text-align: left!important;\">COX7B</td>\n",
       "<td style=\"background: transparent!important; line-height: 10px!important;text-align: left!important;font-weight: bold;\">DKC1</td>\n",
       "<td style=\"background: transparent!important; line-height: 10px!important;text-align: left!important;\">ENOX2-AS1</td>\n",
       "<td style=\"background: transparent!important; line-height: 10px!important;text-align: left!important;font-weight: bold;\">F8A1</td>\n",
       "</tr>\n",
       "<tr style=\"background: transparent!important; line-height: 10px!important;text-align: left!important;\">\n",
       "<td style=\"background: transparent!important; line-height: 10px!important;text-align: left!important;font-weight: bold;\">ACTRT1</td>\n",
       "<td style=\"background: transparent!important; line-height: 10px!important;text-align: left!important;font-weight: bold;\">ARHGAP36</td>\n",
       "<td style=\"background: transparent!important; line-height: 10px!important;text-align: left!important;font-weight: bold;\">BCLAF3</td>\n",
       "<td style=\"background: transparent!important; line-height: 10px!important;text-align: left!important;font-weight: bold;\">CCNB3</td>\n",
       "<td style=\"background: transparent!important; line-height: 10px!important;text-align: left!important;\">CMC4</td>\n",
       "<td style=\"background: transparent!important; line-height: 10px!important;text-align: left!important;font-weight: bold;\">CYBB</td>\n",
       "<td style=\"background: transparent!important; line-height: 10px!important;text-align: left!important;\">DYNLT3</td>\n",
       "<td style=\"background: transparent!important; line-height: 10px!important;text-align: left!important;font-weight: bold;\">EZHIP</td>\n",
       "<td style=\"background: transparent!important; line-height: 10px!important;text-align: left!important;\">FAM120C</td>\n",
       "</tr>\n",
       "<tr style=\"background: transparent!important; line-height: 10px!important;text-align: left!important;\">\n",
       "<td style=\"background: transparent!important; line-height: 10px!important;text-align: left!important;font-weight: bold;\">AKAP4</td>\n",
       "<td style=\"background: transparent!important; line-height: 10px!important;text-align: left!important;font-weight: bold;\">ATP7A</td>\n",
       "<td style=\"background: transparent!important; line-height: 10px!important;text-align: left!important;font-weight: bold;\">BRCC3</td>\n",
       "<td style=\"background: transparent!important; line-height: 10px!important;text-align: left!important;font-weight: bold;\">CFAP47</td>\n",
       "<td style=\"background: transparent!important; line-height: 10px!important;text-align: left!important;font-weight: bold;\">CNKSR2</td>\n",
       "<td style=\"background: transparent!important; line-height: 10px!important;text-align: left!important;\">DCX</td>\n",
       "<td style=\"background: transparent!important; line-height: 10px!important;text-align: left!important;font-weight: bold;\">ENOX2</td>\n",
       "<td style=\"background: transparent!important; line-height: 10px!important;text-align: left!important;\">F8</td>\n",
       "<td style=\"background: transparent!important; line-height: 10px!important;text-align: left!important;font-weight: bold;\">FGF16</td>\n",
       "</tr>\n",
       "</table>"
      ],
      "text/plain": [
       "ABCB7     ALG13     ATRX      CAPN6     CLCN5     COX7B     DKC1      ENOX2-AS1 F8A1      \n",
       "ACTRT1    ARHGAP36  BCLAF3    CCNB3     CMC4      CYBB      DYNLT3    EZHIP     FAM120C   \n",
       "AKAP4     ATP7A     BRCC3     CFAP47    CNKSR2    DCX       ENOX2     F8        FGF16     "
      ]
     },
     "execution_count": 11,
     "metadata": {},
     "output_type": "execute_result"
    }
   ],
   "source": [
    "#| classes: .gene-list\n",
    "\n",
    "list_A << (list_B | list_C)"
   ]
  },
  {
   "cell_type": "markdown",
   "metadata": {},
   "source": [
    "Highlight in A the genes not shared by B and C:"
   ]
  },
  {
   "cell_type": "code",
   "execution_count": 12,
   "metadata": {},
   "outputs": [
    {
     "data": {
      "text/html": [
       "<table data-quarto-disable-processing=\"true\" background: transparent!important; line-height: 10px!important;text-align: left!important;>\n",
       "<tr style=\"background: transparent!important; line-height: 10px!important;text-align: left!important;\">\n",
       "<td style=\"background: transparent!important; line-height: 10px!important;text-align: left!important;\">ABCB7</td>\n",
       "<td style=\"background: transparent!important; line-height: 10px!important;text-align: left!important;font-weight: bold;\">ALG13</td>\n",
       "<td style=\"background: transparent!important; line-height: 10px!important;text-align: left!important;\">ATRX</td>\n",
       "<td style=\"background: transparent!important; line-height: 10px!important;text-align: left!important;font-weight: bold;\">CAPN6</td>\n",
       "<td style=\"background: transparent!important; line-height: 10px!important;text-align: left!important;font-weight: bold;\">CLCN5</td>\n",
       "<td style=\"background: transparent!important; line-height: 10px!important;text-align: left!important;\">COX7B</td>\n",
       "<td style=\"background: transparent!important; line-height: 10px!important;text-align: left!important;font-weight: bold;\">DKC1</td>\n",
       "<td style=\"background: transparent!important; line-height: 10px!important;text-align: left!important;\">ENOX2-AS1</td>\n",
       "<td style=\"background: transparent!important; line-height: 10px!important;text-align: left!important;font-weight: bold;\">F8A1</td>\n",
       "</tr>\n",
       "<tr style=\"background: transparent!important; line-height: 10px!important;text-align: left!important;\">\n",
       "<td style=\"background: transparent!important; line-height: 10px!important;text-align: left!important;font-weight: bold;\">ACTRT1</td>\n",
       "<td style=\"background: transparent!important; line-height: 10px!important;text-align: left!important;\">ARHGAP36</td>\n",
       "<td style=\"background: transparent!important; line-height: 10px!important;text-align: left!important;font-weight: bold;\">BCLAF3</td>\n",
       "<td style=\"background: transparent!important; line-height: 10px!important;text-align: left!important;\">CCNB3</td>\n",
       "<td style=\"background: transparent!important; line-height: 10px!important;text-align: left!important;\">CMC4</td>\n",
       "<td style=\"background: transparent!important; line-height: 10px!important;text-align: left!important;font-weight: bold;\">CYBB</td>\n",
       "<td style=\"background: transparent!important; line-height: 10px!important;text-align: left!important;\">DYNLT3</td>\n",
       "<td style=\"background: transparent!important; line-height: 10px!important;text-align: left!important;font-weight: bold;\">EZHIP</td>\n",
       "<td style=\"background: transparent!important; line-height: 10px!important;text-align: left!important;\">FAM120C</td>\n",
       "</tr>\n",
       "<tr style=\"background: transparent!important; line-height: 10px!important;text-align: left!important;\">\n",
       "<td style=\"background: transparent!important; line-height: 10px!important;text-align: left!important;\">AKAP4</td>\n",
       "<td style=\"background: transparent!important; line-height: 10px!important;text-align: left!important;font-weight: bold;\">ATP7A</td>\n",
       "<td style=\"background: transparent!important; line-height: 10px!important;text-align: left!important;\">BRCC3</td>\n",
       "<td style=\"background: transparent!important; line-height: 10px!important;text-align: left!important;font-weight: bold;\">CFAP47</td>\n",
       "<td style=\"background: transparent!important; line-height: 10px!important;text-align: left!important;font-weight: bold;\">CNKSR2</td>\n",
       "<td style=\"background: transparent!important; line-height: 10px!important;text-align: left!important;\">DCX</td>\n",
       "<td style=\"background: transparent!important; line-height: 10px!important;text-align: left!important;font-weight: bold;\">ENOX2</td>\n",
       "<td style=\"background: transparent!important; line-height: 10px!important;text-align: left!important;\">F8</td>\n",
       "<td style=\"background: transparent!important; line-height: 10px!important;text-align: left!important;font-weight: bold;\">FGF16</td>\n",
       "</tr>\n",
       "</table>"
      ],
      "text/plain": [
       "ABCB7     ALG13     ATRX      CAPN6     CLCN5     COX7B     DKC1      ENOX2-AS1 F8A1      \n",
       "ACTRT1    ARHGAP36  BCLAF3    CCNB3     CMC4      CYBB      DYNLT3    EZHIP     FAM120C   \n",
       "AKAP4     ATP7A     BRCC3     CFAP47    CNKSR2    DCX       ENOX2     F8        FGF16     "
      ]
     },
     "execution_count": 12,
     "metadata": {},
     "output_type": "execute_result"
    }
   ],
   "source": [
    "#| classes: .gene-list\n",
    "\n",
    "list_A << (list_B ^ list_C)"
   ]
  },
  {
   "cell_type": "markdown",
   "metadata": {},
   "source": [
    "Highlight in A the genes in B but not in C (set difference):"
   ]
  },
  {
   "cell_type": "code",
   "execution_count": 13,
   "metadata": {},
   "outputs": [
    {
     "data": {
      "text/html": [
       "<table data-quarto-disable-processing=\"true\" background: transparent!important; line-height: 10px!important;text-align: left!important;>\n",
       "<tr style=\"background: transparent!important; line-height: 10px!important;text-align: left!important;\">\n",
       "<td style=\"background: transparent!important; line-height: 10px!important;text-align: left!important;\">ABCB7</td>\n",
       "<td style=\"background: transparent!important; line-height: 10px!important;text-align: left!important;\">ALG13</td>\n",
       "<td style=\"background: transparent!important; line-height: 10px!important;text-align: left!important;\">ATRX</td>\n",
       "<td style=\"background: transparent!important; line-height: 10px!important;text-align: left!important;\">CAPN6</td>\n",
       "<td style=\"background: transparent!important; line-height: 10px!important;text-align: left!important;font-weight: bold;\">CLCN5</td>\n",
       "<td style=\"background: transparent!important; line-height: 10px!important;text-align: left!important;\">COX7B</td>\n",
       "<td style=\"background: transparent!important; line-height: 10px!important;text-align: left!important;font-weight: bold;\">DKC1</td>\n",
       "<td style=\"background: transparent!important; line-height: 10px!important;text-align: left!important;\">ENOX2-AS1</td>\n",
       "<td style=\"background: transparent!important; line-height: 10px!important;text-align: left!important;font-weight: bold;\">F8A1</td>\n",
       "</tr>\n",
       "<tr style=\"background: transparent!important; line-height: 10px!important;text-align: left!important;\">\n",
       "<td style=\"background: transparent!important; line-height: 10px!important;text-align: left!important;\">ACTRT1</td>\n",
       "<td style=\"background: transparent!important; line-height: 10px!important;text-align: left!important;\">ARHGAP36</td>\n",
       "<td style=\"background: transparent!important; line-height: 10px!important;text-align: left!important;\">BCLAF3</td>\n",
       "<td style=\"background: transparent!important; line-height: 10px!important;text-align: left!important;\">CCNB3</td>\n",
       "<td style=\"background: transparent!important; line-height: 10px!important;text-align: left!important;\">CMC4</td>\n",
       "<td style=\"background: transparent!important; line-height: 10px!important;text-align: left!important;font-weight: bold;\">CYBB</td>\n",
       "<td style=\"background: transparent!important; line-height: 10px!important;text-align: left!important;\">DYNLT3</td>\n",
       "<td style=\"background: transparent!important; line-height: 10px!important;text-align: left!important;font-weight: bold;\">EZHIP</td>\n",
       "<td style=\"background: transparent!important; line-height: 10px!important;text-align: left!important;\">FAM120C</td>\n",
       "</tr>\n",
       "<tr style=\"background: transparent!important; line-height: 10px!important;text-align: left!important;\">\n",
       "<td style=\"background: transparent!important; line-height: 10px!important;text-align: left!important;\">AKAP4</td>\n",
       "<td style=\"background: transparent!important; line-height: 10px!important;text-align: left!important;\">ATP7A</td>\n",
       "<td style=\"background: transparent!important; line-height: 10px!important;text-align: left!important;\">BRCC3</td>\n",
       "<td style=\"background: transparent!important; line-height: 10px!important;text-align: left!important;\">CFAP47</td>\n",
       "<td style=\"background: transparent!important; line-height: 10px!important;text-align: left!important;font-weight: bold;\">CNKSR2</td>\n",
       "<td style=\"background: transparent!important; line-height: 10px!important;text-align: left!important;\">DCX</td>\n",
       "<td style=\"background: transparent!important; line-height: 10px!important;text-align: left!important;font-weight: bold;\">ENOX2</td>\n",
       "<td style=\"background: transparent!important; line-height: 10px!important;text-align: left!important;\">F8</td>\n",
       "<td style=\"background: transparent!important; line-height: 10px!important;text-align: left!important;font-weight: bold;\">FGF16</td>\n",
       "</tr>\n",
       "</table>"
      ],
      "text/plain": [
       "ABCB7     ALG13     ATRX      CAPN6     CLCN5     COX7B     DKC1      ENOX2-AS1 F8A1      \n",
       "ACTRT1    ARHGAP36  BCLAF3    CCNB3     CMC4      CYBB      DYNLT3    EZHIP     FAM120C   \n",
       "AKAP4     ATP7A     BRCC3     CFAP47    CNKSR2    DCX       ENOX2     F8        FGF16     "
      ]
     },
     "execution_count": 13,
     "metadata": {},
     "output_type": "execute_result"
    }
   ],
   "source": [
    "#| classes: .gene-list\n",
    "\n",
    "list_A << (list_B ^ (list_B & list_C))"
   ]
  },
  {
   "cell_type": "markdown",
   "metadata": {},
   "source": [
    "Highlight in A the genes in C but not in B (set difference):"
   ]
  },
  {
   "cell_type": "code",
   "execution_count": 14,
   "metadata": {},
   "outputs": [
    {
     "data": {
      "text/html": [
       "<table data-quarto-disable-processing=\"true\" background: transparent!important; line-height: 10px!important;text-align: left!important;>\n",
       "<tr style=\"background: transparent!important; line-height: 10px!important;text-align: left!important;\">\n",
       "<td style=\"background: transparent!important; line-height: 10px!important;text-align: left!important;\">ABCB7</td>\n",
       "<td style=\"background: transparent!important; line-height: 10px!important;text-align: left!important;font-weight: bold;\">ALG13</td>\n",
       "<td style=\"background: transparent!important; line-height: 10px!important;text-align: left!important;\">ATRX</td>\n",
       "<td style=\"background: transparent!important; line-height: 10px!important;text-align: left!important;font-weight: bold;\">CAPN6</td>\n",
       "<td style=\"background: transparent!important; line-height: 10px!important;text-align: left!important;\">CLCN5</td>\n",
       "<td style=\"background: transparent!important; line-height: 10px!important;text-align: left!important;\">COX7B</td>\n",
       "<td style=\"background: transparent!important; line-height: 10px!important;text-align: left!important;\">DKC1</td>\n",
       "<td style=\"background: transparent!important; line-height: 10px!important;text-align: left!important;\">ENOX2-AS1</td>\n",
       "<td style=\"background: transparent!important; line-height: 10px!important;text-align: left!important;\">F8A1</td>\n",
       "</tr>\n",
       "<tr style=\"background: transparent!important; line-height: 10px!important;text-align: left!important;\">\n",
       "<td style=\"background: transparent!important; line-height: 10px!important;text-align: left!important;font-weight: bold;\">ACTRT1</td>\n",
       "<td style=\"background: transparent!important; line-height: 10px!important;text-align: left!important;\">ARHGAP36</td>\n",
       "<td style=\"background: transparent!important; line-height: 10px!important;text-align: left!important;font-weight: bold;\">BCLAF3</td>\n",
       "<td style=\"background: transparent!important; line-height: 10px!important;text-align: left!important;\">CCNB3</td>\n",
       "<td style=\"background: transparent!important; line-height: 10px!important;text-align: left!important;\">CMC4</td>\n",
       "<td style=\"background: transparent!important; line-height: 10px!important;text-align: left!important;\">CYBB</td>\n",
       "<td style=\"background: transparent!important; line-height: 10px!important;text-align: left!important;\">DYNLT3</td>\n",
       "<td style=\"background: transparent!important; line-height: 10px!important;text-align: left!important;\">EZHIP</td>\n",
       "<td style=\"background: transparent!important; line-height: 10px!important;text-align: left!important;\">FAM120C</td>\n",
       "</tr>\n",
       "<tr style=\"background: transparent!important; line-height: 10px!important;text-align: left!important;\">\n",
       "<td style=\"background: transparent!important; line-height: 10px!important;text-align: left!important;\">AKAP4</td>\n",
       "<td style=\"background: transparent!important; line-height: 10px!important;text-align: left!important;font-weight: bold;\">ATP7A</td>\n",
       "<td style=\"background: transparent!important; line-height: 10px!important;text-align: left!important;\">BRCC3</td>\n",
       "<td style=\"background: transparent!important; line-height: 10px!important;text-align: left!important;font-weight: bold;\">CFAP47</td>\n",
       "<td style=\"background: transparent!important; line-height: 10px!important;text-align: left!important;\">CNKSR2</td>\n",
       "<td style=\"background: transparent!important; line-height: 10px!important;text-align: left!important;\">DCX</td>\n",
       "<td style=\"background: transparent!important; line-height: 10px!important;text-align: left!important;\">ENOX2</td>\n",
       "<td style=\"background: transparent!important; line-height: 10px!important;text-align: left!important;\">F8</td>\n",
       "<td style=\"background: transparent!important; line-height: 10px!important;text-align: left!important;\">FGF16</td>\n",
       "</tr>\n",
       "</table>"
      ],
      "text/plain": [
       "ABCB7     ALG13     ATRX      CAPN6     CLCN5     COX7B     DKC1      ENOX2-AS1 F8A1      \n",
       "ACTRT1    ARHGAP36  BCLAF3    CCNB3     CMC4      CYBB      DYNLT3    EZHIP     FAM120C   \n",
       "AKAP4     ATP7A     BRCC3     CFAP47    CNKSR2    DCX       ENOX2     F8        FGF16     "
      ]
     },
     "execution_count": 14,
     "metadata": {},
     "output_type": "execute_result"
    }
   ],
   "source": [
    "#| classes: .gene-list\n",
    "\n",
    "list_A << (list_C ^ (list_C & list_B))"
   ]
  },
  {
   "cell_type": "markdown",
   "metadata": {},
   "source": [
    "## GeneListCollection"
   ]
  },
  {
   "cell_type": "markdown",
   "metadata": {},
   "source": [
    "Load table of gene lists from a yaml file with the format below. Each gene list must have a unique list_label. The `genes` field is mandatory, the `description` field is not. Additional fields are ignored.\n",
    "\n",
    "```yaml\n",
    "<list_label>:\n",
    "  description: |\n",
    "    <free text description of the gene list>\n",
    "    <free text description of the gene list>\n",
    "  genes: <gene_name>, <gene_name>, ...\n",
    "<list_label>:\n",
    "  description: |\n",
    "    <free text description of the gene list>\n",
    "    <free text description of the gene list>\n",
    "  genes: <gene_name>, <gene_name>, ...\n",
    "```"
   ]
  },
  {
   "cell_type": "code",
   "execution_count": 15,
   "metadata": {},
   "outputs": [],
   "source": [
    "yaml = \"\"\"\n",
    "cool_genes:\n",
    "    description: \"A list of cool genes\"\n",
    "    genes: ['TP53', 'BRCA1', 'EGFR', 'VEGFA', 'MYC']\n",
    "target_genes:\n",
    "    description: \"A list of other genes\"\n",
    "    genes: ['AKT1', 'PIK3CA', 'PTEN', 'TP53', 'BRCA1']\n",
    "\"\"\"\n",
    "with open('gene_lists.yaml', 'w') as f:\n",
    "    f.write(yaml)"
   ]
  },
  {
   "cell_type": "code",
   "execution_count": 25,
   "metadata": {},
   "outputs": [
    {
     "data": {
      "text/html": [
       "<style type=\"text/css\">\n",
       "#T_5107b .col0 {\n",
       "  text-align: left;\n",
       "}\n",
       "#T_5107b .col1 {\n",
       "  text-align: left;\n",
       "}\n",
       "</style>\n",
       "<table id=\"T_5107b\">\n",
       "  <thead>\n",
       "    <tr>\n",
       "      <th id=\"T_5107b_level0_col0\" class=\"col_heading level0 col0\" >List label</th>\n",
       "      <th id=\"T_5107b_level0_col1\" class=\"col_heading level0 col1\" >Description</th>\n",
       "    </tr>\n",
       "  </thead>\n",
       "  <tbody>\n",
       "    <tr>\n",
       "      <td id=\"T_5107b_row0_col0\" class=\"data row0 col0\" >cool_genes</td>\n",
       "      <td id=\"T_5107b_row0_col1\" class=\"data row0 col1\" >A list of cool genes</td>\n",
       "    </tr>\n",
       "    <tr>\n",
       "      <td id=\"T_5107b_row1_col0\" class=\"data row1 col0\" >target_genes</td>\n",
       "      <td id=\"T_5107b_row1_col1\" class=\"data row1 col1\" >A list of other genes</td>\n",
       "    </tr>\n",
       "  </tbody>\n",
       "</table>\n"
      ],
      "text/plain": []
     },
     "execution_count": 25,
     "metadata": {},
     "output_type": "execute_result"
    }
   ],
   "source": [
    "gene_lists = GeneListCollection('gene_lists.yaml')\n",
    "gene_lists"
   ]
  },
  {
   "cell_type": "code",
   "execution_count": 17,
   "metadata": {},
   "outputs": [
    {
     "data": {
      "text/html": [
       "<table data-quarto-disable-processing=\"true\" background: transparent!important; line-height: 10px!important;text-align: left!important;>\n",
       "<tr style=\"background: transparent!important; line-height: 10px!important;text-align: left!important;\">\n",
       "<td style=\"background: transparent!important; line-height: 10px!important;text-align: left!important;\">TP53</td>\n",
       "<td style=\"background: transparent!important; line-height: 10px!important;text-align: left!important;\">BRCA1</td>\n",
       "<td style=\"background: transparent!important; line-height: 10px!important;text-align: left!important;\">EGFR</td>\n",
       "<td style=\"background: transparent!important; line-height: 10px!important;text-align: left!important;\">VEGFA</td>\n",
       "<td style=\"background: transparent!important; line-height: 10px!important;text-align: left!important;\">MYC</td>\n",
       "</tr>\n",
       "</table>"
      ],
      "text/plain": [
       "TP53  BRCA1 EGFR  VEGFA MYC   "
      ]
     },
     "execution_count": 17,
     "metadata": {},
     "output_type": "execute_result"
    }
   ],
   "source": [
    "gene_lists.get('cool_genes')"
   ]
  },
  {
   "cell_type": "code",
   "execution_count": 18,
   "metadata": {},
   "outputs": [
    {
     "data": {
      "text/html": [
       "<table data-quarto-disable-processing=\"true\" background: transparent!important; line-height: 10px!important;text-align: left!important;>\n",
       "<tr style=\"background: transparent!important; line-height: 10px!important;text-align: left!important;\">\n",
       "<td style=\"background: transparent!important; line-height: 10px!important;text-align: left!important;\">AKT1</td>\n",
       "<td style=\"background: transparent!important; line-height: 10px!important;text-align: left!important;\">BRCA1</td>\n",
       "<td style=\"background: transparent!important; line-height: 10px!important;text-align: left!important;\">EGFR</td>\n",
       "<td style=\"background: transparent!important; line-height: 10px!important;text-align: left!important;\">MYC</td>\n",
       "<td style=\"background: transparent!important; line-height: 10px!important;text-align: left!important;\">PIK3CA</td>\n",
       "<td style=\"background: transparent!important; line-height: 10px!important;text-align: left!important;\">PTEN</td>\n",
       "<td style=\"background: transparent!important; line-height: 10px!important;text-align: left!important;\">TP53</td>\n",
       "<td style=\"background: transparent!important; line-height: 10px!important;text-align: left!important;\">VEGFA</td>\n",
       "</tr>\n",
       "</table>"
      ],
      "text/plain": [
       "AKT1   BRCA1  EGFR   MYC    PIK3CA PTEN   TP53   VEGFA  "
      ]
     },
     "execution_count": 18,
     "metadata": {},
     "output_type": "execute_result"
    }
   ],
   "source": [
    "gene_lists.all_genes()"
   ]
  },
  {
   "cell_type": "markdown",
   "metadata": {},
   "source": [
    "Or from a Google Sheet using its ID and the sheet name:"
   ]
  },
  {
   "cell_type": "code",
   "execution_count": 19,
   "metadata": {},
   "outputs": [],
   "source": [
    "# gene_lists = GeneListCollection(google_sheet='2JSjSLuto3jqdEnnG7JqzeC_1pUZw76n7XueVAYrUOpk')"
   ]
  },
  {
   "cell_type": "markdown",
   "metadata": {},
   "source": [
    "See which neuron genes are also SFARI genes:"
   ]
  },
  {
   "cell_type": "code",
   "execution_count": 20,
   "metadata": {},
   "outputs": [],
   "source": [
    "# gene_lists = GeneListCollection(google_sheet='2JSjSLuto3jqdEnnG7JqzeC_1pUZw76n7XueVAYrUOpk')"
   ]
  },
  {
   "cell_type": "code",
   "execution_count": 29,
   "metadata": {},
   "outputs": [],
   "source": [
    "#| echo: false\n",
    "#| output: false\n",
    "#| classes: .gene-list\n",
    "\n",
    "gene_lists = GeneListCollection(google_sheet='1JSjSLuto3jqdEnnG7JqzeC_1pUZw76n7XueVAYrUOpk')"
   ]
  },
  {
   "cell_type": "code",
   "execution_count": 30,
   "metadata": {},
   "outputs": [
    {
     "data": {
      "text/html": [
       "<style type=\"text/css\">\n",
       "#T_6c8cf .col0 {\n",
       "  text-align: left;\n",
       "}\n",
       "#T_6c8cf .col1 {\n",
       "  text-align: left;\n",
       "}\n",
       "</style>\n",
       "<table id=\"T_6c8cf\">\n",
       "  <thead>\n",
       "    <tr>\n",
       "      <th id=\"T_6c8cf_level0_col0\" class=\"col_heading level0 col0\" >List label</th>\n",
       "      <th id=\"T_6c8cf_level0_col1\" class=\"col_heading level0 col1\" >Description</th>\n",
       "    </tr>\n",
       "  </thead>\n",
       "  <tbody>\n",
       "    <tr>\n",
       "      <td id=\"T_6c8cf_row0_col0\" class=\"data row0 col0\" >all_npx</td>\n",
       "      <td id=\"T_6c8cf_row0_col1\" class=\"data row0 col1\" >all NPX genes</td>\n",
       "    </tr>\n",
       "    <tr>\n",
       "      <td id=\"T_6c8cf_row1_col0\" class=\"data row1 col0\" >neuron_genome_proteome</td>\n",
       "      <td id=\"T_6c8cf_row1_col1\" class=\"data row1 col1\" >Neuron proteome (whole genome)</td>\n",
       "    </tr>\n",
       "    <tr>\n",
       "      <td id=\"T_6c8cf_row2_col0\" class=\"data row2 col0\" >neuron_npx_proteome</td>\n",
       "      <td id=\"T_6c8cf_row2_col1\" class=\"data row2 col1\" >NPX neuron proteome</td>\n",
       "    </tr>\n",
       "    <tr>\n",
       "      <td id=\"T_6c8cf_row3_col0\" class=\"data row3 col0\" >matos_neuron</td>\n",
       "      <td id=\"T_6c8cf_row3_col1\" class=\"data row3 col1\" >Matos neuron genes</td>\n",
       "    </tr>\n",
       "    <tr>\n",
       "      <td id=\"T_6c8cf_row4_col0\" class=\"data row4 col0\" >matos_common</td>\n",
       "      <td id=\"T_6c8cf_row4_col1\" class=\"data row4 col1\" >Matos neuron genes expressed in spermatids</td>\n",
       "    </tr>\n",
       "    <tr>\n",
       "      <td id=\"T_6c8cf_row5_col0\" class=\"data row5 col0\" >hpa_brain_prot</td>\n",
       "      <td id=\"T_6c8cf_row5_col1\" class=\"data row5 col1\" >Brain genes form Human protein atlas</td>\n",
       "    </tr>\n",
       "    <tr>\n",
       "      <td id=\"T_6c8cf_row6_col0\" class=\"data row6 col0\" >meritxell_spermatid_expr</td>\n",
       "      <td id=\"T_6c8cf_row6_col1\" class=\"data row6 col1\" ></td>\n",
       "    </tr>\n",
       "    <tr>\n",
       "      <td id=\"T_6c8cf_row7_col0\" class=\"data row7 col0\" >mult_copy</td>\n",
       "      <td id=\"T_6c8cf_row7_col1\" class=\"data row7 col1\" >Multi copy genes</td>\n",
       "    </tr>\n",
       "    <tr>\n",
       "      <td id=\"T_6c8cf_row8_col0\" class=\"data row8 col0\" >primate_ampl_multi</td>\n",
       "      <td id=\"T_6c8cf_row8_col1\" class=\"data row8 col1\" >Ampliconic or multicopy in some primates</td>\n",
       "    </tr>\n",
       "    <tr>\n",
       "      <td id=\"T_6c8cf_row9_col0\" class=\"data row9 col0\" >gametologs</td>\n",
       "      <td id=\"T_6c8cf_row9_col1\" class=\"data row9 col1\" >Gametologs in some primates</td>\n",
       "    </tr>\n",
       "    <tr>\n",
       "      <td id=\"T_6c8cf_row10_col0\" class=\"data row10 col0\" >old_cDEG</td>\n",
       "      <td id=\"T_6c8cf_row10_col1\" class=\"data row10 col1\" >Old cDEG</td>\n",
       "    </tr>\n",
       "    <tr>\n",
       "      <td id=\"T_6c8cf_row11_col0\" class=\"data row11 col0\" >cDEG</td>\n",
       "      <td id=\"T_6c8cf_row11_col1\" class=\"data row11 col1\" >The rerun cDEGs</td>\n",
       "    </tr>\n",
       "    <tr>\n",
       "      <td id=\"T_6c8cf_row12_col0\" class=\"data row12 col0\" >cDEG_alt</td>\n",
       "      <td id=\"T_6c8cf_row12_col1\" class=\"data row12 col1\" ></td>\n",
       "    </tr>\n",
       "    <tr>\n",
       "      <td id=\"T_6c8cf_row13_col0\" class=\"data row13 col0\" >Old nDEG</td>\n",
       "      <td id=\"T_6c8cf_row13_col1\" class=\"data row13 col1\" >old nDEG</td>\n",
       "    </tr>\n",
       "    <tr>\n",
       "      <td id=\"T_6c8cf_row14_col0\" class=\"data row14 col0\" >nDEG</td>\n",
       "      <td id=\"T_6c8cf_row14_col1\" class=\"data row14 col1\" >nDEG</td>\n",
       "    </tr>\n",
       "    <tr>\n",
       "      <td id=\"T_6c8cf_row15_col0\" class=\"data row15 col0\" >hybridDEG</td>\n",
       "      <td id=\"T_6c8cf_row15_col1\" class=\"data row15 col1\" ></td>\n",
       "    </tr>\n",
       "    <tr>\n",
       "      <td id=\"T_6c8cf_row16_col0\" class=\"data row16 col0\" >chromatin_genes</td>\n",
       "      <td id=\"T_6c8cf_row16_col1\" class=\"data row16 col1\" >chromatin genes according to biology GPT</td>\n",
       "    </tr>\n",
       "    <tr>\n",
       "      <td id=\"T_6c8cf_row17_col0\" class=\"data row17 col0\" >circRNA</td>\n",
       "      <td id=\"T_6c8cf_row17_col1\" class=\"data row17 col1\" >circRNA</td>\n",
       "    </tr>\n",
       "    <tr>\n",
       "      <td id=\"T_6c8cf_row18_col0\" class=\"data row18 col0\" >xi</td>\n",
       "      <td id=\"T_6c8cf_row18_col1\" class=\"data row18 col1\" >Microtubule-Associated Proteins (MAPs)</td>\n",
       "    </tr>\n",
       "    <tr>\n",
       "      <td id=\"T_6c8cf_row19_col0\" class=\"data row19 col0\" >xi_escape</td>\n",
       "      <td id=\"T_6c8cf_row19_col1\" class=\"data row19 col1\" >Subject to somatic X inactivation (XI)</td>\n",
       "    </tr>\n",
       "    <tr>\n",
       "      <td id=\"T_6c8cf_row20_col0\" class=\"data row20 col0\" >xi_uncertain</td>\n",
       "      <td id=\"T_6c8cf_row20_col1\" class=\"data row20 col1\" >Escaping somatic X inactivation (XI)</td>\n",
       "    </tr>\n",
       "    <tr>\n",
       "      <td id=\"T_6c8cf_row21_col0\" class=\"data row21 col0\" >xi_any_evidence</td>\n",
       "      <td id=\"T_6c8cf_row21_col1\" class=\"data row21 col1\" >cDEG and Xi escape</td>\n",
       "    </tr>\n",
       "    <tr>\n",
       "      <td id=\"T_6c8cf_row22_col0\" class=\"data row22 col0\" >expr_mod_xi_copynr_fibrobl</td>\n",
       "      <td id=\"T_6c8cf_row22_col1\" class=\"data row22 col1\" >allDEG and Xi escape</td>\n",
       "    </tr>\n",
       "    <tr>\n",
       "      <td id=\"T_6c8cf_row23_col0\" class=\"data row23 col0\" >expr_mod_xi_copynr_lcl</td>\n",
       "      <td id=\"T_6c8cf_row23_col1\" class=\"data row23 col1\" >Xi escapers in either ECH,  hama or hum-nean</td>\n",
       "    </tr>\n",
       "    <tr>\n",
       "      <td id=\"T_6c8cf_row24_col0\" class=\"data row24 col0\" >expr_mod_xi_copynr</td>\n",
       "      <td id=\"T_6c8cf_row24_col1\" class=\"data row24 col1\" >Xi escapers in ECH or hum-nean</td>\n",
       "    </tr>\n",
       "    <tr>\n",
       "      <td id=\"T_6c8cf_row25_col0\" class=\"data row25 col0\" >pure_hama</td>\n",
       "      <td id=\"T_6c8cf_row25_col1\" class=\"data row25 col1\" >Xi escapers  in hama or hum-nean</td>\n",
       "    </tr>\n",
       "    <tr>\n",
       "      <td id=\"T_6c8cf_row26_col0\" class=\"data row26 col0\" >hum_nean_admix</td>\n",
       "      <td id=\"T_6c8cf_row26_col1\" class=\"data row26 col1\" >Xi escapers  in hum-nean</td>\n",
       "    </tr>\n",
       "    <tr>\n",
       "      <td id=\"T_6c8cf_row27_col0\" class=\"data row27 col0\" >ari_relate_EUR</td>\n",
       "      <td id=\"T_6c8cf_row27_col1\" class=\"data row27 col1\" >Xi escapers  in ECH90</td>\n",
       "    </tr>\n",
       "    <tr>\n",
       "      <td id=\"T_6c8cf_row28_col0\" class=\"data row28 col0\" >ari_relate_ASIA</td>\n",
       "      <td id=\"T_6c8cf_row28_col1\" class=\"data row28 col1\" >Xi escapers  in hama</td>\n",
       "    </tr>\n",
       "    <tr>\n",
       "      <td id=\"T_6c8cf_row29_col0\" class=\"data row29 col0\" >ari_relate_AFR</td>\n",
       "      <td id=\"T_6c8cf_row29_col1\" class=\"data row29 col1\" >Xi escaping (primate)  gametologs</td>\n",
       "    </tr>\n",
       "    <tr>\n",
       "      <td id=\"T_6c8cf_row30_col0\" class=\"data row30 col0\" >ari_nonPUR</td>\n",
       "      <td id=\"T_6c8cf_row30_col1\" class=\"data row30 col1\" >Xi escaping (primate)  gametologs in hum-nean</td>\n",
       "    </tr>\n",
       "    <tr>\n",
       "      <td id=\"T_6c8cf_row31_col0\" class=\"data row31 col0\" >ari_relate_PUR</td>\n",
       "      <td id=\"T_6c8cf_row31_col1\" class=\"data row31 col1\" >Xi escaping (primate)  gametologs in hama</td>\n",
       "    </tr>\n",
       "    <tr>\n",
       "      <td id=\"T_6c8cf_row32_col0\" class=\"data row32 col0\" >ari_all</td>\n",
       "      <td id=\"T_6c8cf_row32_col1\" class=\"data row32 col1\" >Xi escape in ari_nonPUR</td>\n",
       "    </tr>\n",
       "    <tr>\n",
       "      <td id=\"T_6c8cf_row33_col0\" class=\"data row33 col0\" >candidates</td>\n",
       "      <td id=\"T_6c8cf_row33_col1\" class=\"data row33 col1\" >Xi escape in accel_reg_simiiformes_br</td>\n",
       "    </tr>\n",
       "    <tr>\n",
       "      <td id=\"T_6c8cf_row34_col0\" class=\"data row34 col0\" >ech75_regions</td>\n",
       "      <td id=\"T_6c8cf_row34_col1\" class=\"data row34 col1\" >X genes uncertain XI status</td>\n",
       "    </tr>\n",
       "    <tr>\n",
       "      <td id=\"T_6c8cf_row35_col0\" class=\"data row35 col0\" >ech90_regions</td>\n",
       "      <td id=\"T_6c8cf_row35_col1\" class=\"data row35 col1\" >Union of certain  and uncertain  XI status</td>\n",
       "    </tr>\n",
       "    <tr>\n",
       "      <td id=\"T_6c8cf_row36_col0\" class=\"data row36 col0\" >linAR_all</td>\n",
       "      <td id=\"T_6c8cf_row36_col1\" class=\"data row36 col1\" >Expression  modulated by Xi copy number (Fibroblast)</td>\n",
       "    </tr>\n",
       "    <tr>\n",
       "      <td id=\"T_6c8cf_row37_col0\" class=\"data row37 col0\" >linAR_human</td>\n",
       "      <td id=\"T_6c8cf_row37_col1\" class=\"data row37 col1\" >Expression  modulated by Xi copy number (LCL)</td>\n",
       "    </tr>\n",
       "    <tr>\n",
       "      <td id=\"T_6c8cf_row38_col0\" class=\"data row38 col0\" >linAR_chimp</td>\n",
       "      <td id=\"T_6c8cf_row38_col1\" class=\"data row38 col1\" >Expression  modulated by Xi copy number (Fibroblast or LCL)</td>\n",
       "    </tr>\n",
       "    <tr>\n",
       "      <td id=\"T_6c8cf_row39_col0\" class=\"data row39 col0\" >linAR_gorilla</td>\n",
       "      <td id=\"T_6c8cf_row39_col1\" class=\"data row39 col1\" >Genes in 95% pure hamadryas regions in Gog</td>\n",
       "    </tr>\n",
       "    <tr>\n",
       "      <td id=\"T_6c8cf_row40_col0\" class=\"data row40 col0\" >linAR_orang</td>\n",
       "      <td id=\"T_6c8cf_row40_col1\" class=\"data row40 col1\" >Human-Neanderthal introgression</td>\n",
       "    </tr>\n",
       "    <tr>\n",
       "      <td id=\"T_6c8cf_row41_col0\" class=\"data row41 col0\" >accel_reg_simiiformes_br</td>\n",
       "      <td id=\"T_6c8cf_row41_col1\" class=\"data row41 col1\" ></td>\n",
       "    </tr>\n",
       "    <tr>\n",
       "      <td id=\"T_6c8cf_row42_col0\" class=\"data row42 col0\" >my_primate_codeml</td>\n",
       "      <td id=\"T_6c8cf_row42_col1\" class=\"data row42 col1\" ></td>\n",
       "    </tr>\n",
       "    <tr>\n",
       "      <td id=\"T_6c8cf_row43_col0\" class=\"data row43 col0\" >reg_sa_pheno</td>\n",
       "      <td id=\"T_6c8cf_row43_col1\" class=\"data row43 col1\" ></td>\n",
       "    </tr>\n",
       "    <tr>\n",
       "      <td id=\"T_6c8cf_row44_col0\" class=\"data row44 col0\" >sfari_all_conf</td>\n",
       "      <td id=\"T_6c8cf_row44_col1\" class=\"data row44 col1\" ></td>\n",
       "    </tr>\n",
       "    <tr>\n",
       "      <td id=\"T_6c8cf_row45_col0\" class=\"data row45 col0\" >intel_seiz_lang</td>\n",
       "      <td id=\"T_6c8cf_row45_col1\" class=\"data row45 col1\" ></td>\n",
       "    </tr>\n",
       "    <tr>\n",
       "      <td id=\"T_6c8cf_row46_col0\" class=\"data row46 col0\" >intelect_disabil</td>\n",
       "      <td id=\"T_6c8cf_row46_col1\" class=\"data row46 col1\" ></td>\n",
       "    </tr>\n",
       "    <tr>\n",
       "      <td id=\"T_6c8cf_row47_col0\" class=\"data row47 col0\" >xbrain</td>\n",
       "      <td id=\"T_6c8cf_row47_col1\" class=\"data row47 col1\" >Candidate for explaining human and baboon sweeps</td>\n",
       "    </tr>\n",
       "  </tbody>\n",
       "</table>\n"
      ],
      "text/plain": []
     },
     "execution_count": 30,
     "metadata": {},
     "output_type": "execute_result"
    }
   ],
   "source": [
    "gene_lists"
   ]
  },
  {
   "cell_type": "code",
   "execution_count": 16,
   "metadata": {},
   "outputs": [
    {
     "ename": "AttributeError",
     "evalue": "'GeneListCollection' object has no attribute 'data'",
     "output_type": "error",
     "traceback": [
      "\u001b[31m---------------------------------------------------------------------------\u001b[39m",
      "\u001b[31mAttributeError\u001b[39m                            Traceback (most recent call last)",
      "\u001b[36mCell\u001b[39m\u001b[36m \u001b[39m\u001b[32mIn[16]\u001b[39m\u001b[32m, line 5\u001b[39m\n\u001b[32m      1\u001b[39m \u001b[38;5;66;03m#| echo: false\u001b[39;00m\n\u001b[32m      2\u001b[39m \u001b[38;5;66;03m#| output: false\u001b[39;00m\n\u001b[32m      3\u001b[39m \u001b[38;5;66;03m#| classes: .gene-list\u001b[39;00m\n\u001b[32m----> \u001b[39m\u001b[32m5\u001b[39m neuron_genes = glist(\u001b[43mgene_lists\u001b[49m\u001b[43m.\u001b[49m\u001b[43mget\u001b[49m\u001b[43m(\u001b[49m\u001b[33;43m'\u001b[39;49m\u001b[33;43mneuron_npx_proteome\u001b[39;49m\u001b[33;43m'\u001b[39;49m\u001b[43m)\u001b[49m)\n\u001b[32m      6\u001b[39m sfari = glist(gene_lists.get(\u001b[33m'\u001b[39m\u001b[33msfari_all_conf\u001b[39m\u001b[33m'\u001b[39m))\n\u001b[32m      7\u001b[39m neuron_genes << sfari\n",
      "\u001b[36mFile \u001b[39m\u001b[32m~/geneinfo/src/geneinfo/genelist/__init__.py:349\u001b[39m, in \u001b[36mGeneListCollection.get\u001b[39m\u001b[34m(self, name)\u001b[39m\n\u001b[32m    344\u001b[39m \u001b[38;5;28;01mdef\u001b[39;00m\u001b[38;5;250m \u001b[39m\u001b[34mget\u001b[39m(\u001b[38;5;28mself\u001b[39m, name):\n\u001b[32m    345\u001b[39m     \u001b[38;5;66;03m# sr = self.df[name]\u001b[39;00m\n\u001b[32m    346\u001b[39m     \u001b[38;5;66;03m# sr = self.df.loc[~sr.isnull(), name]\u001b[39;00m\n\u001b[32m    347\u001b[39m     \u001b[38;5;66;03m# # lst = sorted(self.expand_amplicon_abbrev(sr.tolist()))\u001b[39;00m\n\u001b[32m    348\u001b[39m     \u001b[38;5;66;03m# lst = sr.tolist()\u001b[39;00m\n\u001b[32m--> \u001b[39m\u001b[32m349\u001b[39m     \u001b[38;5;28;01mreturn\u001b[39;00m GeneList(\u001b[38;5;28;43mself\u001b[39;49m\u001b[43m.\u001b[49m\u001b[43mdata\u001b[49m[name][\u001b[33m'\u001b[39m\u001b[33mgenes\u001b[39m\u001b[33m'\u001b[39m]).name(name)\n",
      "\u001b[31mAttributeError\u001b[39m: 'GeneListCollection' object has no attribute 'data'"
     ]
    }
   ],
   "source": [
    "#| echo: false\n",
    "#| output: false\n",
    "#| classes: .gene-list\n",
    "\n",
    "neuron_genes = glist(gene_lists.get('neuron_npx_proteome'))\n",
    "sfari = glist(gene_lists.get('sfari_all_conf'))\n",
    "neuron_genes << sfari"
   ]
  },
  {
   "cell_type": "code",
   "execution_count": 37,
   "metadata": {},
   "outputs": [
    {
     "data": {
      "text/html": [
       "<table data-quarto-disable-processing=\"true\" background: transparent!important; line-height: 10px!important;text-align: left!important;>\n",
       "<tr style=\"background: transparent!important; line-height: 10px!important;text-align: left!important;\">\n",
       "<td style=\"background: transparent!important; line-height: 10px!important;text-align: left!important;color:#1876D2; text-decoration: underline;\">CFAP47</td>\n",
       "<td style=\"background: transparent!important; line-height: 10px!important;text-align: left!important;\">EDA</td>\n",
       "<td style=\"background: transparent!important; line-height: 10px!important;text-align: left!important;font-weight: bold; font-style: italic;\">HUWE1</td>\n",
       "<td style=\"background: transparent!important; line-height: 10px!important;text-align: left!important;color:#1876D2;\">PHF8</td>\n",
       "<td style=\"background: transparent!important; line-height: 10px!important;text-align: left!important;\">SCML1</td>\n",
       "<td style=\"background: transparent!important; line-height: 10px!important;text-align: left!important;text-decoration: underline;\">UPF3B</td>\n",
       "</tr>\n",
       "<tr style=\"background: transparent!important; line-height: 10px!important;text-align: left!important;\">\n",
       "<td style=\"background: transparent!important; line-height: 10px!important;text-align: left!important;text-decoration: underline;\">DDX3X</td>\n",
       "<td style=\"background: transparent!important; line-height: 10px!important;text-align: left!important;text-decoration: underline;\">EIF1AX</td>\n",
       "<td style=\"background: transparent!important; line-height: 10px!important;text-align: left!important;font-weight: bold;\">IQSEC2</td>\n",
       "<td style=\"background: transparent!important; line-height: 10px!important;text-align: left!important;font-weight: bold; text-decoration: underline;\">PRICKLE3</td>\n",
       "<td style=\"background: transparent!important; line-height: 10px!important;text-align: left!important;font-weight: bold;\">SRPX2</td>\n",
       "<td style=\"background: transparent!important; line-height: 10px!important;text-align: left!important;\">VSIG1</td>\n",
       "</tr>\n",
       "<tr style=\"background: transparent!important; line-height: 10px!important;text-align: left!important;\">\n",
       "<td style=\"background: transparent!important; line-height: 10px!important;text-align: left!important;font-weight: bold; text-decoration: underline;\">DIAPH2</td>\n",
       "<td style=\"background: transparent!important; line-height: 10px!important;text-align: left!important;\">EMD</td>\n",
       "<td style=\"background: transparent!important; line-height: 10px!important;text-align: left!important;\">mc_ampl_SPANXN5</td>\n",
       "<td style=\"background: transparent!important; line-height: 10px!important;text-align: left!important;\">RBM41</td>\n",
       "<td style=\"background: transparent!important; line-height: 10px!important;text-align: left!important;font-weight: bold; text-decoration: underline;\">SYP</td>\n",
       "<td style=\"background: transparent!important; line-height: 10px!important;text-align: left!important;\"></td>\n",
       "</tr>\n",
       "<tr style=\"background: transparent!important; line-height: 10px!important;text-align: left!important;\">\n",
       "<td style=\"background: transparent!important; line-height: 10px!important;text-align: left!important;color:#1876D2; text-decoration: underline;\">DYNLT3</td>\n",
       "<td style=\"background: transparent!important; line-height: 10px!important;text-align: left!important;color:#1876D2;\">HTR2C</td>\n",
       "<td style=\"background: transparent!important; line-height: 10px!important;text-align: left!important;text-decoration: underline;\">OCRL</td>\n",
       "<td style=\"background: transparent!important; line-height: 10px!important;text-align: left!important;font-style: italic;\">RTL4</td>\n",
       "<td style=\"background: transparent!important; line-height: 10px!important;text-align: left!important;\">SYTL5</td>\n",
       "<td style=\"background: transparent!important; line-height: 10px!important;text-align: left!important;\"></td>\n",
       "</tr>\n",
       "</table>"
      ],
      "text/plain": [
       "CFAP47          EDA             HUWE1           PHF8            SCML1           UPF3B           \n",
       "DDX3X           EIF1AX          IQSEC2          PRICKLE3        SRPX2           VSIG1           \n",
       "DIAPH2          EMD             mc_ampl_SPANXN5 RBM41           SYP                             \n",
       "DYNLT3          HTR2C           OCRL            RTL4            SYTL5                           "
      ]
     },
     "execution_count": 37,
     "metadata": {},
     "output_type": "execute_result"
    }
   ],
   "source": [
    "(glist(gene_lists.get('cDEG')) \n",
    " << glist(gene_lists.get('Hama'))\n",
    " << glist(gene_lists.get('ech90_regions'))\n",
    " << glist(gene_lists.get('hum_nean_admix'))\n",
    " << glist(gene_lists.get('ari_nonPUR'))\n",
    ")"
   ]
  },
  {
   "cell_type": "code",
   "execution_count": null,
   "metadata": {},
   "outputs": [],
   "source": []
  }
 ],
 "metadata": {
  "kernelspec": {
   "display_name": "default",
   "language": "python",
   "name": "python3"
  },
  "language_info": {
   "codemirror_mode": {
    "name": "ipython",
    "version": 3
   },
   "file_extension": ".py",
   "mimetype": "text/x-python",
   "name": "python",
   "nbconvert_exporter": "python",
   "pygments_lexer": "ipython3",
   "version": "3.14.0"
  },
  "widgets": {
   "application/vnd.jupyter.widget-state+json": {
    "state": {},
    "version_major": 2,
    "version_minor": 0
   }
  }
 },
 "nbformat": 4,
 "nbformat_minor": 4
}
