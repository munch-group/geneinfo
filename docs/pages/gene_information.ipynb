{
 "cells": [
  {
   "cell_type": "raw",
   "metadata": {
    "vscode": {
     "languageId": "raw"
    }
   },
   "source": [
    "---\n",
    "title: Gene information\n",
    "jupyter:\n",
    "  kernelspec:\n",
    "    display_name: Python 3 (ipykernel)\n",
    "    language: python\n",
    "    name: python3\n",
    "---"
   ]
  },
  {
   "cell_type": "code",
   "execution_count": 1,
   "metadata": {
    "execution": {
     "iopub.execute_input": "2025-02-09T10:27:50.627393Z",
     "iopub.status.busy": "2025-02-09T10:27:50.626912Z",
     "iopub.status.idle": "2025-02-09T10:27:50.649279Z",
     "shell.execute_reply": "2025-02-09T10:27:50.648928Z"
    }
   },
   "outputs": [],
   "source": [
    "#| echo: false\n",
    "#| output: false\n",
    "\n",
    "%load_ext autoreload\n",
    "%autoreload 2"
   ]
  },
  {
   "cell_type": "code",
   "execution_count": 2,
   "metadata": {
    "execution": {
     "iopub.execute_input": "2025-02-09T10:27:50.651789Z",
     "iopub.status.busy": "2025-02-09T10:27:50.651627Z",
     "iopub.status.idle": "2025-02-09T10:27:51.430968Z",
     "shell.execute_reply": "2025-02-09T10:27:51.430651Z"
    },
    "tags": []
   },
   "outputs": [],
   "source": [
    "import geneinfo.information as gi"
   ]
  },
  {
   "cell_type": "markdown",
   "metadata": {},
   "source": [
    "## Summary gene information"
   ]
  },
  {
   "cell_type": "markdown",
   "metadata": {
    "tags": []
   },
   "source": [
    "**Using gene symbol:**"
   ]
  },
  {
   "cell_type": "code",
   "execution_count": 3,
   "metadata": {
    "execution": {
     "iopub.execute_input": "2025-02-09T10:27:51.433354Z",
     "iopub.status.busy": "2025-02-09T10:27:51.433096Z",
     "iopub.status.idle": "2025-02-09T10:27:52.296886Z",
     "shell.execute_reply": "2025-02-09T10:27:52.296457Z"
    },
    "tags": []
   },
   "outputs": [
    {
     "data": {
      "text/markdown": [
       "**Symbol:** **_USP4_** (protein-coding) &nbsp; &nbsp; &nbsp; &nbsp; **Aliases:** UNP, Unph  \n",
       "*ubiquitin specific peptidase 4*  \n",
       "**Summary:** The protein encoded by this gene is a protease that deubiquitinates target proteins such as ADORA2A and TRIM21. The encoded protein shuttles between the nucleus and cytoplasm and is involved in maintaining operational fidelity in the endoplasmic reticulum. Three transcript variants encoding different isoforms have been found for this gene. [provided by RefSeq, Oct 2011].  \n",
       "**Human genomic position:** 3:49277144-49340712 (hg38), 3:49315264-49378145 (hg19)  \n",
       "[Gene card](https://www.genecards.org/cgi-bin/carddisp.pl?gene=USP4)  \n",
       "\n",
       "\n",
       " ----"
      ],
      "text/plain": [
       "<IPython.core.display.Markdown object>"
      ]
     },
     "metadata": {},
     "output_type": "display_data"
    }
   ],
   "source": [
    "gi.gene_info('USP4')"
   ]
  },
  {
   "cell_type": "markdown",
   "metadata": {
    "tags": []
   },
   "source": [
    "**Using NCBI ID:**"
   ]
  },
  {
   "cell_type": "code",
   "execution_count": 4,
   "metadata": {
    "execution": {
     "iopub.execute_input": "2025-02-09T10:27:52.332240Z",
     "iopub.status.busy": "2025-02-09T10:27:52.332084Z",
     "iopub.status.idle": "2025-02-09T10:27:53.123431Z",
     "shell.execute_reply": "2025-02-09T10:27:53.122744Z"
    },
    "tags": []
   },
   "outputs": [
    {
     "data": {
      "text/markdown": [
       "**Symbol:** **_TP53_** (protein-coding) &nbsp; &nbsp; &nbsp; &nbsp; **Aliases:** BCC7, BMFS5, LFS1, P53, TRP53  \n",
       "*tumor protein p53*  \n",
       "**Summary:** This gene encodes a tumor suppressor protein containing transcriptional activation, DNA binding, and oligomerization domains. The encoded protein responds to diverse cellular stresses to regulate expression of target genes, thereby inducing cell cycle arrest, apoptosis, senescence, DNA repair, or changes in metabolism. Mutations in this gene are associated with a variety of human cancers, including hereditary cancers such as Li-Fraumeni syndrome. Alternative splicing of this gene and the use of alternate promoters result in multiple transcript variants and isoforms. Additional isoforms have also been shown to result from the use of alternate translation initiation codons from identical transcript variants (PMIDs: 12032546, 20937277). [provided by RefSeq, Dec 2016].  \n",
       "**Human genomic position:** 17:7661779-7687546 (hg38), 17:7565097-7590856 (hg19)  \n",
       "[Gene card](https://www.genecards.org/cgi-bin/carddisp.pl?gene=TP53)  \n",
       "\n",
       "\n",
       " ----"
      ],
      "text/plain": [
       "<IPython.core.display.Markdown object>"
      ]
     },
     "metadata": {},
     "output_type": "display_data"
    }
   ],
   "source": [
    "gi.gene_info(7157)"
   ]
  },
  {
   "cell_type": "markdown",
   "metadata": {
    "tags": []
   },
   "source": [
    "**For a a list of genes:**"
   ]
  },
  {
   "cell_type": "code",
   "execution_count": 5,
   "metadata": {
    "execution": {
     "iopub.execute_input": "2025-02-09T10:27:53.126781Z",
     "iopub.status.busy": "2025-02-09T10:27:53.126516Z",
     "iopub.status.idle": "2025-02-09T10:27:54.765820Z",
     "shell.execute_reply": "2025-02-09T10:27:54.765104Z"
    },
    "tags": []
   },
   "outputs": [
    {
     "data": {
      "text/markdown": [
       "**Symbol:** **_LARS2_** (protein-coding) &nbsp; &nbsp; &nbsp; &nbsp; **Aliases:** HLASA, LEURS, PRLTS4, mtLeuRS  \n",
       "*leucyl-tRNA synthetase 2, mitochondrial*  \n",
       "**Summary:** This gene encodes a class 1 aminoacyl-tRNA synthetase, mitochondrial leucyl-tRNA synthetase. Each of the twenty aminoacyl-tRNA synthetases catalyzes the aminoacylation of a specific tRNA or tRNA isoaccepting family with the cognate amino acid. [provided by RefSeq, Jul 2008].  \n",
       "**Human genomic position:** 3:45388561-45554726 (hg38), 3:45429998-45590913 (hg19)  \n",
       "[Gene card](https://www.genecards.org/cgi-bin/carddisp.pl?gene=LARS2)  \n",
       "\n",
       "\n",
       " ----"
      ],
      "text/plain": [
       "<IPython.core.display.Markdown object>"
      ]
     },
     "metadata": {},
     "output_type": "display_data"
    },
    {
     "data": {
      "text/markdown": [
       "**Symbol:** **_XCR1_** (protein-coding) &nbsp; &nbsp; &nbsp; &nbsp; **Aliases:** CCXCR1, GPR5  \n",
       "*X-C motif chemokine receptor 1*  \n",
       "**Summary:** The protein encoded by this gene is a chemokine receptor belonging to the G protein-coupled receptor superfamily. The family members are characterized by the presence of 7 transmembrane domains. The encoded protein transduces a signal by increasing the intracellular calcium ion level. The viral macrophage inflammatory protein-II is an antagonist of this receptor and blocks signaling. Some studies have implicated a cluster of genes at 3p21.31, including this gene, as associated with COVID-19 risk. The encoded protein may also play a role in cell proliferation and migration in several types of cancer. [provided by RefSeq, Jan 2023].  \n",
       "**Human genomic position:** 3:46016990-46085825 (hg38), 3:46058516-46069234 (hg19)  \n",
       "[Gene card](https://www.genecards.org/cgi-bin/carddisp.pl?gene=XCR1)  \n",
       "\n",
       "\n",
       " ----"
      ],
      "text/plain": [
       "<IPython.core.display.Markdown object>"
      ]
     },
     "metadata": {},
     "output_type": "display_data"
    }
   ],
   "source": [
    "gi.gene_info(['LARS2', 'XCR1'])"
   ]
  },
  {
   "cell_type": "markdown",
   "metadata": {},
   "source": [
    "**For genes a region:**"
   ]
  },
  {
   "cell_type": "code",
   "execution_count": 6,
   "metadata": {
    "execution": {
     "iopub.execute_input": "2025-02-09T10:27:54.769538Z",
     "iopub.status.busy": "2025-02-09T10:27:54.769267Z",
     "iopub.status.idle": "2025-02-09T10:27:57.121918Z",
     "shell.execute_reply": "2025-02-09T10:27:57.121274Z"
    }
   },
   "outputs": [
    {
     "data": {
      "text/markdown": [
       "**Symbol:** **_FGF16_** (protein-coding) &nbsp; &nbsp; &nbsp; &nbsp; **Aliases:** FGF-16, MF4  \n",
       "*fibroblast growth factor 16*  \n",
       "**Summary:** This gene encodes a member of a family of proteins that are involved in a variety of biological processes, including embryonic development, cell growth, morphogenesis, tissue repair, tumor growth and invasion. This gene is expressed in cardiac cells and is required for proper heart development. Mutation in this gene was also observed in individuals with metacarpal 4-5 fusion. [provided by RefSeq, Mar 2014].  \n",
       "[Gene card](https://www.genecards.org/cgi-bin/carddisp.pl?gene=FGF16)  \n",
       "\n",
       "\n",
       " ----"
      ],
      "text/plain": [
       "<IPython.core.display.Markdown object>"
      ]
     },
     "metadata": {},
     "output_type": "display_data"
    },
    {
     "data": {
      "text/markdown": [
       "**Symbol:** **_ATRX_** (protein-coding) &nbsp; &nbsp; &nbsp; &nbsp; **Aliases:** JMS, MRX52, RAD54, RAD54L, XH2, XNP, ZNF-HX  \n",
       "*ATRX chromatin remodeler*  \n",
       "**Summary:** The protein encoded by this gene contains an ATPase/helicase domain, and thus it belongs to the SWI/SNF family of chromatin remodeling proteins. This protein is found to undergo cell cycle-dependent phosphorylation, which regulates its nuclear matrix and chromatin association, and suggests its involvement in the gene regulation at interphase and chromosomal segregation in mitosis. Mutations in this gene are associated with X-linked syndromes exhibiting cognitive disabilities as well as alpha-thalassemia (ATRX) syndrome. These mutations have been shown to cause diverse changes in the pattern of DNA methylation, which may provide a link between chromatin remodeling, DNA methylation, and gene expression in developmental processes. Multiple alternatively spliced transcript variants encoding distinct isoforms have been reported. [provided by RefSeq, Jul 2017].  \n",
       "**Human genomic position:** X:77504880-77786233 (hg38), HG1426_PATCH:76765832-77047170, X:76760356-77041702 (hg19)  \n",
       "[Gene card](https://www.genecards.org/cgi-bin/carddisp.pl?gene=ATRX)  \n",
       "\n",
       "\n",
       " ----"
      ],
      "text/plain": [
       "<IPython.core.display.Markdown object>"
      ]
     },
     "metadata": {},
     "output_type": "display_data"
    }
   ],
   "source": [
    "gi.gene_info_region('chrX', 76500000, 77000000, assembly='hg19')"
   ]
  },
  {
   "cell_type": "markdown",
   "metadata": {},
   "source": [
    "## Get the HGCN symbol for an alias"
   ]
  },
  {
   "cell_type": "code",
   "execution_count": 7,
   "metadata": {
    "execution": {
     "iopub.execute_input": "2025-02-09T10:27:57.125141Z",
     "iopub.status.busy": "2025-02-09T10:27:57.124875Z",
     "iopub.status.idle": "2025-02-09T10:27:57.153719Z",
     "shell.execute_reply": "2025-02-09T10:27:57.153406Z"
    }
   },
   "outputs": [
    {
     "data": {
      "text/plain": [
       "['BCLAF3', 'BCLAF3', 'BCLAF3']"
      ]
     },
     "execution_count": 7,
     "metadata": {},
     "output_type": "execute_result"
    }
   ],
   "source": [
    "gi.hgcn_symbol(['CXorf23', 'BCLAF3', 'ENSG00000173681'])"
   ]
  },
  {
   "cell_type": "markdown",
   "metadata": {},
   "source": [
    "## Gene coordinates\n",
    "\n",
    "For a list of genes:"
   ]
  },
  {
   "cell_type": "code",
   "execution_count": 8,
   "metadata": {
    "execution": {
     "iopub.execute_input": "2025-02-09T10:27:57.155675Z",
     "iopub.status.busy": "2025-02-09T10:27:57.155530Z",
     "iopub.status.idle": "2025-02-09T10:27:57.183640Z",
     "shell.execute_reply": "2025-02-09T10:27:57.183387Z"
    }
   },
   "outputs": [
    {
     "data": {
      "text/plain": [
       "[('chrX', 77504879, 77786216, 'ATRX'),\n",
       " ('chrX', 77825746, 77895568, 'MAGT1'),\n",
       " ('chr7', 114086326, 114693765, 'FOXP2')]"
      ]
     },
     "execution_count": 8,
     "metadata": {},
     "output_type": "execute_result"
    }
   ],
   "source": [
    "gi.gene_coords(['ATRX', 'MAGT1', 'FOXP2'], assembly='hg38')"
   ]
  },
  {
   "cell_type": "markdown",
   "metadata": {},
   "source": [
    "For the genes in a genomic region:"
   ]
  },
  {
   "cell_type": "code",
   "execution_count": 9,
   "metadata": {
    "execution": {
     "iopub.execute_input": "2025-02-09T10:27:57.185155Z",
     "iopub.status.busy": "2025-02-09T10:27:57.185058Z",
     "iopub.status.idle": "2025-02-09T10:27:57.199506Z",
     "shell.execute_reply": "2025-02-09T10:27:57.199266Z"
    },
    "tags": []
   },
   "outputs": [
    {
     "data": {
      "text/plain": [
       "[('FGF16',\n",
       "  'chrX',\n",
       "  76709642,\n",
       "  76712769,\n",
       "  ([(76709642, 76709751), (76711767, 76712769)],)),\n",
       " ('ATRX',\n",
       "  'chrX',\n",
       "  76760357,\n",
       "  77041702,\n",
       "  ([(76760357, 76764107),\n",
       "    (76776265, 76776394),\n",
       "    (76776880, 76776976),\n",
       "    (76777740, 76777866),\n",
       "    (76778729, 76778879),\n",
       "    (76812921, 76813116),\n",
       "    (76814139, 76814317),\n",
       "    (76829714, 76829823),\n",
       "    (76845303, 76845410),\n",
       "    (76849165, 76849319),\n",
       "    (76854879, 76855049),\n",
       "    (76855200, 76855289),\n",
       "    (76855902, 76856033),\n",
       "    (76872080, 76872198),\n",
       "    (76874273, 76874449),\n",
       "    (76875862, 76876000),\n",
       "    (76888694, 76888872),\n",
       "    (76889053, 76889200),\n",
       "    (76890084, 76890194),\n",
       "    (76891405, 76891547),\n",
       "    (76907603, 76907843),\n",
       "    (76909587, 76909690),\n",
       "    (76912049, 76912143),\n",
       "    (76918870, 76919047),\n",
       "    (76920133, 76920267),\n",
       "    (76931720, 76931793),\n",
       "    (76937011, 76940085),\n",
       "    (76940430, 76940498),\n",
       "    (76944310, 76944420),\n",
       "    (76949312, 76949426),\n",
       "    (76952064, 76952192),\n",
       "    (76953070, 76953123),\n",
       "    (76954061, 76954117),\n",
       "    (76972607, 76972720),\n",
       "    (77041467, 77041702)],\n",
       "   [(76760357, 76764107),\n",
       "    (76776265, 76776394),\n",
       "    (76776880, 76776976),\n",
       "    (76777740, 76777866),\n",
       "    (76778729, 76778879),\n",
       "    (76812921, 76813116),\n",
       "    (76814139, 76814317),\n",
       "    (76829714, 76829823),\n",
       "    (76845303, 76845410),\n",
       "    (76849165, 76849319),\n",
       "    (76854879, 76855049),\n",
       "    (76855200, 76855289),\n",
       "    (76855902, 76856033),\n",
       "    (76872080, 76872198),\n",
       "    (76874273, 76874449),\n",
       "    (76875862, 76876000),\n",
       "    (76888694, 76888872),\n",
       "    (76889053, 76889200),\n",
       "    (76890084, 76890194),\n",
       "    (76891405, 76891547),\n",
       "    (76907603, 76907843),\n",
       "    (76909587, 76909690),\n",
       "    (76912049, 76912143),\n",
       "    (76918870, 76919047),\n",
       "    (76920133, 76920267),\n",
       "    (76931720, 76931793),\n",
       "    (76937011, 76940085),\n",
       "    (76940430, 76940498),\n",
       "    (76944310, 76944420),\n",
       "    (76952064, 76952192),\n",
       "    (76953070, 76953123),\n",
       "    (76954061, 76954117),\n",
       "    (76972607, 76972720),\n",
       "    (77041467, 77041702)]))]"
      ]
     },
     "execution_count": 9,
     "metadata": {},
     "output_type": "execute_result"
    }
   ],
   "source": [
    "gi.gene_coords_region('chrX', 76500000, 77000000, assembly='hg19')"
   ]
  },
  {
   "cell_type": "code",
   "execution_count": null,
   "metadata": {},
   "outputs": [],
   "source": []
  },
  {
   "cell_type": "code",
   "execution_count": null,
   "metadata": {},
   "outputs": [],
   "source": []
  }
 ],
 "metadata": {
  "kernelspec": {
   "display_name": "Python 3 (ipykernel)",
   "language": "python",
   "name": "python3"
  },
  "language_info": {
   "codemirror_mode": {
    "name": "ipython",
    "version": 3
   },
   "file_extension": ".py",
   "mimetype": "text/x-python",
   "name": "python",
   "nbconvert_exporter": "python",
   "pygments_lexer": "ipython3",
   "version": "3.12.0"
  },
  "widgets": {
   "application/vnd.jupyter.widget-state+json": {
    "state": {},
    "version_major": 2,
    "version_minor": 0
   }
  }
 },
 "nbformat": 4,
 "nbformat_minor": 4
}
