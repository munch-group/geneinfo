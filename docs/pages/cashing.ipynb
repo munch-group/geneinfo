{
 "cells": [
  {
   "cell_type": "raw",
   "id": "99e2557e-c06f-44fa-9a50-605f229ba1a1",
   "metadata": {
    "vscode": {
     "languageId": "raw"
    }
   },
   "source": [
    "---\n",
    "title: Caching\n",
    "jupyter:\n",
    "  kernelspec:\n",
    "    display_name: Python 3 (ipykernel)\n",
    "    language: python\n",
    "    name: python3\n",
    "---"
   ]
  },
  {
   "cell_type": "code",
   "execution_count": 1,
   "id": "bd673122-da73-47ad-8d8c-bbe2b0f6a47f",
   "metadata": {
    "execution": {
     "iopub.execute_input": "2025-02-09T10:25:12.479796Z",
     "iopub.status.busy": "2025-02-09T10:25:12.479501Z",
     "iopub.status.idle": "2025-02-09T10:25:12.502164Z",
     "shell.execute_reply": "2025-02-09T10:25:12.501747Z"
    }
   },
   "outputs": [],
   "source": [
    "#| echo: false\n",
    "#| output: false\n",
    "\n",
    "%load_ext autoreload\n",
    "%autoreload 2"
   ]
  },
  {
   "cell_type": "markdown",
   "id": "51ec830d-c3ce-4743-9005-d0482f9230d2",
   "metadata": {},
   "source": [
    "**geneinfo** will cash information queries to make the notebooks run rast on subsequent executions."
   ]
  },
  {
   "cell_type": "markdown",
   "id": "d1cb2980-6eb4-4173-b7d5-982372a72097",
   "metadata": {},
   "source": [
    "## Clearing the cache\n",
    "\n",
    "To clear that cache use:"
   ]
  },
  {
   "cell_type": "code",
   "execution_count": 2,
   "id": "ce57cdd5-2070-4a40-9bf0-69916099f1de",
   "metadata": {
    "execution": {
     "iopub.execute_input": "2025-02-09T10:25:12.504760Z",
     "iopub.status.busy": "2025-02-09T10:25:12.504589Z",
     "iopub.status.idle": "2025-02-09T10:25:13.496818Z",
     "shell.execute_reply": "2025-02-09T10:25:13.496553Z"
    }
   },
   "outputs": [],
   "source": [
    "import geneinfo.utils as utils\n",
    "\n",
    "utils.clear_cache()"
   ]
  },
  {
   "cell_type": "markdown",
   "id": "24497739-771c-4bbf-a8e9-db49020574c9",
   "metadata": {},
   "source": [
    "## Disabling use of the cache"
   ]
  },
  {
   "cell_type": "markdown",
   "id": "1d00ddb0-27a2-42a1-8b24-a18ab2e7d1c4",
   "metadata": {},
   "source": [
    "To just disable its use for the current kernel, so all info is retrieved anew, use:"
   ]
  },
  {
   "cell_type": "code",
   "execution_count": 3,
   "id": "4a9fdd64-10d1-4e17-ac04-52b661246235",
   "metadata": {
    "execution": {
     "iopub.execute_input": "2025-02-09T10:25:13.498657Z",
     "iopub.status.busy": "2025-02-09T10:25:13.498509Z",
     "iopub.status.idle": "2025-02-09T10:25:13.509891Z",
     "shell.execute_reply": "2025-02-09T10:25:13.509629Z"
    }
   },
   "outputs": [],
   "source": [
    "utils.use_cache = False"
   ]
  },
  {
   "cell_type": "markdown",
   "id": "0dd7ce93-fe50-4d47-a6b0-16ffa58c7740",
   "metadata": {},
   "source": [
    "To switch it back on:"
   ]
  },
  {
   "cell_type": "code",
   "execution_count": 4,
   "id": "6c35590f-931b-4e68-bb59-b5ba23e593da",
   "metadata": {
    "execution": {
     "iopub.execute_input": "2025-02-09T10:25:13.511483Z",
     "iopub.status.busy": "2025-02-09T10:25:13.511406Z",
     "iopub.status.idle": "2025-02-09T10:25:13.522042Z",
     "shell.execute_reply": "2025-02-09T10:25:13.521818Z"
    }
   },
   "outputs": [],
   "source": [
    "utils.use_cache = True"
   ]
  },
  {
   "cell_type": "markdown",
   "id": "57594dc4-7e50-41a4-9093-4d7f3281adc1",
   "metadata": {
    "execution": {
     "iopub.execute_input": "2025-02-08T23:27:00.817186Z",
     "iopub.status.busy": "2025-02-08T23:27:00.817019Z",
     "iopub.status.idle": "2025-02-08T23:27:01.648118Z",
     "shell.execute_reply": "2025-02-08T23:27:01.647843Z"
    }
   },
   "source": [
    "To temporarily disable for a block of code you can use:"
   ]
  },
  {
   "cell_type": "code",
   "execution_count": 5,
   "id": "8c3f0e09-7db5-4321-bc4c-1b6518228b73",
   "metadata": {
    "execution": {
     "iopub.execute_input": "2025-02-09T10:25:13.523467Z",
     "iopub.status.busy": "2025-02-09T10:25:13.523384Z",
     "iopub.status.idle": "2025-02-09T10:25:13.534030Z",
     "shell.execute_reply": "2025-02-09T10:25:13.533795Z"
    }
   },
   "outputs": [],
   "source": [
    "with utils.cache_disabled():\n",
    "    ..."
   ]
  },
  {
   "cell_type": "markdown",
   "id": "0be04f7c-22d6-469f-942b-0428f8ecb154",
   "metadata": {},
   "source": [
    "## Exposing retrieval of information\n",
    "\n",
    "If you want to keep track of when cached information is used and when it is retrieved, you can set:"
   ]
  },
  {
   "cell_type": "code",
   "execution_count": 6,
   "id": "23429cbd-4292-4568-b812-28d10849df65",
   "metadata": {
    "execution": {
     "iopub.execute_input": "2025-02-09T10:25:13.535555Z",
     "iopub.status.busy": "2025-02-09T10:25:13.535479Z",
     "iopub.status.idle": "2025-02-09T10:25:13.546088Z",
     "shell.execute_reply": "2025-02-09T10:25:13.545798Z"
    }
   },
   "outputs": [],
   "source": [
    "utils.verbose_retrieval = True"
   ]
  },
  {
   "cell_type": "markdown",
   "id": "93b88ef4-17e7-4558-b69e-11707ff6d62f",
   "metadata": {},
   "source": [
    "This will print a message to stderr each time data is retrieved."
   ]
  },
  {
   "cell_type": "code",
   "execution_count": null,
   "id": "58e9b7ed-39f8-4ce4-9582-f0e80524f7f7",
   "metadata": {},
   "outputs": [],
   "source": []
  }
 ],
 "metadata": {
  "kernelspec": {
   "display_name": "Python 3 (ipykernel)",
   "language": "python",
   "name": "python3"
  },
  "language_info": {
   "codemirror_mode": {
    "name": "ipython",
    "version": 3
   },
   "file_extension": ".py",
   "mimetype": "text/x-python",
   "name": "python",
   "nbconvert_exporter": "python",
   "pygments_lexer": "ipython3",
   "version": "3.12.0"
  },
  "widgets": {
   "application/vnd.jupyter.widget-state+json": {
    "state": {},
    "version_major": 2,
    "version_minor": 0
   }
  }
 },
 "nbformat": 4,
 "nbformat_minor": 5
}
