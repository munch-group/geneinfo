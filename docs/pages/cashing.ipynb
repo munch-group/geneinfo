{
 "cells": [
  {
   "cell_type": "raw",
   "id": "99e2557e-c06f-44fa-9a50-605f229ba1a1",
   "metadata": {
    "vscode": {
     "languageId": "raw"
    }
   },
   "source": [
    "---\n",
    "title: Caching\n",
    "jupyter:\n",
    "  kernelspec:\n",
    "    display_name: Python 3 (ipykernel)\n",
    "    language: python\n",
    "    name: python3\n",
    "---"
   ]
  },
  {
   "cell_type": "code",
   "execution_count": 1,
   "id": "bd673122-da73-47ad-8d8c-bbe2b0f6a47f",
   "metadata": {},
   "outputs": [],
   "source": [
    "#| echo: false\n",
    "#| output: false\n",
    "\n",
    "%load_ext autoreload\n",
    "%autoreload 2"
   ]
  },
  {
   "cell_type": "markdown",
   "id": "51ec830d-c3ce-4743-9005-d0482f9230d2",
   "metadata": {},
   "source": [
    "**geneinfo** will cash information queries to make the notebooks run rast on subsequent executions. To clear that cache use:"
   ]
  },
  {
   "cell_type": "code",
   "execution_count": 2,
   "id": "cfb801c0-85e6-4e98-bbf0-b1684ed14196",
   "metadata": {},
   "outputs": [],
   "source": [
    "import geneinfo.utils as utils\n",
    "\n",
    "utils.clear_cache()"
   ]
  }
 ],
 "metadata": {
  "kernelspec": {
   "display_name": "Python 3 (ipykernel)",
   "language": "python",
   "name": "python3"
  },
  "language_info": {
   "codemirror_mode": {
    "name": "ipython",
    "version": 3
   },
   "file_extension": ".py",
   "mimetype": "text/x-python",
   "name": "python",
   "nbconvert_exporter": "python",
   "pygments_lexer": "ipython3",
   "version": "3.12.2"
  }
 },
 "nbformat": 4,
 "nbformat_minor": 5
}
