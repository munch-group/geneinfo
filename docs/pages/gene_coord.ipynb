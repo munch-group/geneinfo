{
 "cells": [
  {
   "cell_type": "raw",
   "metadata": {
    "vscode": {
     "languageId": "raw"
    }
   },
   "source": [
    "---\n",
    "title: Gene coordinates\n",
    "jupyter:\n",
    "  kernelspec:\n",
    "    display_name: Python 3 (ipykernel)\n",
    "    language: python\n",
    "    name: python3\n",
    "---"
   ]
  },
  {
   "cell_type": "code",
   "execution_count": 1,
   "metadata": {
    "execution": {
     "iopub.execute_input": "2025-02-09T10:26:26.762832Z",
     "iopub.status.busy": "2025-02-09T10:26:26.762531Z",
     "iopub.status.idle": "2025-02-09T10:26:26.788710Z",
     "shell.execute_reply": "2025-02-09T10:26:26.788192Z"
    }
   },
   "outputs": [],
   "source": [
    "#| echo: false\n",
    "#| output: false\n",
    "\n",
    "%load_ext autoreload\n",
    "%autoreload 2"
   ]
  },
  {
   "cell_type": "code",
   "execution_count": 2,
   "metadata": {
    "execution": {
     "iopub.execute_input": "2025-02-09T10:26:26.791736Z",
     "iopub.status.busy": "2025-02-09T10:26:26.791591Z",
     "iopub.status.idle": "2025-02-09T10:26:27.789009Z",
     "shell.execute_reply": "2025-02-09T10:26:27.788749Z"
    },
    "tags": []
   },
   "outputs": [],
   "source": [
    "import geneinfo.information as gi"
   ]
  },
  {
   "cell_type": "markdown",
   "metadata": {},
   "source": [
    "## Gene coordinates"
   ]
  },
  {
   "cell_type": "code",
   "execution_count": 3,
   "metadata": {
    "execution": {
     "iopub.execute_input": "2025-02-09T10:26:27.790808Z",
     "iopub.status.busy": "2025-02-09T10:26:27.790671Z",
     "iopub.status.idle": "2025-02-09T10:26:27.803998Z",
     "shell.execute_reply": "2025-02-09T10:26:27.803747Z"
    }
   },
   "outputs": [],
   "source": [
    "from geneinfo.utils import clear_cache\n",
    "\n",
    "clear_cache()"
   ]
  },
  {
   "cell_type": "code",
   "execution_count": 4,
   "metadata": {
    "execution": {
     "iopub.execute_input": "2025-02-09T10:26:27.805419Z",
     "iopub.status.busy": "2025-02-09T10:26:27.805336Z",
     "iopub.status.idle": "2025-02-09T10:27:02.719358Z",
     "shell.execute_reply": "2025-02-09T10:27:02.719055Z"
    }
   },
   "outputs": [
    {
     "data": {
      "text/plain": [
       "[('chrX', 37838835, 37847571, 'DYNLT3')]"
      ]
     },
     "execution_count": 4,
     "metadata": {},
     "output_type": "execute_result"
    }
   ],
   "source": [
    "gi.gene_coords('DYNLT3', assembly='hg38')"
   ]
  },
  {
   "cell_type": "code",
   "execution_count": 5,
   "metadata": {
    "execution": {
     "iopub.execute_input": "2025-02-09T10:27:02.742532Z",
     "iopub.status.busy": "2025-02-09T10:27:02.742399Z",
     "iopub.status.idle": "2025-02-09T10:27:41.891258Z",
     "shell.execute_reply": "2025-02-09T10:27:41.890973Z"
    }
   },
   "outputs": [
    {
     "data": {
      "text/plain": [
       "[('chrX', 35179240, 35188256, 'DYNLT3'),\n",
       " ('chrX', 33488516, 33923885, 'CFAP47')]"
      ]
     },
     "execution_count": 5,
     "metadata": {},
     "output_type": "execute_result"
    }
   ],
   "source": [
    "gi.gene_coords(['DYNLT3', 'CFAP47'], assembly='papAnu4')"
   ]
  },
  {
   "cell_type": "markdown",
   "metadata": {},
   "source": [
    "## Get coordinates for genes in a region"
   ]
  },
  {
   "cell_type": "code",
   "execution_count": 6,
   "metadata": {
    "execution": {
     "iopub.execute_input": "2025-02-09T10:27:41.892802Z",
     "iopub.status.busy": "2025-02-09T10:27:41.892685Z",
     "iopub.status.idle": "2025-02-09T10:27:42.572555Z",
     "shell.execute_reply": "2025-02-09T10:27:42.572078Z"
    },
    "tags": []
   },
   "outputs": [
    {
     "data": {
      "text/plain": [
       "[('FGF16',\n",
       "  'chrX',\n",
       "  76709642,\n",
       "  76712769,\n",
       "  ([(76709642, 76709751), (76711767, 76712769)],)),\n",
       " ('ATRX',\n",
       "  'chrX',\n",
       "  76760357,\n",
       "  77041702,\n",
       "  ([(76760357, 76764107),\n",
       "    (76776265, 76776394),\n",
       "    (76776880, 76776976),\n",
       "    (76777740, 76777866),\n",
       "    (76778729, 76778879),\n",
       "    (76812921, 76813116),\n",
       "    (76814139, 76814317),\n",
       "    (76829714, 76829823),\n",
       "    (76845303, 76845410),\n",
       "    (76849165, 76849319),\n",
       "    (76854879, 76855049),\n",
       "    (76855200, 76855289),\n",
       "    (76855902, 76856033),\n",
       "    (76872080, 76872198),\n",
       "    (76874273, 76874449),\n",
       "    (76875862, 76876000),\n",
       "    (76888694, 76888872),\n",
       "    (76889053, 76889200),\n",
       "    (76890084, 76890194),\n",
       "    (76891405, 76891547),\n",
       "    (76907603, 76907843),\n",
       "    (76909587, 76909690),\n",
       "    (76912049, 76912143),\n",
       "    (76918870, 76919047),\n",
       "    (76920133, 76920267),\n",
       "    (76931720, 76931793),\n",
       "    (76937011, 76940085),\n",
       "    (76940430, 76940498),\n",
       "    (76944310, 76944420),\n",
       "    (76949312, 76949426),\n",
       "    (76952064, 76952192),\n",
       "    (76953070, 76953123),\n",
       "    (76954061, 76954117),\n",
       "    (76972607, 76972720),\n",
       "    (77041467, 77041702)],\n",
       "   [(76760357, 76764107),\n",
       "    (76776265, 76776394),\n",
       "    (76776880, 76776976),\n",
       "    (76777740, 76777866),\n",
       "    (76778729, 76778879),\n",
       "    (76812921, 76813116),\n",
       "    (76814139, 76814317),\n",
       "    (76829714, 76829823),\n",
       "    (76845303, 76845410),\n",
       "    (76849165, 76849319),\n",
       "    (76854879, 76855049),\n",
       "    (76855200, 76855289),\n",
       "    (76855902, 76856033),\n",
       "    (76872080, 76872198),\n",
       "    (76874273, 76874449),\n",
       "    (76875862, 76876000),\n",
       "    (76888694, 76888872),\n",
       "    (76889053, 76889200),\n",
       "    (76890084, 76890194),\n",
       "    (76891405, 76891547),\n",
       "    (76907603, 76907843),\n",
       "    (76909587, 76909690),\n",
       "    (76912049, 76912143),\n",
       "    (76918870, 76919047),\n",
       "    (76920133, 76920267),\n",
       "    (76931720, 76931793),\n",
       "    (76937011, 76940085),\n",
       "    (76940430, 76940498),\n",
       "    (76944310, 76944420),\n",
       "    (76952064, 76952192),\n",
       "    (76953070, 76953123),\n",
       "    (76954061, 76954117),\n",
       "    (76972607, 76972720),\n",
       "    (77041467, 77041702)]))]"
      ]
     },
     "execution_count": 6,
     "metadata": {},
     "output_type": "execute_result"
    }
   ],
   "source": [
    "gi.gene_coords_region('chrX', 76500000, 77000000, assembly='hg19')"
   ]
  },
  {
   "cell_type": "code",
   "execution_count": null,
   "metadata": {},
   "outputs": [],
   "source": []
  }
 ],
 "metadata": {
  "kernelspec": {
   "display_name": "Python 3 (ipykernel)",
   "language": "python",
   "name": "python3"
  },
  "language_info": {
   "codemirror_mode": {
    "name": "ipython",
    "version": 3
   },
   "file_extension": ".py",
   "mimetype": "text/x-python",
   "name": "python",
   "nbconvert_exporter": "python",
   "pygments_lexer": "ipython3",
   "version": "3.12.0"
  },
  "widgets": {
   "application/vnd.jupyter.widget-state+json": {
    "state": {},
    "version_major": 2,
    "version_minor": 0
   }
  }
 },
 "nbformat": 4,
 "nbformat_minor": 4
}
